{
 "cells": [
  {
   "cell_type": "code",
   "execution_count": 1,
   "metadata": {},
   "outputs": [],
   "source": [
    "from CGRtools.containers import * # import all containers"
   ]
  },
  {
   "cell_type": "code",
   "execution_count": 2,
   "metadata": {},
   "outputs": [],
   "source": [
    "from CGRtools.containers import MoleculeContainer\n",
    "from CGRtools.containers.bonds import Bond"
   ]
  },
  {
   "cell_type": "code",
   "execution_count": 53,
   "metadata": {},
   "outputs": [],
   "source": [
    "m = MoleculeContainer() # new empty molecule\n",
    "\n",
    "# GLU270\n",
    "m.add_atom('C')  # add Carbon atom using element symbol\n",
    "m.add_atom('C')    # add Carbon atom using element number. {'element': 6} is not valid, but {'element': 'O'} is also acceptable\n",
    "m.add_atom('O', charge=-1) # add negatively charged Oxygen atom. Similarly other atomic properties can be set\n",
    "m.add_atom('O')\n",
    "m.add_bond(1,2,1)\n",
    "m.add_bond(2,3,1)\n",
    "m.add_bond(2,4,2)\n",
    "\n",
    "# peptide\n",
    "m.add_atom('C')\n",
    "m.add_atom('O')\n",
    "m.add_atom('C')\n",
    "m.add_atom('N')\n",
    "m.add_atom('H')\n",
    "m.add_atom('C')\n",
    "m.add_bond(5,6,2)\n",
    "m.add_bond(5,7,1)\n",
    "m.add_bond(5,8,1)\n",
    "m.add_bond(8,9,1)\n",
    "m.add_bond(8,10,1)\n",
    "\n",
    "# central complex\n",
    "m.add_atom('Zn')\n",
    "\n",
    "## His 196\n",
    "m.add_atom('N')\n",
    "m.add_atom('C')\n",
    "m.add_atom('C')\n",
    "m.add_atom('C')\n",
    "m.add_atom('N')\n",
    "m.add_atom('C')\n",
    "m.add_bond(12,13,1)\n",
    "m.add_bond(12,14,1)\n",
    "m.add_bond(13,15,2)\n",
    "m.add_bond(14,16,2)\n",
    "m.add_bond(16,15,1)\n",
    "m.add_bond(15,17,1)\n",
    "\n",
    "## His 69\n",
    "m.add_atom('N')\n",
    "m.add_atom('C')\n",
    "m.add_atom('C')\n",
    "m.add_atom('C')\n",
    "m.add_atom('N')\n",
    "m.add_atom('C')\n",
    "m.add_bond(18,19,1)\n",
    "m.add_bond(18,20,1)\n",
    "m.add_bond(19,21,2)\n",
    "m.add_bond(20,22,2)\n",
    "m.add_bond(22,21,1)\n",
    "m.add_bond(21,23,1)\n",
    "\n",
    "# GLU 72\n",
    "m.add_atom('C')  # add Carbon atom using element symbol\n",
    "m.add_atom('C')    # add Carbon atom using element number. {'element': 6} is not valid, but {'element': 'O'} is also acceptable\n",
    "m.add_atom('O') # add negatively charged Oxygen atom. Similarly other atomic properties can be set\n",
    "m.add_atom('O')\n",
    "m.add_bond(24,25,1)\n",
    "m.add_bond(25,26,1)\n",
    "m.add_bond(25,27,2)\n",
    "\n",
    "# H2O\n",
    "m.add_atom('H')\n",
    "m.add_atom('H')\n",
    "m.add_atom('O')\n",
    "m.add_bond(28,30,1)\n",
    "m.add_bond(29,30,1)\n",
    "\n",
    "# H2O\n",
    "m.add_atom('H')\n",
    "m.add_atom('H')\n",
    "m.add_atom('O')\n",
    "m.add_bond(31,33,1)\n",
    "m.add_bond(32,33,1)"
   ]
  },
  {
   "cell_type": "code",
   "execution_count": 54,
   "metadata": {},
   "outputs": [],
   "source": [
    "# COMPLEX\n",
    "\n",
    "m.add_bond(11,26,1)\n",
    "m.add_bond(11,12,1)\n",
    "m.add_bond(11,18,1)\n",
    "m.add_bond(11,30,1)\n"
   ]
  },
  {
   "cell_type": "code",
   "execution_count": 55,
   "metadata": {},
   "outputs": [
    {
     "data": {
      "image/svg+xml": "<svg width=\"12.20cm\" height=\"4.70cm\" viewBox=\"-11.32 -3.06 12.20 4.70\" xmlns=\"http://www.w3.org/2000/svg\" version=\"1.1\">\n  <g>\n    <defs>\n      <mask id=\"mask-9faece84-f52e-4b4e-9212-7ebbf76bdb88\">\n        <rect x=\"-11.32\" y=\"-3.06\" width=\"12.20\" height=\"4.70\" fill=\"white\"/>\n        <g fill=\"black\">\n          <circle cx=\"-0.71\" cy=\"-1.24\" r=\"0.20\"/>\n          <circle cx=\"0.00\" cy=\"-0.00\" r=\"0.20\"/>\n          <circle cx=\"-5.72\" cy=\"0.00\" r=\"0.20\"/>\n          <circle cx=\"-4.29\" cy=\"0.00\" r=\"0.20\"/>\n          <circle cx=\"-4.29\" cy=\"0.83\" r=\"0.20\"/>\n          <ellipse cx=\"-7.93\" cy=\"-0.41\" rx=\"0.35\" ry=\"0.2\"/>\n          <circle cx=\"-7.45\" cy=\"-1.13\" r=\"0.20\"/>\n          <circle cx=\"-7.17\" cy=\"-2.43\" r=\"0.20\"/>\n          <circle cx=\"-8.57\" cy=\"-0.83\" r=\"0.20\"/>\n          <circle cx=\"-9.47\" cy=\"-1.82\" r=\"0.20\"/>\n          <circle cx=\"-8.27\" cy=\"0.30\" r=\"0.20\"/>\n          <circle cx=\"-9.51\" cy=\"1.02\" r=\"0.20\"/>\n          <circle cx=\"-7.14\" cy=\"0.83\" r=\"0.20\"/>\n          <circle cx=\"-6.43\" cy=\"-0.41\" r=\"0.20\"/>\n          <circle cx=\"-7.14\" cy=\"0.00\" r=\"0.20\"/>\n          <circle cx=\"-2.86\" cy=\"0.00\" r=\"0.20\"/>\n          <circle cx=\"-2.14\" cy=\"-1.24\" r=\"0.20\"/>\n          <circle cx=\"-2.14\" cy=\"-0.41\" r=\"0.20\"/>\n        </g>\n        <g font-family=\"monospace\" stroke=\"black\">\n          <g font-family=\"sans-serif\" font-size=\"0.50\" stroke-width=\"0.05\">\n            <text x=\"-0.71\" y=\"-1.24\" dx=\"-0.20\" dy=\"0.20\">O</text>\n            <text x=\"0.00\" y=\"-0.00\" dx=\"-0.20\" dy=\"0.20\">O</text>\n            <text x=\"-5.72\" y=\"0.00\" dx=\"-0.20\" dy=\"0.20\">O</text>\n            <text x=\"-4.29\" y=\"0.00\" dx=\"-0.20\" dy=\"0.20\">N</text>\n            <text x=\"-4.29\" y=\"0.83\" dx=\"-0.20\" dy=\"0.20\">H</text>\n            <text x=\"-7.86\" y=\"-0.41\" dx=\"-0.35\" dy=\"0.20\">Zn</text>\n            <text x=\"-7.45\" y=\"-1.13\" dx=\"-0.20\" dy=\"0.20\">N</text>\n            <text x=\"-7.17\" y=\"-2.43\" dx=\"-0.20\" dy=\"0.20\">N</text>\n            <text x=\"-8.57\" y=\"-0.83\" dx=\"-0.20\" dy=\"0.20\">N</text>\n            <text x=\"-9.47\" y=\"-1.82\" dx=\"-0.20\" dy=\"0.20\">N</text>\n            <text x=\"-8.27\" y=\"0.30\" dx=\"-0.20\" dy=\"0.20\">O</text>\n            <text x=\"-9.51\" y=\"1.02\" dx=\"-0.20\" dy=\"0.20\">O</text>\n            <text x=\"-7.14\" y=\"0.83\" dx=\"-0.20\" dy=\"0.20\">H</text>\n            <text x=\"-6.43\" y=\"-0.41\" dx=\"-0.20\" dy=\"0.20\">H</text>\n            <text x=\"-7.14\" y=\"0.00\" dx=\"-0.20\" dy=\"0.20\">O</text>\n            <text x=\"-2.86\" y=\"0.00\" dx=\"-0.20\" dy=\"0.20\">H</text>\n            <text x=\"-2.14\" y=\"-1.24\" dx=\"-0.20\" dy=\"0.20\">H</text>\n            <text x=\"-2.14\" y=\"-0.41\" dx=\"-0.20\" dy=\"0.20\">O</text>\n          </g>\n          <g font-size=\"0.25\" stroke-width=\"0.03\">\n            <text x=\"-1.43\" y=\"0.00\" dx=\"-0.05\" dy=\"0.20\" text-anchor=\"end\">1</text>\n            <text x=\"-0.71\" y=\"-0.41\" dx=\"-0.05\" dy=\"0.20\" text-anchor=\"end\">2</text>\n            <text x=\"-0.71\" y=\"-1.24\" dx=\"-0.15\" dy=\"0.35\" text-anchor=\"end\">3</text>\n            <text x=\"0.00\" y=\"-0.00\" dx=\"-0.15\" dy=\"0.35\" text-anchor=\"end\">4</text>\n            <text x=\"-5.00\" y=\"-0.41\" dx=\"-0.05\" dy=\"0.20\" text-anchor=\"end\">5</text>\n            <text x=\"-5.72\" y=\"0.00\" dx=\"-0.15\" dy=\"0.35\" text-anchor=\"end\">6</text>\n            <text x=\"-5.00\" y=\"-1.24\" dx=\"-0.05\" dy=\"0.20\" text-anchor=\"end\">7</text>\n            <text x=\"-4.29\" y=\"0.00\" dx=\"-0.15\" dy=\"0.35\" text-anchor=\"end\">8</text>\n            <text x=\"-4.29\" y=\"0.83\" dx=\"-0.15\" dy=\"0.35\" text-anchor=\"end\">9</text>\n            <text x=\"-3.57\" y=\"-0.41\" dx=\"-0.05\" dy=\"0.20\" text-anchor=\"end\">10</text>\n            <text x=\"-7.86\" y=\"-0.41\" dx=\"-0.30\" dy=\"0.35\" text-anchor=\"end\">11</text>\n            <text x=\"-7.45\" y=\"-1.13\" dx=\"-0.15\" dy=\"0.35\" text-anchor=\"end\">12</text>\n            <text x=\"-6.63\" y=\"-1.21\" dx=\"-0.05\" dy=\"0.20\" text-anchor=\"end\">13</text>\n            <text x=\"-7.78\" y=\"-1.88\" dx=\"-0.05\" dy=\"0.20\" text-anchor=\"end\">14</text>\n            <text x=\"-6.45\" y=\"-2.02\" dx=\"-0.05\" dy=\"0.20\" text-anchor=\"end\">15</text>\n            <text x=\"-7.17\" y=\"-2.43\" dx=\"-0.15\" dy=\"0.35\" text-anchor=\"end\">16</text>\n            <text x=\"-5.70\" y=\"-2.36\" dx=\"-0.05\" dy=\"0.20\" text-anchor=\"end\">17</text>\n            <text x=\"-8.57\" y=\"-0.83\" dx=\"-0.15\" dy=\"0.35\" text-anchor=\"end\">18</text>\n            <text x=\"-9.33\" y=\"-0.49\" dx=\"-0.05\" dy=\"0.20\" text-anchor=\"end\">19</text>\n            <text x=\"-8.66\" y=\"-1.65\" dx=\"-0.05\" dy=\"0.20\" text-anchor=\"end\">20</text>\n            <text x=\"-9.88\" y=\"-1.10\" dx=\"-0.05\" dy=\"0.20\" text-anchor=\"end\">21</text>\n            <text x=\"-9.47\" y=\"-1.82\" dx=\"-0.15\" dy=\"0.35\" text-anchor=\"end\">22</text>\n            <text x=\"-10.70\" y=\"-1.02\" dx=\"-0.05\" dy=\"0.20\" text-anchor=\"end\">23</text>\n            <text x=\"-9.73\" y=\"-0.23\" dx=\"-0.05\" dy=\"0.20\" text-anchor=\"end\">24</text>\n            <text x=\"-9.10\" y=\"0.30\" dx=\"-0.05\" dy=\"0.20\" text-anchor=\"end\">25</text>\n            <text x=\"-8.27\" y=\"0.30\" dx=\"-0.15\" dy=\"0.35\" text-anchor=\"end\">26</text>\n            <text x=\"-9.51\" y=\"1.02\" dx=\"-0.15\" dy=\"0.35\" text-anchor=\"end\">27</text>\n            <text x=\"-7.14\" y=\"0.83\" dx=\"-0.15\" dy=\"0.35\" text-anchor=\"end\">28</text>\n            <text x=\"-6.43\" y=\"-0.41\" dx=\"-0.15\" dy=\"0.35\" text-anchor=\"end\">29</text>\n            <text x=\"-7.14\" y=\"0.00\" dx=\"-0.15\" dy=\"0.35\" text-anchor=\"end\">30</text>\n            <text x=\"-2.86\" y=\"0.00\" dx=\"-0.15\" dy=\"0.35\" text-anchor=\"end\">31</text>\n            <text x=\"-2.14\" y=\"-1.24\" dx=\"-0.15\" dy=\"0.35\" text-anchor=\"end\">32</text>\n            <text x=\"-2.14\" y=\"-0.41\" dx=\"-0.15\" dy=\"0.35\" text-anchor=\"end\">33</text>\n          </g>\n          <g font-family=\"monospace\" font-size=\"0.3\" stroke-width=\"0.03\">\n           <text x=\"-0.71\" y=\"-1.24\" dx=\"0.05\" dy=\"-0.20\">-</text>\n          </g>\n        </g>\n      </mask>\n    </defs>\n    <g fill=\"none\" stroke=\"black\" stroke-width=\"0.04\"  mask=\"url(#mask-9faece84-f52e-4b4e-9212-7ebbf76bdb88)\">\n      <line x1=\"-1.43\" y1=\"0.00\" x2=\"-0.71\" y2=\"-0.41\"/>\n      <line x1=\"-0.71\" y1=\"-0.41\" x2=\"-0.71\" y2=\"-1.24\"/>\n      <line x1=\"-0.68\" y1=\"-0.46\" x2=\"0.03\" y2=\"-0.05\"/>\n      <line x1=\"-0.74\" y1=\"-0.36\" x2=\"-0.03\" y2=\"0.05\"/>\n      <line x1=\"-4.97\" y1=\"-0.36\" x2=\"-5.69\" y2=\"0.05\"/>\n      <line x1=\"-5.03\" y1=\"-0.46\" x2=\"-5.75\" y2=\"-0.05\"/>\n      <line x1=\"-5.00\" y1=\"-0.41\" x2=\"-5.00\" y2=\"-1.24\"/>\n      <line x1=\"-5.00\" y1=\"-0.41\" x2=\"-4.29\" y2=\"0.00\"/>\n      <line x1=\"-4.29\" y1=\"0.00\" x2=\"-4.29\" y2=\"0.83\"/>\n      <line x1=\"-4.29\" y1=\"0.00\" x2=\"-3.57\" y2=\"-0.41\"/>\n      <line x1=\"-7.86\" y1=\"-0.41\" x2=\"-8.27\" y2=\"0.30\"/>\n      <line x1=\"-7.86\" y1=\"-0.41\" x2=\"-7.45\" y2=\"-1.13\"/>\n      <line x1=\"-7.86\" y1=\"-0.41\" x2=\"-8.57\" y2=\"-0.83\"/>\n      <line x1=\"-7.86\" y1=\"-0.41\" x2=\"-7.14\" y2=\"0.00\"/>\n      <line x1=\"-7.45\" y1=\"-1.13\" x2=\"-6.63\" y2=\"-1.21\"/>\n      <line x1=\"-7.45\" y1=\"-1.13\" x2=\"-7.78\" y2=\"-1.88\"/>\n      <line x1=\"-6.68\" y1=\"-1.23\" x2=\"-6.51\" y2=\"-2.03\"/>\n      <line x1=\"-6.57\" y1=\"-1.20\" x2=\"-6.40\" y2=\"-2.01\"/>\n      <line x1=\"-7.82\" y1=\"-1.93\" x2=\"-7.21\" y2=\"-2.48\"/>\n      <line x1=\"-7.74\" y1=\"-1.84\" x2=\"-7.13\" y2=\"-2.39\"/>\n      <line x1=\"-6.45\" y1=\"-2.02\" x2=\"-7.17\" y2=\"-2.43\"/>\n      <line x1=\"-6.45\" y1=\"-2.02\" x2=\"-5.70\" y2=\"-2.36\"/>\n      <line x1=\"-8.57\" y1=\"-0.83\" x2=\"-9.33\" y2=\"-0.49\"/>\n      <line x1=\"-8.57\" y1=\"-0.83\" x2=\"-8.66\" y2=\"-1.65\"/>\n      <line x1=\"-9.37\" y1=\"-0.45\" x2=\"-9.92\" y2=\"-1.06\"/>\n      <line x1=\"-9.28\" y1=\"-0.53\" x2=\"-9.83\" y2=\"-1.14\"/>\n      <line x1=\"-8.67\" y1=\"-1.59\" x2=\"-9.48\" y2=\"-1.76\"/>\n      <line x1=\"-8.65\" y1=\"-1.70\" x2=\"-9.45\" y2=\"-1.88\"/>\n      <line x1=\"-9.88\" y1=\"-1.10\" x2=\"-9.47\" y2=\"-1.82\"/>\n      <line x1=\"-9.88\" y1=\"-1.10\" x2=\"-10.70\" y2=\"-1.02\"/>\n      <line x1=\"-9.73\" y1=\"-0.23\" x2=\"-9.10\" y2=\"0.30\"/>\n      <line x1=\"-9.10\" y1=\"0.30\" x2=\"-8.27\" y2=\"0.30\"/>\n      <line x1=\"-9.04\" y1=\"0.33\" x2=\"-9.46\" y2=\"1.05\"/>\n      <line x1=\"-9.15\" y1=\"0.27\" x2=\"-9.56\" y2=\"0.99\"/>\n      <line x1=\"-7.14\" y1=\"0.83\" x2=\"-7.14\" y2=\"0.00\"/>\n      <line x1=\"-6.43\" y1=\"-0.41\" x2=\"-7.14\" y2=\"0.00\"/>\n      <line x1=\"-2.86\" y1=\"0.00\" x2=\"-2.14\" y2=\"-0.41\"/>\n      <line x1=\"-2.14\" y1=\"-1.24\" x2=\"-2.14\" y2=\"-0.41\"/>\n    </g>\n    <g font-family=\"monospace\">\n      <g fill=\"#FF0D0D\" font-family=\"sans-serif\">\n        <text x=\"-0.71\" y=\"-1.24\" dx=\"-0.20\" dy=\"0.20\" font-size=\"0.50\">O</text>\n      </g>\n      <g fill=\"#FF0D0D\" font-family=\"sans-serif\">\n        <text x=\"0.00\" y=\"-0.00\" dx=\"-0.20\" dy=\"0.20\" font-size=\"0.50\">O</text>\n      </g>\n      <g fill=\"#FF0D0D\" font-family=\"sans-serif\">\n        <text x=\"-5.72\" y=\"0.00\" dx=\"-0.20\" dy=\"0.20\" font-size=\"0.50\">O</text>\n      </g>\n      <g fill=\"#3050F8\" font-family=\"sans-serif\">\n        <text x=\"-4.29\" y=\"0.00\" dx=\"-0.20\" dy=\"0.20\" font-size=\"0.50\">N</text>\n      </g>\n      <g fill=\"#909090\" font-family=\"sans-serif\">\n        <text x=\"-4.29\" y=\"0.83\" dx=\"-0.20\" dy=\"0.20\" font-size=\"0.50\">H</text>\n      </g>\n      <g fill=\"#7D80B0\" font-family=\"sans-serif\">\n        <text x=\"-7.86\" y=\"-0.41\" dx=\"-0.35\" dy=\"0.20\" font-size=\"0.50\">Zn</text>\n      </g>\n      <g fill=\"#3050F8\" font-family=\"sans-serif\">\n        <text x=\"-7.45\" y=\"-1.13\" dx=\"-0.20\" dy=\"0.20\" font-size=\"0.50\">N</text>\n      </g>\n      <g fill=\"#3050F8\" font-family=\"sans-serif\">\n        <text x=\"-7.17\" y=\"-2.43\" dx=\"-0.20\" dy=\"0.20\" font-size=\"0.50\">N</text>\n      </g>\n      <g fill=\"#3050F8\" font-family=\"sans-serif\">\n        <text x=\"-8.57\" y=\"-0.83\" dx=\"-0.20\" dy=\"0.20\" font-size=\"0.50\">N</text>\n      </g>\n      <g fill=\"#3050F8\" font-family=\"sans-serif\">\n        <text x=\"-9.47\" y=\"-1.82\" dx=\"-0.20\" dy=\"0.20\" font-size=\"0.50\">N</text>\n      </g>\n      <g fill=\"#FF0D0D\" font-family=\"sans-serif\">\n        <text x=\"-8.27\" y=\"0.30\" dx=\"-0.20\" dy=\"0.20\" font-size=\"0.50\">O</text>\n      </g>\n      <g fill=\"#FF0D0D\" font-family=\"sans-serif\">\n        <text x=\"-9.51\" y=\"1.02\" dx=\"-0.20\" dy=\"0.20\" font-size=\"0.50\">O</text>\n      </g>\n      <g fill=\"#909090\" font-family=\"sans-serif\">\n        <text x=\"-7.14\" y=\"0.83\" dx=\"-0.20\" dy=\"0.20\" font-size=\"0.50\">H</text>\n      </g>\n      <g fill=\"#909090\" font-family=\"sans-serif\">\n        <text x=\"-6.43\" y=\"-0.41\" dx=\"-0.20\" dy=\"0.20\" font-size=\"0.50\">H</text>\n      </g>\n      <g fill=\"#FF0D0D\" font-family=\"sans-serif\">\n        <text x=\"-7.14\" y=\"0.00\" dx=\"-0.20\" dy=\"0.20\" font-size=\"0.50\">O</text>\n      </g>\n      <g fill=\"#909090\" font-family=\"sans-serif\">\n        <text x=\"-2.86\" y=\"0.00\" dx=\"-0.20\" dy=\"0.20\" font-size=\"0.50\">H</text>\n      </g>\n      <g fill=\"#909090\" font-family=\"sans-serif\">\n        <text x=\"-2.14\" y=\"-1.24\" dx=\"-0.20\" dy=\"0.20\" font-size=\"0.50\">H</text>\n      </g>\n      <g fill=\"#FF0D0D\" font-family=\"sans-serif\">\n        <text x=\"-2.14\" y=\"-0.41\" dx=\"-0.20\" dy=\"0.20\" font-size=\"0.50\">O</text>\n      </g>\n      <g font-family=\"monospace\" fill=\"black\" font-size=\"0.30\">\n        <text x=\"-0.71\" y=\"-1.24\" dx=\"0.05\" dy=\"-0.20\">-</text>\n      </g>\n      <g fill=\"#0305A7\" font-size=\"0.25\">\n        <text x=\"-1.43\" y=\"0.00\" dx=\"-0.05\" dy=\"0.20\" text-anchor=\"end\">1</text>\n        <text x=\"-0.71\" y=\"-0.41\" dx=\"-0.05\" dy=\"0.20\" text-anchor=\"end\">2</text>\n        <text x=\"-0.71\" y=\"-1.24\" dx=\"-0.15\" dy=\"0.35\" text-anchor=\"end\">3</text>\n        <text x=\"0.00\" y=\"-0.00\" dx=\"-0.15\" dy=\"0.35\" text-anchor=\"end\">4</text>\n        <text x=\"-5.00\" y=\"-0.41\" dx=\"-0.05\" dy=\"0.20\" text-anchor=\"end\">5</text>\n        <text x=\"-5.72\" y=\"0.00\" dx=\"-0.15\" dy=\"0.35\" text-anchor=\"end\">6</text>\n        <text x=\"-5.00\" y=\"-1.24\" dx=\"-0.05\" dy=\"0.20\" text-anchor=\"end\">7</text>\n        <text x=\"-4.29\" y=\"0.00\" dx=\"-0.15\" dy=\"0.35\" text-anchor=\"end\">8</text>\n        <text x=\"-4.29\" y=\"0.83\" dx=\"-0.15\" dy=\"0.35\" text-anchor=\"end\">9</text>\n        <text x=\"-3.57\" y=\"-0.41\" dx=\"-0.05\" dy=\"0.20\" text-anchor=\"end\">10</text>\n        <text x=\"-7.86\" y=\"-0.41\" dx=\"-0.30\" dy=\"0.35\" text-anchor=\"end\">11</text>\n        <text x=\"-7.45\" y=\"-1.13\" dx=\"-0.15\" dy=\"0.35\" text-anchor=\"end\">12</text>\n        <text x=\"-6.63\" y=\"-1.21\" dx=\"-0.05\" dy=\"0.20\" text-anchor=\"end\">13</text>\n        <text x=\"-7.78\" y=\"-1.88\" dx=\"-0.05\" dy=\"0.20\" text-anchor=\"end\">14</text>\n        <text x=\"-6.45\" y=\"-2.02\" dx=\"-0.05\" dy=\"0.20\" text-anchor=\"end\">15</text>\n        <text x=\"-7.17\" y=\"-2.43\" dx=\"-0.15\" dy=\"0.35\" text-anchor=\"end\">16</text>\n        <text x=\"-5.70\" y=\"-2.36\" dx=\"-0.05\" dy=\"0.20\" text-anchor=\"end\">17</text>\n        <text x=\"-8.57\" y=\"-0.83\" dx=\"-0.15\" dy=\"0.35\" text-anchor=\"end\">18</text>\n        <text x=\"-9.33\" y=\"-0.49\" dx=\"-0.05\" dy=\"0.20\" text-anchor=\"end\">19</text>\n        <text x=\"-8.66\" y=\"-1.65\" dx=\"-0.05\" dy=\"0.20\" text-anchor=\"end\">20</text>\n        <text x=\"-9.88\" y=\"-1.10\" dx=\"-0.05\" dy=\"0.20\" text-anchor=\"end\">21</text>\n        <text x=\"-9.47\" y=\"-1.82\" dx=\"-0.15\" dy=\"0.35\" text-anchor=\"end\">22</text>\n        <text x=\"-10.70\" y=\"-1.02\" dx=\"-0.05\" dy=\"0.20\" text-anchor=\"end\">23</text>\n        <text x=\"-9.73\" y=\"-0.23\" dx=\"-0.05\" dy=\"0.20\" text-anchor=\"end\">24</text>\n        <text x=\"-9.10\" y=\"0.30\" dx=\"-0.05\" dy=\"0.20\" text-anchor=\"end\">25</text>\n        <text x=\"-8.27\" y=\"0.30\" dx=\"-0.15\" dy=\"0.35\" text-anchor=\"end\">26</text>\n        <text x=\"-9.51\" y=\"1.02\" dx=\"-0.15\" dy=\"0.35\" text-anchor=\"end\">27</text>\n        <text x=\"-7.14\" y=\"0.83\" dx=\"-0.15\" dy=\"0.35\" text-anchor=\"end\">28</text>\n        <text x=\"-6.43\" y=\"-0.41\" dx=\"-0.15\" dy=\"0.35\" text-anchor=\"end\">29</text>\n        <text x=\"-7.14\" y=\"0.00\" dx=\"-0.15\" dy=\"0.35\" text-anchor=\"end\">30</text>\n        <text x=\"-2.86\" y=\"0.00\" dx=\"-0.15\" dy=\"0.35\" text-anchor=\"end\">31</text>\n        <text x=\"-2.14\" y=\"-1.24\" dx=\"-0.15\" dy=\"0.35\" text-anchor=\"end\">32</text>\n        <text x=\"-2.14\" y=\"-0.41\" dx=\"-0.15\" dy=\"0.35\" text-anchor=\"end\">33</text>\n      </g>\n    </g>\n  </g>\n</svg>",
      "text/plain": [
       "<CGRtools.containers.molecule.MoleculeContainer at 0x7f3209bee8e0>"
      ]
     },
     "execution_count": 55,
     "metadata": {},
     "output_type": "execute_result"
    }
   ],
   "source": [
    "m.clean2d()\n",
    "m"
   ]
  },
  {
   "cell_type": "code",
   "execution_count": 56,
   "metadata": {},
   "outputs": [],
   "source": [
    "m2 = m.copy()\n",
    "m2.add_bond(30,5,1)\n",
    "m2.delete_bond(5,6)\n",
    "m2.add_bond(5,6,1)\n",
    "m2.delete_bond(30,29)\n",
    "m2.add_bond(29,3,1)\n",
    "\n",
    "a = m2.atom(6)\n",
    "a.charge = -1\n",
    "\n",
    "a = m2.atom(30)\n",
    "a.charge = 1"
   ]
  },
  {
   "cell_type": "code",
   "execution_count": 57,
   "metadata": {},
   "outputs": [
    {
     "data": {
      "image/svg+xml": "<svg width=\"9.17cm\" height=\"6.11cm\" viewBox=\"-4.51 -1.00 9.17 6.11\" xmlns=\"http://www.w3.org/2000/svg\" version=\"1.1\">\n  <g>\n    <defs>\n      <mask id=\"mask-43f980c1-619b-4042-8cad-31544f918f04\">\n        <rect x=\"-4.51\" y=\"-1.00\" width=\"9.17\" height=\"6.11\" fill=\"white\"/>\n        <g fill=\"black\">\n          <circle cx=\"-1.72\" cy=\"1.40\" r=\"0.20\"/>\n          <circle cx=\"-1.42\" cy=\"2.79\" r=\"0.20\"/>\n          <circle cx=\"3.68\" cy=\"2.47\" r=\"0.20\"/>\n          <circle cx=\"2.97\" cy=\"1.24\" r=\"0.20\"/>\n          <circle cx=\"2.19\" cy=\"1.52\" r=\"0.20\"/>\n          <ellipse cx=\"1.35\" cy=\"1.65\" rx=\"0.35\" ry=\"0.2\"/>\n          <circle cx=\"1.84\" cy=\"0.94\" r=\"0.20\"/>\n          <circle cx=\"2.12\" cy=\"-0.37\" r=\"0.20\"/>\n          <circle cx=\"1.02\" cy=\"2.36\" r=\"0.20\"/>\n          <circle cx=\"0.02\" cy=\"3.26\" r=\"0.20\"/>\n          <circle cx=\"0.71\" cy=\"1.24\" r=\"0.20\"/>\n          <circle cx=\"0.00\" cy=\"-0.00\" r=\"0.20\"/>\n          <circle cx=\"2.29\" cy=\"2.87\" r=\"0.20\"/>\n          <circle cx=\"-2.52\" cy=\"1.57\" r=\"0.20\"/>\n          <circle cx=\"2.14\" cy=\"2.06\" r=\"0.20\"/>\n          <circle cx=\"-2.82\" cy=\"0.17\" r=\"0.20\"/>\n          <circle cx=\"-3.88\" cy=\"1.13\" r=\"0.20\"/>\n          <circle cx=\"-3.07\" cy=\"0.95\" r=\"0.20\"/>\n        </g>\n        <g font-family=\"monospace\" stroke=\"black\">\n          <g font-family=\"sans-serif\" font-size=\"0.50\" stroke-width=\"0.05\">\n            <text x=\"-1.72\" y=\"1.40\" dx=\"-0.20\" dy=\"0.20\">O</text>\n            <text x=\"-1.42\" y=\"2.79\" dx=\"-0.20\" dy=\"0.20\">O</text>\n            <text x=\"3.68\" y=\"2.47\" dx=\"-0.20\" dy=\"0.20\">O</text>\n            <text x=\"2.97\" y=\"1.24\" dx=\"-0.20\" dy=\"0.20\">N</text>\n            <text x=\"2.19\" y=\"1.52\" dx=\"-0.20\" dy=\"0.20\">H</text>\n            <text x=\"1.43\" y=\"1.65\" dx=\"-0.35\" dy=\"0.20\">Zn</text>\n            <text x=\"1.84\" y=\"0.94\" dx=\"-0.20\" dy=\"0.20\">N</text>\n            <text x=\"2.12\" y=\"-0.37\" dx=\"-0.20\" dy=\"0.20\">N</text>\n            <text x=\"1.02\" y=\"2.36\" dx=\"-0.20\" dy=\"0.20\">N</text>\n            <text x=\"0.02\" y=\"3.26\" dx=\"-0.20\" dy=\"0.20\">N</text>\n            <text x=\"0.71\" y=\"1.24\" dx=\"-0.20\" dy=\"0.20\">O</text>\n            <text x=\"0.00\" y=\"-0.00\" dx=\"-0.20\" dy=\"0.20\">O</text>\n            <text x=\"2.29\" y=\"2.87\" dx=\"-0.20\" dy=\"0.20\">H</text>\n            <text x=\"-2.52\" y=\"1.57\" dx=\"-0.20\" dy=\"0.20\">H</text>\n            <text x=\"2.14\" y=\"2.06\" dx=\"-0.20\" dy=\"0.20\">O</text>\n            <text x=\"-2.82\" y=\"0.17\" dx=\"-0.20\" dy=\"0.20\">H</text>\n            <text x=\"-3.88\" y=\"1.13\" dx=\"-0.20\" dy=\"0.20\">H</text>\n            <text x=\"-3.07\" y=\"0.95\" dx=\"-0.20\" dy=\"0.20\">O</text>\n          </g>\n          <g font-size=\"0.25\" stroke-width=\"0.03\">\n            <text x=\"-0.36\" y=\"1.84\" dx=\"-0.05\" dy=\"0.20\" text-anchor=\"end\">1</text>\n            <text x=\"-1.16\" y=\"2.01\" dx=\"-0.05\" dy=\"0.20\" text-anchor=\"end\">2</text>\n            <text x=\"-1.72\" y=\"1.40\" dx=\"-0.15\" dy=\"0.35\" text-anchor=\"end\">3</text>\n            <text x=\"-1.42\" y=\"2.79\" dx=\"-0.15\" dy=\"0.35\" text-anchor=\"end\">4</text>\n            <text x=\"2.97\" y=\"2.06\" dx=\"-0.05\" dy=\"0.20\" text-anchor=\"end\">5</text>\n            <text x=\"3.68\" y=\"2.47\" dx=\"-0.15\" dy=\"0.35\" text-anchor=\"end\">6</text>\n            <text x=\"3.25\" y=\"2.84\" dx=\"-0.05\" dy=\"0.20\" text-anchor=\"end\">7</text>\n            <text x=\"2.97\" y=\"1.24\" dx=\"-0.15\" dy=\"0.35\" text-anchor=\"end\">8</text>\n            <text x=\"2.19\" y=\"1.52\" dx=\"-0.15\" dy=\"0.35\" text-anchor=\"end\">9</text>\n            <text x=\"3.79\" y=\"1.24\" dx=\"-0.05\" dy=\"0.20\" text-anchor=\"end\">10</text>\n            <text x=\"1.43\" y=\"1.65\" dx=\"-0.30\" dy=\"0.35\" text-anchor=\"end\">11</text>\n            <text x=\"1.84\" y=\"0.94\" dx=\"-0.15\" dy=\"0.35\" text-anchor=\"end\">12</text>\n            <text x=\"2.66\" y=\"0.85\" dx=\"-0.05\" dy=\"0.20\" text-anchor=\"end\">13</text>\n            <text x=\"1.51\" y=\"0.18\" dx=\"-0.05\" dy=\"0.20\" text-anchor=\"end\">14</text>\n            <text x=\"2.83\" y=\"0.04\" dx=\"-0.05\" dy=\"0.20\" text-anchor=\"end\">15</text>\n            <text x=\"2.12\" y=\"-0.37\" dx=\"-0.15\" dy=\"0.35\" text-anchor=\"end\">16</text>\n            <text x=\"3.59\" y=\"-0.29\" dx=\"-0.05\" dy=\"0.20\" text-anchor=\"end\">17</text>\n            <text x=\"1.02\" y=\"2.36\" dx=\"-0.15\" dy=\"0.35\" text-anchor=\"end\">18</text>\n            <text x=\"1.35\" y=\"3.12\" dx=\"-0.05\" dy=\"0.20\" text-anchor=\"end\">19</text>\n            <text x=\"0.20\" y=\"2.45\" dx=\"-0.05\" dy=\"0.20\" text-anchor=\"end\">20</text>\n            <text x=\"0.74\" y=\"3.67\" dx=\"-0.05\" dy=\"0.20\" text-anchor=\"end\">21</text>\n            <text x=\"0.02\" y=\"3.26\" dx=\"-0.15\" dy=\"0.35\" text-anchor=\"end\">22</text>\n            <text x=\"0.83\" y=\"4.49\" dx=\"-0.05\" dy=\"0.20\" text-anchor=\"end\">23</text>\n            <text x=\"1.24\" y=\"-0.22\" dx=\"-0.05\" dy=\"0.20\" text-anchor=\"end\">24</text>\n            <text x=\"0.71\" y=\"0.41\" dx=\"-0.05\" dy=\"0.20\" text-anchor=\"end\">25</text>\n            <text x=\"0.71\" y=\"1.24\" dx=\"-0.15\" dy=\"0.35\" text-anchor=\"end\">26</text>\n            <text x=\"0.00\" y=\"-0.00\" dx=\"-0.15\" dy=\"0.35\" text-anchor=\"end\">27</text>\n            <text x=\"2.29\" y=\"2.87\" dx=\"-0.15\" dy=\"0.35\" text-anchor=\"end\">28</text>\n            <text x=\"-2.52\" y=\"1.57\" dx=\"-0.15\" dy=\"0.35\" text-anchor=\"end\">29</text>\n            <text x=\"2.14\" y=\"2.06\" dx=\"-0.15\" dy=\"0.35\" text-anchor=\"end\">30</text>\n            <text x=\"-2.82\" y=\"0.17\" dx=\"-0.15\" dy=\"0.35\" text-anchor=\"end\">31</text>\n            <text x=\"-3.88\" y=\"1.13\" dx=\"-0.15\" dy=\"0.35\" text-anchor=\"end\">32</text>\n            <text x=\"-3.07\" y=\"0.95\" dx=\"-0.15\" dy=\"0.35\" text-anchor=\"end\">33</text>\n          </g>\n          <g font-family=\"monospace\" font-size=\"0.3\" stroke-width=\"0.03\">\n           <text x=\"-1.72\" y=\"1.40\" dx=\"0.05\" dy=\"-0.20\">-</text>\n           <text x=\"3.68\" y=\"2.47\" dx=\"0.05\" dy=\"-0.20\">-</text>\n           <text x=\"2.14\" y=\"2.06\" dx=\"0.05\" dy=\"-0.20\">+</text>\n          </g>\n        </g>\n      </mask>\n    </defs>\n    <g fill=\"none\" stroke=\"black\" stroke-width=\"0.04\"  mask=\"url(#mask-43f980c1-619b-4042-8cad-31544f918f04)\">\n      <line x1=\"-0.36\" y1=\"1.84\" x2=\"-1.16\" y2=\"2.01\"/>\n      <line x1=\"-1.16\" y1=\"2.01\" x2=\"-1.72\" y2=\"1.40\"/>\n      <line x1=\"-1.11\" y1=\"2.03\" x2=\"-1.36\" y2=\"2.81\"/>\n      <line x1=\"-1.22\" y1=\"1.99\" x2=\"-1.48\" y2=\"2.78\"/>\n      <line x1=\"-1.72\" y1=\"1.40\" x2=\"-2.52\" y2=\"1.57\"/>\n      <line x1=\"2.97\" y1=\"2.06\" x2=\"3.25\" y2=\"2.84\"/>\n      <line x1=\"2.97\" y1=\"2.06\" x2=\"2.97\" y2=\"1.24\"/>\n      <line x1=\"2.97\" y1=\"2.06\" x2=\"2.14\" y2=\"2.06\"/>\n      <line x1=\"2.97\" y1=\"2.06\" x2=\"3.68\" y2=\"2.47\"/>\n      <line x1=\"2.97\" y1=\"1.24\" x2=\"2.19\" y2=\"1.52\"/>\n      <line x1=\"2.97\" y1=\"1.24\" x2=\"3.79\" y2=\"1.24\"/>\n      <line x1=\"1.43\" y1=\"1.65\" x2=\"0.71\" y2=\"1.24\"/>\n      <line x1=\"1.43\" y1=\"1.65\" x2=\"1.84\" y2=\"0.94\"/>\n      <line x1=\"1.43\" y1=\"1.65\" x2=\"1.02\" y2=\"2.36\"/>\n      <line x1=\"1.43\" y1=\"1.65\" x2=\"2.14\" y2=\"2.06\"/>\n      <line x1=\"1.84\" y1=\"0.94\" x2=\"2.66\" y2=\"0.85\"/>\n      <line x1=\"1.84\" y1=\"0.94\" x2=\"1.51\" y2=\"0.18\"/>\n      <line x1=\"2.60\" y1=\"0.84\" x2=\"2.77\" y2=\"0.03\"/>\n      <line x1=\"2.72\" y1=\"0.86\" x2=\"2.89\" y2=\"0.05\"/>\n      <line x1=\"1.47\" y1=\"0.14\" x2=\"2.08\" y2=\"-0.41\"/>\n      <line x1=\"1.55\" y1=\"0.23\" x2=\"2.16\" y2=\"-0.33\"/>\n      <line x1=\"2.83\" y1=\"0.04\" x2=\"2.12\" y2=\"-0.37\"/>\n      <line x1=\"2.83\" y1=\"0.04\" x2=\"3.59\" y2=\"-0.29\"/>\n      <line x1=\"1.02\" y1=\"2.36\" x2=\"1.35\" y2=\"3.12\"/>\n      <line x1=\"1.02\" y1=\"2.36\" x2=\"0.20\" y2=\"2.45\"/>\n      <line x1=\"1.39\" y1=\"3.16\" x2=\"0.78\" y2=\"3.71\"/>\n      <line x1=\"1.31\" y1=\"3.07\" x2=\"0.70\" y2=\"3.63\"/>\n      <line x1=\"0.25\" y1=\"2.46\" x2=\"0.08\" y2=\"3.27\"/>\n      <line x1=\"0.14\" y1=\"2.44\" x2=\"-0.03\" y2=\"3.25\"/>\n      <line x1=\"0.74\" y1=\"3.67\" x2=\"0.02\" y2=\"3.26\"/>\n      <line x1=\"0.74\" y1=\"3.67\" x2=\"0.83\" y2=\"4.49\"/>\n      <line x1=\"1.24\" y1=\"-0.22\" x2=\"0.71\" y2=\"0.41\"/>\n      <line x1=\"0.71\" y1=\"0.41\" x2=\"0.71\" y2=\"1.24\"/>\n      <line x1=\"0.68\" y1=\"0.46\" x2=\"-0.03\" y2=\"0.05\"/>\n      <line x1=\"0.74\" y1=\"0.36\" x2=\"0.03\" y2=\"-0.05\"/>\n      <line x1=\"2.29\" y1=\"2.87\" x2=\"2.14\" y2=\"2.06\"/>\n      <line x1=\"-2.82\" y1=\"0.17\" x2=\"-3.07\" y2=\"0.95\"/>\n      <line x1=\"-3.88\" y1=\"1.13\" x2=\"-3.07\" y2=\"0.95\"/>\n    </g>\n    <g font-family=\"monospace\">\n      <g fill=\"#FF0D0D\" font-family=\"sans-serif\">\n        <text x=\"-1.72\" y=\"1.40\" dx=\"-0.20\" dy=\"0.20\" font-size=\"0.50\">O</text>\n      </g>\n      <g fill=\"#FF0D0D\" font-family=\"sans-serif\">\n        <text x=\"-1.42\" y=\"2.79\" dx=\"-0.20\" dy=\"0.20\" font-size=\"0.50\">O</text>\n      </g>\n      <g fill=\"#FF0D0D\" font-family=\"sans-serif\">\n        <text x=\"3.68\" y=\"2.47\" dx=\"-0.20\" dy=\"0.20\" font-size=\"0.50\">O</text>\n      </g>\n      <g fill=\"#3050F8\" font-family=\"sans-serif\">\n        <text x=\"2.97\" y=\"1.24\" dx=\"-0.20\" dy=\"0.20\" font-size=\"0.50\">N</text>\n      </g>\n      <g fill=\"#909090\" font-family=\"sans-serif\">\n        <text x=\"2.19\" y=\"1.52\" dx=\"-0.20\" dy=\"0.20\" font-size=\"0.50\">H</text>\n      </g>\n      <g fill=\"#7D80B0\" font-family=\"sans-serif\">\n        <text x=\"1.43\" y=\"1.65\" dx=\"-0.35\" dy=\"0.20\" font-size=\"0.50\">Zn</text>\n      </g>\n      <g fill=\"#3050F8\" font-family=\"sans-serif\">\n        <text x=\"1.84\" y=\"0.94\" dx=\"-0.20\" dy=\"0.20\" font-size=\"0.50\">N</text>\n      </g>\n      <g fill=\"#3050F8\" font-family=\"sans-serif\">\n        <text x=\"2.12\" y=\"-0.37\" dx=\"-0.20\" dy=\"0.20\" font-size=\"0.50\">N</text>\n      </g>\n      <g fill=\"#3050F8\" font-family=\"sans-serif\">\n        <text x=\"1.02\" y=\"2.36\" dx=\"-0.20\" dy=\"0.20\" font-size=\"0.50\">N</text>\n      </g>\n      <g fill=\"#3050F8\" font-family=\"sans-serif\">\n        <text x=\"0.02\" y=\"3.26\" dx=\"-0.20\" dy=\"0.20\" font-size=\"0.50\">N</text>\n      </g>\n      <g fill=\"#FF0D0D\" font-family=\"sans-serif\">\n        <text x=\"0.71\" y=\"1.24\" dx=\"-0.20\" dy=\"0.20\" font-size=\"0.50\">O</text>\n      </g>\n      <g fill=\"#FF0D0D\" font-family=\"sans-serif\">\n        <text x=\"0.00\" y=\"-0.00\" dx=\"-0.20\" dy=\"0.20\" font-size=\"0.50\">O</text>\n      </g>\n      <g fill=\"#909090\" font-family=\"sans-serif\">\n        <text x=\"2.29\" y=\"2.87\" dx=\"-0.20\" dy=\"0.20\" font-size=\"0.50\">H</text>\n      </g>\n      <g fill=\"#909090\" font-family=\"sans-serif\">\n        <text x=\"-2.52\" y=\"1.57\" dx=\"-0.20\" dy=\"0.20\" font-size=\"0.50\">H</text>\n      </g>\n      <g fill=\"#FF0D0D\" font-family=\"sans-serif\">\n        <text x=\"2.14\" y=\"2.06\" dx=\"-0.20\" dy=\"0.20\" font-size=\"0.50\">O</text>\n      </g>\n      <g fill=\"#909090\" font-family=\"sans-serif\">\n        <text x=\"-2.82\" y=\"0.17\" dx=\"-0.20\" dy=\"0.20\" font-size=\"0.50\">H</text>\n      </g>\n      <g fill=\"#909090\" font-family=\"sans-serif\">\n        <text x=\"-3.88\" y=\"1.13\" dx=\"-0.20\" dy=\"0.20\" font-size=\"0.50\">H</text>\n      </g>\n      <g fill=\"#FF0D0D\" font-family=\"sans-serif\">\n        <text x=\"-3.07\" y=\"0.95\" dx=\"-0.20\" dy=\"0.20\" font-size=\"0.50\">O</text>\n      </g>\n      <g font-family=\"monospace\" fill=\"black\" font-size=\"0.30\">\n        <text x=\"-1.72\" y=\"1.40\" dx=\"0.05\" dy=\"-0.20\">-</text>\n        <text x=\"3.68\" y=\"2.47\" dx=\"0.05\" dy=\"-0.20\">-</text>\n        <text x=\"2.14\" y=\"2.06\" dx=\"0.05\" dy=\"-0.20\">+</text>\n      </g>\n      <g fill=\"#0305A7\" font-size=\"0.25\">\n        <text x=\"-0.36\" y=\"1.84\" dx=\"-0.05\" dy=\"0.20\" text-anchor=\"end\">1</text>\n        <text x=\"-1.16\" y=\"2.01\" dx=\"-0.05\" dy=\"0.20\" text-anchor=\"end\">2</text>\n        <text x=\"-1.72\" y=\"1.40\" dx=\"-0.15\" dy=\"0.35\" text-anchor=\"end\">3</text>\n        <text x=\"-1.42\" y=\"2.79\" dx=\"-0.15\" dy=\"0.35\" text-anchor=\"end\">4</text>\n        <text x=\"2.97\" y=\"2.06\" dx=\"-0.05\" dy=\"0.20\" text-anchor=\"end\">5</text>\n        <text x=\"3.68\" y=\"2.47\" dx=\"-0.15\" dy=\"0.35\" text-anchor=\"end\">6</text>\n        <text x=\"3.25\" y=\"2.84\" dx=\"-0.05\" dy=\"0.20\" text-anchor=\"end\">7</text>\n        <text x=\"2.97\" y=\"1.24\" dx=\"-0.15\" dy=\"0.35\" text-anchor=\"end\">8</text>\n        <text x=\"2.19\" y=\"1.52\" dx=\"-0.15\" dy=\"0.35\" text-anchor=\"end\">9</text>\n        <text x=\"3.79\" y=\"1.24\" dx=\"-0.05\" dy=\"0.20\" text-anchor=\"end\">10</text>\n        <text x=\"1.43\" y=\"1.65\" dx=\"-0.30\" dy=\"0.35\" text-anchor=\"end\">11</text>\n        <text x=\"1.84\" y=\"0.94\" dx=\"-0.15\" dy=\"0.35\" text-anchor=\"end\">12</text>\n        <text x=\"2.66\" y=\"0.85\" dx=\"-0.05\" dy=\"0.20\" text-anchor=\"end\">13</text>\n        <text x=\"1.51\" y=\"0.18\" dx=\"-0.05\" dy=\"0.20\" text-anchor=\"end\">14</text>\n        <text x=\"2.83\" y=\"0.04\" dx=\"-0.05\" dy=\"0.20\" text-anchor=\"end\">15</text>\n        <text x=\"2.12\" y=\"-0.37\" dx=\"-0.15\" dy=\"0.35\" text-anchor=\"end\">16</text>\n        <text x=\"3.59\" y=\"-0.29\" dx=\"-0.05\" dy=\"0.20\" text-anchor=\"end\">17</text>\n        <text x=\"1.02\" y=\"2.36\" dx=\"-0.15\" dy=\"0.35\" text-anchor=\"end\">18</text>\n        <text x=\"1.35\" y=\"3.12\" dx=\"-0.05\" dy=\"0.20\" text-anchor=\"end\">19</text>\n        <text x=\"0.20\" y=\"2.45\" dx=\"-0.05\" dy=\"0.20\" text-anchor=\"end\">20</text>\n        <text x=\"0.74\" y=\"3.67\" dx=\"-0.05\" dy=\"0.20\" text-anchor=\"end\">21</text>\n        <text x=\"0.02\" y=\"3.26\" dx=\"-0.15\" dy=\"0.35\" text-anchor=\"end\">22</text>\n        <text x=\"0.83\" y=\"4.49\" dx=\"-0.05\" dy=\"0.20\" text-anchor=\"end\">23</text>\n        <text x=\"1.24\" y=\"-0.22\" dx=\"-0.05\" dy=\"0.20\" text-anchor=\"end\">24</text>\n        <text x=\"0.71\" y=\"0.41\" dx=\"-0.05\" dy=\"0.20\" text-anchor=\"end\">25</text>\n        <text x=\"0.71\" y=\"1.24\" dx=\"-0.15\" dy=\"0.35\" text-anchor=\"end\">26</text>\n        <text x=\"0.00\" y=\"-0.00\" dx=\"-0.15\" dy=\"0.35\" text-anchor=\"end\">27</text>\n        <text x=\"2.29\" y=\"2.87\" dx=\"-0.15\" dy=\"0.35\" text-anchor=\"end\">28</text>\n        <text x=\"-2.52\" y=\"1.57\" dx=\"-0.15\" dy=\"0.35\" text-anchor=\"end\">29</text>\n        <text x=\"2.14\" y=\"2.06\" dx=\"-0.15\" dy=\"0.35\" text-anchor=\"end\">30</text>\n        <text x=\"-2.82\" y=\"0.17\" dx=\"-0.15\" dy=\"0.35\" text-anchor=\"end\">31</text>\n        <text x=\"-3.88\" y=\"1.13\" dx=\"-0.15\" dy=\"0.35\" text-anchor=\"end\">32</text>\n        <text x=\"-3.07\" y=\"0.95\" dx=\"-0.15\" dy=\"0.35\" text-anchor=\"end\">33</text>\n      </g>\n    </g>\n  </g>\n</svg>",
      "text/plain": [
       "<CGRtools.containers.molecule.MoleculeContainer at 0x7f3209bee5c0>"
      ]
     },
     "execution_count": 57,
     "metadata": {},
     "output_type": "execute_result"
    }
   ],
   "source": [
    "m2.clean2d()\n",
    "m2"
   ]
  },
  {
   "cell_type": "code",
   "execution_count": 58,
   "metadata": {},
   "outputs": [],
   "source": [
    "m3 = m2.copy()\n",
    "m3.delete_bond(28,30)\n",
    "m3.delete_bond(5,8)\n",
    "m3.delete_bond(5,6)\n",
    "m3.add_bond(5,6,2)\n",
    "m3.add_bond(8,28,1)\n",
    "\n",
    "a = m3.atom(6)\n",
    "a.charge = 0\n",
    "\n",
    "a = m3.atom(30)\n",
    "a.charge = 0"
   ]
  },
  {
   "cell_type": "code",
   "execution_count": 59,
   "metadata": {},
   "outputs": [
    {
     "data": {
      "image/svg+xml": "<svg width=\"10.26cm\" height=\"5.76cm\" viewBox=\"-5.99 -4.20 10.26 5.76\" xmlns=\"http://www.w3.org/2000/svg\" version=\"1.1\">\n  <g>\n    <defs>\n      <mask id=\"mask-fd1c8eb6-2616-43b6-a594-32226bce96b5\">\n        <rect x=\"-5.99\" y=\"-4.20\" width=\"10.26\" height=\"5.76\" fill=\"white\"/>\n        <g fill=\"black\">\n          <circle cx=\"-1.24\" cy=\"-0.71\" r=\"0.20\"/>\n          <circle cx=\"-1.24\" cy=\"0.71\" r=\"0.20\"/>\n          <circle cx=\"2.67\" cy=\"0.94\" r=\"0.20\"/>\n          <circle cx=\"-4.95\" cy=\"-2.86\" r=\"0.20\"/>\n          <circle cx=\"-5.36\" cy=\"-2.14\" r=\"0.20\"/>\n          <ellipse cx=\"1.16\" cy=\"-0.71\" rx=\"0.35\" ry=\"0.2\"/>\n          <circle cx=\"0.52\" cy=\"-1.13\" r=\"0.20\"/>\n          <circle cx=\"-0.37\" cy=\"-2.12\" r=\"0.20\"/>\n          <circle cx=\"1.65\" cy=\"-1.43\" r=\"0.20\"/>\n          <circle cx=\"1.93\" cy=\"-2.73\" r=\"0.20\"/>\n          <circle cx=\"0.82\" cy=\"-0.00\" r=\"0.20\"/>\n          <circle cx=\"-0.41\" cy=\"0.71\" r=\"0.20\"/>\n          <circle cx=\"-5.36\" cy=\"-3.57\" r=\"0.20\"/>\n          <circle cx=\"-1.65\" cy=\"-1.43\" r=\"0.20\"/>\n          <circle cx=\"1.95\" cy=\"-0.30\" r=\"0.20\"/>\n          <circle cx=\"-3.71\" cy=\"-2.14\" r=\"0.20\"/>\n          <circle cx=\"-2.47\" cy=\"-1.43\" r=\"0.20\"/>\n          <circle cx=\"-2.89\" cy=\"-2.14\" r=\"0.20\"/>\n        </g>\n        <g font-family=\"monospace\" stroke=\"black\">\n          <g font-family=\"sans-serif\" font-size=\"0.50\" stroke-width=\"0.05\">\n            <text x=\"-1.24\" y=\"-0.71\" dx=\"-0.20\" dy=\"0.20\">O</text>\n            <text x=\"-1.24\" y=\"0.71\" dx=\"-0.20\" dy=\"0.20\">O</text>\n            <text x=\"2.67\" y=\"0.94\" dx=\"-0.20\" dy=\"0.20\">O</text>\n            <text x=\"-4.95\" y=\"-2.86\" dx=\"-0.20\" dy=\"0.20\">N</text>\n            <text x=\"-5.36\" y=\"-2.14\" dx=\"-0.20\" dy=\"0.20\">H</text>\n            <text x=\"1.24\" y=\"-0.71\" dx=\"-0.35\" dy=\"0.20\">Zn</text>\n            <text x=\"0.52\" y=\"-1.13\" dx=\"-0.20\" dy=\"0.20\">N</text>\n            <text x=\"-0.37\" y=\"-2.12\" dx=\"-0.20\" dy=\"0.20\">N</text>\n            <text x=\"1.65\" y=\"-1.43\" dx=\"-0.20\" dy=\"0.20\">N</text>\n            <text x=\"1.93\" y=\"-2.73\" dx=\"-0.20\" dy=\"0.20\">N</text>\n            <text x=\"0.82\" y=\"-0.00\" dx=\"-0.20\" dy=\"0.20\">O</text>\n            <text x=\"-0.41\" y=\"0.71\" dx=\"-0.20\" dy=\"0.20\">O</text>\n            <text x=\"-5.36\" y=\"-3.57\" dx=\"-0.20\" dy=\"0.20\">H</text>\n            <text x=\"-1.65\" y=\"-1.43\" dx=\"-0.20\" dy=\"0.20\">H</text>\n            <text x=\"1.95\" y=\"-0.30\" dx=\"-0.20\" dy=\"0.20\">O</text>\n            <text x=\"-3.71\" y=\"-2.14\" dx=\"-0.20\" dy=\"0.20\">H</text>\n            <text x=\"-2.47\" y=\"-1.43\" dx=\"-0.20\" dy=\"0.20\">H</text>\n            <text x=\"-2.89\" y=\"-2.14\" dx=\"-0.20\" dy=\"0.20\">O</text>\n          </g>\n          <g font-size=\"0.25\" stroke-width=\"0.03\">\n            <text x=\"-2.47\" y=\"0.00\" dx=\"-0.05\" dy=\"0.20\" text-anchor=\"end\">1</text>\n            <text x=\"-1.65\" y=\"0.00\" dx=\"-0.05\" dy=\"0.20\" text-anchor=\"end\">2</text>\n            <text x=\"-1.24\" y=\"-0.71\" dx=\"-0.15\" dy=\"0.35\" text-anchor=\"end\">3</text>\n            <text x=\"-1.24\" y=\"0.71\" dx=\"-0.15\" dy=\"0.35\" text-anchor=\"end\">4</text>\n            <text x=\"1.95\" y=\"0.52\" dx=\"-0.05\" dy=\"0.20\" text-anchor=\"end\">5</text>\n            <text x=\"2.67\" y=\"0.94\" dx=\"-0.15\" dy=\"0.35\" text-anchor=\"end\">6</text>\n            <text x=\"1.24\" y=\"0.94\" dx=\"-0.05\" dy=\"0.20\" text-anchor=\"end\">7</text>\n            <text x=\"-4.95\" y=\"-2.86\" dx=\"-0.15\" dy=\"0.35\" text-anchor=\"end\">8</text>\n            <text x=\"-5.36\" y=\"-2.14\" dx=\"-0.15\" dy=\"0.35\" text-anchor=\"end\">9</text>\n            <text x=\"-4.12\" y=\"-2.86\" dx=\"-0.05\" dy=\"0.20\" text-anchor=\"end\">10</text>\n            <text x=\"1.24\" y=\"-0.71\" dx=\"-0.30\" dy=\"0.35\" text-anchor=\"end\">11</text>\n            <text x=\"0.52\" y=\"-1.13\" dx=\"-0.15\" dy=\"0.35\" text-anchor=\"end\">12</text>\n            <text x=\"-0.23\" y=\"-0.79\" dx=\"-0.05\" dy=\"0.20\" text-anchor=\"end\">13</text>\n            <text x=\"0.44\" y=\"-1.95\" dx=\"-0.05\" dy=\"0.20\" text-anchor=\"end\">14</text>\n            <text x=\"-0.78\" y=\"-1.40\" dx=\"-0.05\" dy=\"0.20\" text-anchor=\"end\">15</text>\n            <text x=\"-0.37\" y=\"-2.12\" dx=\"-0.15\" dy=\"0.35\" text-anchor=\"end\">16</text>\n            <text x=\"-1.52\" y=\"-1.04\" dx=\"-0.05\" dy=\"0.20\" text-anchor=\"end\">17</text>\n            <text x=\"1.65\" y=\"-1.43\" dx=\"-0.15\" dy=\"0.35\" text-anchor=\"end\">18</text>\n            <text x=\"2.47\" y=\"-1.52\" dx=\"-0.05\" dy=\"0.20\" text-anchor=\"end\">19</text>\n            <text x=\"1.31\" y=\"-2.18\" dx=\"-0.05\" dy=\"0.20\" text-anchor=\"end\">20</text>\n            <text x=\"2.64\" y=\"-2.32\" dx=\"-0.05\" dy=\"0.20\" text-anchor=\"end\">21</text>\n            <text x=\"1.93\" y=\"-2.73\" dx=\"-0.15\" dy=\"0.35\" text-anchor=\"end\">22</text>\n            <text x=\"3.40\" y=\"-2.66\" dx=\"-0.05\" dy=\"0.20\" text-anchor=\"end\">23</text>\n            <text x=\"-0.41\" y=\"-0.71\" dx=\"-0.05\" dy=\"0.20\" text-anchor=\"end\">24</text>\n            <text x=\"0.00\" y=\"-0.00\" dx=\"-0.05\" dy=\"0.20\" text-anchor=\"end\">25</text>\n            <text x=\"0.82\" y=\"-0.00\" dx=\"-0.15\" dy=\"0.35\" text-anchor=\"end\">26</text>\n            <text x=\"-0.41\" y=\"0.71\" dx=\"-0.15\" dy=\"0.35\" text-anchor=\"end\">27</text>\n            <text x=\"-5.36\" y=\"-3.57\" dx=\"-0.15\" dy=\"0.35\" text-anchor=\"end\">28</text>\n            <text x=\"-1.65\" y=\"-1.43\" dx=\"-0.15\" dy=\"0.35\" text-anchor=\"end\">29</text>\n            <text x=\"1.95\" y=\"-0.30\" dx=\"-0.15\" dy=\"0.35\" text-anchor=\"end\">30</text>\n            <text x=\"-3.71\" y=\"-2.14\" dx=\"-0.15\" dy=\"0.35\" text-anchor=\"end\">31</text>\n            <text x=\"-2.47\" y=\"-1.43\" dx=\"-0.15\" dy=\"0.35\" text-anchor=\"end\">32</text>\n            <text x=\"-2.89\" y=\"-2.14\" dx=\"-0.15\" dy=\"0.35\" text-anchor=\"end\">33</text>\n          </g>\n          <g font-family=\"monospace\" font-size=\"0.3\" stroke-width=\"0.03\">\n           <text x=\"-1.24\" y=\"-0.71\" dx=\"0.05\" dy=\"-0.20\">-</text>\n          </g>\n        </g>\n      </mask>\n    </defs>\n    <g fill=\"none\" stroke=\"black\" stroke-width=\"0.04\"  mask=\"url(#mask-fd1c8eb6-2616-43b6-a594-32226bce96b5)\">\n      <line x1=\"-2.47\" y1=\"0.00\" x2=\"-1.65\" y2=\"0.00\"/>\n      <line x1=\"-1.65\" y1=\"0.00\" x2=\"-1.24\" y2=\"-0.71\"/>\n      <line x1=\"-1.60\" y1=\"-0.03\" x2=\"-1.19\" y2=\"0.68\"/>\n      <line x1=\"-1.70\" y1=\"0.03\" x2=\"-1.29\" y2=\"0.74\"/>\n      <line x1=\"-1.24\" y1=\"-0.71\" x2=\"-1.65\" y2=\"-1.43\"/>\n      <line x1=\"1.95\" y1=\"0.52\" x2=\"1.24\" y2=\"0.94\"/>\n      <line x1=\"1.95\" y1=\"0.52\" x2=\"1.95\" y2=\"-0.30\"/>\n      <line x1=\"1.98\" y1=\"0.47\" x2=\"2.70\" y2=\"0.88\"/>\n      <line x1=\"1.92\" y1=\"0.57\" x2=\"2.64\" y2=\"0.99\"/>\n      <line x1=\"-4.95\" y1=\"-2.86\" x2=\"-5.36\" y2=\"-2.14\"/>\n      <line x1=\"-4.95\" y1=\"-2.86\" x2=\"-4.12\" y2=\"-2.86\"/>\n      <line x1=\"-4.95\" y1=\"-2.86\" x2=\"-5.36\" y2=\"-3.57\"/>\n      <line x1=\"1.24\" y1=\"-0.71\" x2=\"0.82\" y2=\"-0.00\"/>\n      <line x1=\"1.24\" y1=\"-0.71\" x2=\"0.52\" y2=\"-1.13\"/>\n      <line x1=\"1.24\" y1=\"-0.71\" x2=\"1.65\" y2=\"-1.43\"/>\n      <line x1=\"1.24\" y1=\"-0.71\" x2=\"1.95\" y2=\"-0.30\"/>\n      <line x1=\"0.52\" y1=\"-1.13\" x2=\"-0.23\" y2=\"-0.79\"/>\n      <line x1=\"0.52\" y1=\"-1.13\" x2=\"0.44\" y2=\"-1.95\"/>\n      <line x1=\"-0.28\" y1=\"-0.75\" x2=\"-0.83\" y2=\"-1.36\"/>\n      <line x1=\"-0.19\" y1=\"-0.83\" x2=\"-0.74\" y2=\"-1.44\"/>\n      <line x1=\"0.42\" y1=\"-1.89\" x2=\"-0.38\" y2=\"-2.06\"/>\n      <line x1=\"0.45\" y1=\"-2.01\" x2=\"-0.36\" y2=\"-2.18\"/>\n      <line x1=\"-0.78\" y1=\"-1.40\" x2=\"-0.37\" y2=\"-2.12\"/>\n      <line x1=\"-0.78\" y1=\"-1.40\" x2=\"-1.52\" y2=\"-1.04\"/>\n      <line x1=\"1.65\" y1=\"-1.43\" x2=\"2.47\" y2=\"-1.52\"/>\n      <line x1=\"1.65\" y1=\"-1.43\" x2=\"1.31\" y2=\"-2.18\"/>\n      <line x1=\"2.41\" y1=\"-1.53\" x2=\"2.58\" y2=\"-2.33\"/>\n      <line x1=\"2.53\" y1=\"-1.50\" x2=\"2.70\" y2=\"-2.31\"/>\n      <line x1=\"1.27\" y1=\"-2.23\" x2=\"1.89\" y2=\"-2.78\"/>\n      <line x1=\"1.35\" y1=\"-2.14\" x2=\"1.97\" y2=\"-2.69\"/>\n      <line x1=\"2.64\" y1=\"-2.32\" x2=\"1.93\" y2=\"-2.73\"/>\n      <line x1=\"2.64\" y1=\"-2.32\" x2=\"3.40\" y2=\"-2.66\"/>\n      <line x1=\"-0.41\" y1=\"-0.71\" x2=\"0.00\" y2=\"-0.00\"/>\n      <line x1=\"0.00\" y1=\"-0.00\" x2=\"0.82\" y2=\"-0.00\"/>\n      <line x1=\"0.05\" y1=\"0.03\" x2=\"-0.36\" y2=\"0.74\"/>\n      <line x1=\"-0.05\" y1=\"-0.03\" x2=\"-0.46\" y2=\"0.68\"/>\n      <line x1=\"-3.71\" y1=\"-2.14\" x2=\"-2.89\" y2=\"-2.14\"/>\n      <line x1=\"-2.47\" y1=\"-1.43\" x2=\"-2.89\" y2=\"-2.14\"/>\n    </g>\n    <g font-family=\"monospace\">\n      <g fill=\"#FF0D0D\" font-family=\"sans-serif\">\n        <text x=\"-1.24\" y=\"-0.71\" dx=\"-0.20\" dy=\"0.20\" font-size=\"0.50\">O</text>\n      </g>\n      <g fill=\"#FF0D0D\" font-family=\"sans-serif\">\n        <text x=\"-1.24\" y=\"0.71\" dx=\"-0.20\" dy=\"0.20\" font-size=\"0.50\">O</text>\n      </g>\n      <g fill=\"#FF0D0D\" font-family=\"sans-serif\">\n        <text x=\"2.67\" y=\"0.94\" dx=\"-0.20\" dy=\"0.20\" font-size=\"0.50\">O</text>\n      </g>\n      <g fill=\"#3050F8\" font-family=\"sans-serif\">\n        <text x=\"-4.95\" y=\"-2.86\" dx=\"-0.20\" dy=\"0.20\" font-size=\"0.50\">N</text>\n      </g>\n      <g fill=\"#909090\" font-family=\"sans-serif\">\n        <text x=\"-5.36\" y=\"-2.14\" dx=\"-0.20\" dy=\"0.20\" font-size=\"0.50\">H</text>\n      </g>\n      <g fill=\"#7D80B0\" font-family=\"sans-serif\">\n        <text x=\"1.24\" y=\"-0.71\" dx=\"-0.35\" dy=\"0.20\" font-size=\"0.50\">Zn</text>\n      </g>\n      <g fill=\"#3050F8\" font-family=\"sans-serif\">\n        <text x=\"0.52\" y=\"-1.13\" dx=\"-0.20\" dy=\"0.20\" font-size=\"0.50\">N</text>\n      </g>\n      <g fill=\"#3050F8\" font-family=\"sans-serif\">\n        <text x=\"-0.37\" y=\"-2.12\" dx=\"-0.20\" dy=\"0.20\" font-size=\"0.50\">N</text>\n      </g>\n      <g fill=\"#3050F8\" font-family=\"sans-serif\">\n        <text x=\"1.65\" y=\"-1.43\" dx=\"-0.20\" dy=\"0.20\" font-size=\"0.50\">N</text>\n      </g>\n      <g fill=\"#3050F8\" font-family=\"sans-serif\">\n        <text x=\"1.93\" y=\"-2.73\" dx=\"-0.20\" dy=\"0.20\" font-size=\"0.50\">N</text>\n      </g>\n      <g fill=\"#FF0D0D\" font-family=\"sans-serif\">\n        <text x=\"0.82\" y=\"-0.00\" dx=\"-0.20\" dy=\"0.20\" font-size=\"0.50\">O</text>\n      </g>\n      <g fill=\"#FF0D0D\" font-family=\"sans-serif\">\n        <text x=\"-0.41\" y=\"0.71\" dx=\"-0.20\" dy=\"0.20\" font-size=\"0.50\">O</text>\n      </g>\n      <g fill=\"#909090\" font-family=\"sans-serif\">\n        <text x=\"-5.36\" y=\"-3.57\" dx=\"-0.20\" dy=\"0.20\" font-size=\"0.50\">H</text>\n      </g>\n      <g fill=\"#909090\" font-family=\"sans-serif\">\n        <text x=\"-1.65\" y=\"-1.43\" dx=\"-0.20\" dy=\"0.20\" font-size=\"0.50\">H</text>\n      </g>\n      <g fill=\"#FF0D0D\" font-family=\"sans-serif\">\n        <text x=\"1.95\" y=\"-0.30\" dx=\"-0.20\" dy=\"0.20\" font-size=\"0.50\">O</text>\n      </g>\n      <g fill=\"#909090\" font-family=\"sans-serif\">\n        <text x=\"-3.71\" y=\"-2.14\" dx=\"-0.20\" dy=\"0.20\" font-size=\"0.50\">H</text>\n      </g>\n      <g fill=\"#909090\" font-family=\"sans-serif\">\n        <text x=\"-2.47\" y=\"-1.43\" dx=\"-0.20\" dy=\"0.20\" font-size=\"0.50\">H</text>\n      </g>\n      <g fill=\"#FF0D0D\" font-family=\"sans-serif\">\n        <text x=\"-2.89\" y=\"-2.14\" dx=\"-0.20\" dy=\"0.20\" font-size=\"0.50\">O</text>\n      </g>\n      <g font-family=\"monospace\" fill=\"black\" font-size=\"0.30\">\n        <text x=\"-1.24\" y=\"-0.71\" dx=\"0.05\" dy=\"-0.20\">-</text>\n      </g>\n      <g fill=\"#0305A7\" font-size=\"0.25\">\n        <text x=\"-2.47\" y=\"0.00\" dx=\"-0.05\" dy=\"0.20\" text-anchor=\"end\">1</text>\n        <text x=\"-1.65\" y=\"0.00\" dx=\"-0.05\" dy=\"0.20\" text-anchor=\"end\">2</text>\n        <text x=\"-1.24\" y=\"-0.71\" dx=\"-0.15\" dy=\"0.35\" text-anchor=\"end\">3</text>\n        <text x=\"-1.24\" y=\"0.71\" dx=\"-0.15\" dy=\"0.35\" text-anchor=\"end\">4</text>\n        <text x=\"1.95\" y=\"0.52\" dx=\"-0.05\" dy=\"0.20\" text-anchor=\"end\">5</text>\n        <text x=\"2.67\" y=\"0.94\" dx=\"-0.15\" dy=\"0.35\" text-anchor=\"end\">6</text>\n        <text x=\"1.24\" y=\"0.94\" dx=\"-0.05\" dy=\"0.20\" text-anchor=\"end\">7</text>\n        <text x=\"-4.95\" y=\"-2.86\" dx=\"-0.15\" dy=\"0.35\" text-anchor=\"end\">8</text>\n        <text x=\"-5.36\" y=\"-2.14\" dx=\"-0.15\" dy=\"0.35\" text-anchor=\"end\">9</text>\n        <text x=\"-4.12\" y=\"-2.86\" dx=\"-0.05\" dy=\"0.20\" text-anchor=\"end\">10</text>\n        <text x=\"1.24\" y=\"-0.71\" dx=\"-0.30\" dy=\"0.35\" text-anchor=\"end\">11</text>\n        <text x=\"0.52\" y=\"-1.13\" dx=\"-0.15\" dy=\"0.35\" text-anchor=\"end\">12</text>\n        <text x=\"-0.23\" y=\"-0.79\" dx=\"-0.05\" dy=\"0.20\" text-anchor=\"end\">13</text>\n        <text x=\"0.44\" y=\"-1.95\" dx=\"-0.05\" dy=\"0.20\" text-anchor=\"end\">14</text>\n        <text x=\"-0.78\" y=\"-1.40\" dx=\"-0.05\" dy=\"0.20\" text-anchor=\"end\">15</text>\n        <text x=\"-0.37\" y=\"-2.12\" dx=\"-0.15\" dy=\"0.35\" text-anchor=\"end\">16</text>\n        <text x=\"-1.52\" y=\"-1.04\" dx=\"-0.05\" dy=\"0.20\" text-anchor=\"end\">17</text>\n        <text x=\"1.65\" y=\"-1.43\" dx=\"-0.15\" dy=\"0.35\" text-anchor=\"end\">18</text>\n        <text x=\"2.47\" y=\"-1.52\" dx=\"-0.05\" dy=\"0.20\" text-anchor=\"end\">19</text>\n        <text x=\"1.31\" y=\"-2.18\" dx=\"-0.05\" dy=\"0.20\" text-anchor=\"end\">20</text>\n        <text x=\"2.64\" y=\"-2.32\" dx=\"-0.05\" dy=\"0.20\" text-anchor=\"end\">21</text>\n        <text x=\"1.93\" y=\"-2.73\" dx=\"-0.15\" dy=\"0.35\" text-anchor=\"end\">22</text>\n        <text x=\"3.40\" y=\"-2.66\" dx=\"-0.05\" dy=\"0.20\" text-anchor=\"end\">23</text>\n        <text x=\"-0.41\" y=\"-0.71\" dx=\"-0.05\" dy=\"0.20\" text-anchor=\"end\">24</text>\n        <text x=\"0.00\" y=\"-0.00\" dx=\"-0.05\" dy=\"0.20\" text-anchor=\"end\">25</text>\n        <text x=\"0.82\" y=\"-0.00\" dx=\"-0.15\" dy=\"0.35\" text-anchor=\"end\">26</text>\n        <text x=\"-0.41\" y=\"0.71\" dx=\"-0.15\" dy=\"0.35\" text-anchor=\"end\">27</text>\n        <text x=\"-5.36\" y=\"-3.57\" dx=\"-0.15\" dy=\"0.35\" text-anchor=\"end\">28</text>\n        <text x=\"-1.65\" y=\"-1.43\" dx=\"-0.15\" dy=\"0.35\" text-anchor=\"end\">29</text>\n        <text x=\"1.95\" y=\"-0.30\" dx=\"-0.15\" dy=\"0.35\" text-anchor=\"end\">30</text>\n        <text x=\"-3.71\" y=\"-2.14\" dx=\"-0.15\" dy=\"0.35\" text-anchor=\"end\">31</text>\n        <text x=\"-2.47\" y=\"-1.43\" dx=\"-0.15\" dy=\"0.35\" text-anchor=\"end\">32</text>\n        <text x=\"-2.89\" y=\"-2.14\" dx=\"-0.15\" dy=\"0.35\" text-anchor=\"end\">33</text>\n      </g>\n    </g>\n  </g>\n</svg>",
      "text/plain": [
       "<CGRtools.containers.molecule.MoleculeContainer at 0x7f3209bee3e0>"
      ]
     },
     "execution_count": 59,
     "metadata": {},
     "output_type": "execute_result"
    }
   ],
   "source": [
    "m3.clean2d()\n",
    "m3"
   ]
  },
  {
   "cell_type": "code",
   "execution_count": 61,
   "metadata": {},
   "outputs": [],
   "source": [
    "m4 = m3.copy()\n",
    "\n",
    "m4.add_bond(33,11,1)\n"
   ]
  },
  {
   "cell_type": "code",
   "execution_count": 62,
   "metadata": {},
   "outputs": [
    {
     "data": {
      "image/svg+xml": "<svg width=\"10.48cm\" height=\"5.63cm\" viewBox=\"-5.18 -3.54 10.48 5.63\" xmlns=\"http://www.w3.org/2000/svg\" version=\"1.1\">\n  <g>\n    <defs>\n      <mask id=\"mask-d2cd773e-ee35-4e56-a28b-565981748dd7\">\n        <rect x=\"-5.18\" y=\"-3.54\" width=\"10.48\" height=\"5.63\" fill=\"white\"/>\n        <g fill=\"black\">\n          <circle cx=\"-3.02\" cy=\"-1.37\" r=\"0.20\"/>\n          <circle cx=\"-4.45\" cy=\"-0.74\" r=\"0.20\"/>\n          <circle cx=\"-0.29\" cy=\"-1.48\" r=\"0.20\"/>\n          <circle cx=\"-1.48\" cy=\"-1.05\" r=\"0.20\"/>\n          <circle cx=\"-0.77\" cy=\"-0.64\" r=\"0.20\"/>\n          <ellipse cx=\"1.51\" cy=\"-0.40\" rx=\"0.35\" ry=\"0.2\"/>\n          <circle cx=\"2.20\" cy=\"-0.95\" r=\"0.20\"/>\n          <circle cx=\"3.42\" cy=\"-1.49\" r=\"0.20\"/>\n          <circle cx=\"2.30\" cy=\"0.02\" r=\"0.20\"/>\n          <circle cx=\"3.19\" cy=\"1.01\" r=\"0.20\"/>\n          <circle cx=\"1.41\" cy=\"0.41\" r=\"0.20\"/>\n          <circle cx=\"-0.14\" cy=\"0.36\" r=\"0.20\"/>\n          <circle cx=\"-2.30\" cy=\"-0.96\" r=\"0.20\"/>\n          <circle cx=\"-3.36\" cy=\"-2.13\" r=\"0.20\"/>\n          <circle cx=\"1.25\" cy=\"-1.15\" r=\"0.20\"/>\n          <circle cx=\"0.05\" cy=\"-0.72\" r=\"0.20\"/>\n          <circle cx=\"0.00\" cy=\"-0.00\" r=\"0.20\"/>\n          <circle cx=\"0.76\" cy=\"-0.31\" r=\"0.20\"/>\n        </g>\n        <g font-family=\"monospace\" stroke=\"black\">\n          <g font-family=\"sans-serif\" font-size=\"0.50\" stroke-width=\"0.05\">\n            <text x=\"-3.02\" y=\"-1.37\" dx=\"-0.20\" dy=\"0.20\">O</text>\n            <text x=\"-4.45\" y=\"-0.74\" dx=\"-0.20\" dy=\"0.20\">O</text>\n            <text x=\"-0.29\" y=\"-1.48\" dx=\"-0.20\" dy=\"0.20\">O</text>\n            <text x=\"-1.48\" y=\"-1.05\" dx=\"-0.20\" dy=\"0.20\">N</text>\n            <text x=\"-0.77\" y=\"-0.64\" dx=\"-0.20\" dy=\"0.20\">H</text>\n            <text x=\"1.59\" y=\"-0.40\" dx=\"-0.35\" dy=\"0.20\">Zn</text>\n            <text x=\"2.20\" y=\"-0.95\" dx=\"-0.20\" dy=\"0.20\">N</text>\n            <text x=\"3.42\" y=\"-1.49\" dx=\"-0.20\" dy=\"0.20\">N</text>\n            <text x=\"2.30\" y=\"0.02\" dx=\"-0.20\" dy=\"0.20\">N</text>\n            <text x=\"3.19\" y=\"1.01\" dx=\"-0.20\" dy=\"0.20\">N</text>\n            <text x=\"1.41\" y=\"0.41\" dx=\"-0.20\" dy=\"0.20\">O</text>\n            <text x=\"-0.14\" y=\"0.36\" dx=\"-0.20\" dy=\"0.20\">O</text>\n            <text x=\"-2.30\" y=\"-0.96\" dx=\"-0.20\" dy=\"0.20\">H</text>\n            <text x=\"-3.36\" y=\"-2.13\" dx=\"-0.20\" dy=\"0.20\">H</text>\n            <text x=\"1.25\" y=\"-1.15\" dx=\"-0.20\" dy=\"0.20\">O</text>\n            <text x=\"0.05\" y=\"-0.72\" dx=\"-0.20\" dy=\"0.20\">H</text>\n            <text x=\"0.00\" y=\"-0.00\" dx=\"-0.20\" dy=\"0.20\">H</text>\n            <text x=\"0.76\" y=\"-0.31\" dx=\"-0.20\" dy=\"0.20\">O</text>\n          </g>\n          <g font-size=\"0.25\" stroke-width=\"0.03\">\n            <text x=\"-4.55\" y=\"-1.70\" dx=\"-0.05\" dy=\"0.20\" text-anchor=\"end\">1</text>\n            <text x=\"-3.84\" y=\"-1.29\" dx=\"-0.05\" dy=\"0.20\" text-anchor=\"end\">2</text>\n            <text x=\"-3.02\" y=\"-1.37\" dx=\"-0.15\" dy=\"0.35\" text-anchor=\"end\">3</text>\n            <text x=\"-4.45\" y=\"-0.74\" dx=\"-0.15\" dy=\"0.35\" text-anchor=\"end\">4</text>\n            <text x=\"0.54\" y=\"-1.56\" dx=\"-0.05\" dy=\"0.20\" text-anchor=\"end\">5</text>\n            <text x=\"-0.29\" y=\"-1.48\" dx=\"-0.15\" dy=\"0.35\" text-anchor=\"end\">6</text>\n            <text x=\"0.20\" y=\"-2.32\" dx=\"-0.05\" dy=\"0.20\" text-anchor=\"end\">7</text>\n            <text x=\"-1.48\" y=\"-1.05\" dx=\"-0.15\" dy=\"0.35\" text-anchor=\"end\">8</text>\n            <text x=\"-0.77\" y=\"-0.64\" dx=\"-0.15\" dy=\"0.35\" text-anchor=\"end\">9</text>\n            <text x=\"-1.82\" y=\"-1.80\" dx=\"-0.05\" dy=\"0.20\" text-anchor=\"end\">10</text>\n            <text x=\"1.59\" y=\"-0.40\" dx=\"-0.30\" dy=\"0.35\" text-anchor=\"end\">11</text>\n            <text x=\"2.20\" y=\"-0.95\" dx=\"-0.15\" dy=\"0.35\" text-anchor=\"end\">12</text>\n            <text x=\"2.11\" y=\"-1.77\" dx=\"-0.05\" dy=\"0.20\" text-anchor=\"end\">13</text>\n            <text x=\"3.01\" y=\"-0.78\" dx=\"-0.05\" dy=\"0.20\" text-anchor=\"end\">14</text>\n            <text x=\"2.87\" y=\"-2.10\" dx=\"-0.05\" dy=\"0.20\" text-anchor=\"end\">15</text>\n            <text x=\"3.42\" y=\"-1.49\" dx=\"-0.15\" dy=\"0.35\" text-anchor=\"end\">16</text>\n            <text x=\"3.04\" y=\"-2.91\" dx=\"-0.05\" dy=\"0.20\" text-anchor=\"end\">17</text>\n            <text x=\"2.30\" y=\"0.02\" dx=\"-0.15\" dy=\"0.35\" text-anchor=\"end\">18</text>\n            <text x=\"3.05\" y=\"-0.32\" dx=\"-0.05\" dy=\"0.20\" text-anchor=\"end\">19</text>\n            <text x=\"2.39\" y=\"0.84\" dx=\"-0.05\" dy=\"0.20\" text-anchor=\"end\">20</text>\n            <text x=\"3.61\" y=\"0.29\" dx=\"-0.05\" dy=\"0.20\" text-anchor=\"end\">21</text>\n            <text x=\"3.19\" y=\"1.01\" dx=\"-0.15\" dy=\"0.35\" text-anchor=\"end\">22</text>\n            <text x=\"4.43\" y=\"0.21\" dx=\"-0.05\" dy=\"0.20\" text-anchor=\"end\">23</text>\n            <text x=\"0.46\" y=\"1.47\" dx=\"-0.05\" dy=\"0.20\" text-anchor=\"end\">24</text>\n            <text x=\"0.63\" y=\"0.67\" dx=\"-0.05\" dy=\"0.20\" text-anchor=\"end\">25</text>\n            <text x=\"1.41\" y=\"0.41\" dx=\"-0.15\" dy=\"0.35\" text-anchor=\"end\">26</text>\n            <text x=\"-0.14\" y=\"0.36\" dx=\"-0.15\" dy=\"0.35\" text-anchor=\"end\">27</text>\n            <text x=\"-2.30\" y=\"-0.96\" dx=\"-0.15\" dy=\"0.35\" text-anchor=\"end\">28</text>\n            <text x=\"-3.36\" y=\"-2.13\" dx=\"-0.15\" dy=\"0.35\" text-anchor=\"end\">29</text>\n            <text x=\"1.25\" y=\"-1.15\" dx=\"-0.15\" dy=\"0.35\" text-anchor=\"end\">30</text>\n            <text x=\"0.05\" y=\"-0.72\" dx=\"-0.15\" dy=\"0.35\" text-anchor=\"end\">31</text>\n            <text x=\"0.00\" y=\"-0.00\" dx=\"-0.15\" dy=\"0.35\" text-anchor=\"end\">32</text>\n            <text x=\"0.76\" y=\"-0.31\" dx=\"-0.15\" dy=\"0.35\" text-anchor=\"end\">33</text>\n          </g>\n          <g font-family=\"monospace\" font-size=\"0.3\" stroke-width=\"0.03\">\n           <text x=\"-3.02\" y=\"-1.37\" dx=\"0.05\" dy=\"-0.20\">-</text>\n          </g>\n        </g>\n      </mask>\n    </defs>\n    <g fill=\"none\" stroke=\"black\" stroke-width=\"0.04\"  mask=\"url(#mask-d2cd773e-ee35-4e56-a28b-565981748dd7)\">\n      <line x1=\"-4.55\" y1=\"-1.70\" x2=\"-3.84\" y2=\"-1.29\"/>\n      <line x1=\"-3.84\" y1=\"-1.29\" x2=\"-3.02\" y2=\"-1.37\"/>\n      <line x1=\"-3.80\" y1=\"-1.24\" x2=\"-4.41\" y2=\"-0.69\"/>\n      <line x1=\"-3.88\" y1=\"-1.33\" x2=\"-4.49\" y2=\"-0.78\"/>\n      <line x1=\"-3.02\" y1=\"-1.37\" x2=\"-3.36\" y2=\"-2.13\"/>\n      <line x1=\"0.54\" y1=\"-1.56\" x2=\"0.20\" y2=\"-2.32\"/>\n      <line x1=\"0.54\" y1=\"-1.56\" x2=\"1.25\" y2=\"-1.15\"/>\n      <line x1=\"0.54\" y1=\"-1.50\" x2=\"-0.28\" y2=\"-1.42\"/>\n      <line x1=\"0.53\" y1=\"-1.62\" x2=\"-0.29\" y2=\"-1.53\"/>\n      <line x1=\"-1.48\" y1=\"-1.05\" x2=\"-0.77\" y2=\"-0.64\"/>\n      <line x1=\"-1.48\" y1=\"-1.05\" x2=\"-1.82\" y2=\"-1.80\"/>\n      <line x1=\"-1.48\" y1=\"-1.05\" x2=\"-2.30\" y2=\"-0.96\"/>\n      <line x1=\"1.59\" y1=\"-0.40\" x2=\"1.41\" y2=\"0.41\"/>\n      <line x1=\"1.59\" y1=\"-0.40\" x2=\"2.20\" y2=\"-0.95\"/>\n      <line x1=\"1.59\" y1=\"-0.40\" x2=\"2.30\" y2=\"0.02\"/>\n      <line x1=\"1.59\" y1=\"-0.40\" x2=\"1.25\" y2=\"-1.15\"/>\n      <line x1=\"1.59\" y1=\"-0.40\" x2=\"0.76\" y2=\"-0.31\"/>\n      <line x1=\"2.20\" y1=\"-0.95\" x2=\"2.11\" y2=\"-1.77\"/>\n      <line x1=\"2.20\" y1=\"-0.95\" x2=\"3.01\" y2=\"-0.78\"/>\n      <line x1=\"2.09\" y1=\"-1.82\" x2=\"2.84\" y2=\"-2.16\"/>\n      <line x1=\"2.14\" y1=\"-1.71\" x2=\"2.89\" y2=\"-2.05\"/>\n      <line x1=\"2.95\" y1=\"-0.81\" x2=\"3.37\" y2=\"-1.52\"/>\n      <line x1=\"3.06\" y1=\"-0.75\" x2=\"3.47\" y2=\"-1.46\"/>\n      <line x1=\"2.87\" y1=\"-2.10\" x2=\"3.42\" y2=\"-1.49\"/>\n      <line x1=\"2.87\" y1=\"-2.10\" x2=\"3.04\" y2=\"-2.91\"/>\n      <line x1=\"2.30\" y1=\"0.02\" x2=\"3.05\" y2=\"-0.32\"/>\n      <line x1=\"2.30\" y1=\"0.02\" x2=\"2.39\" y2=\"0.84\"/>\n      <line x1=\"3.10\" y1=\"-0.36\" x2=\"3.65\" y2=\"0.25\"/>\n      <line x1=\"3.01\" y1=\"-0.28\" x2=\"3.56\" y2=\"0.33\"/>\n      <line x1=\"2.40\" y1=\"0.78\" x2=\"3.21\" y2=\"0.95\"/>\n      <line x1=\"2.37\" y1=\"0.90\" x2=\"3.18\" y2=\"1.07\"/>\n      <line x1=\"3.61\" y1=\"0.29\" x2=\"3.19\" y2=\"1.01\"/>\n      <line x1=\"3.61\" y1=\"0.29\" x2=\"4.43\" y2=\"0.21\"/>\n      <line x1=\"0.46\" y1=\"1.47\" x2=\"0.63\" y2=\"0.67\"/>\n      <line x1=\"0.63\" y1=\"0.67\" x2=\"1.41\" y2=\"0.41\"/>\n      <line x1=\"0.61\" y1=\"0.72\" x2=\"-0.16\" y2=\"0.41\"/>\n      <line x1=\"0.65\" y1=\"0.61\" x2=\"-0.11\" y2=\"0.30\"/>\n      <line x1=\"0.05\" y1=\"-0.72\" x2=\"0.76\" y2=\"-0.31\"/>\n      <line x1=\"0.00\" y1=\"-0.00\" x2=\"0.76\" y2=\"-0.31\"/>\n    </g>\n    <g font-family=\"monospace\">\n      <g fill=\"#FF0D0D\" font-family=\"sans-serif\">\n        <text x=\"-3.02\" y=\"-1.37\" dx=\"-0.20\" dy=\"0.20\" font-size=\"0.50\">O</text>\n      </g>\n      <g fill=\"#FF0D0D\" font-family=\"sans-serif\">\n        <text x=\"-4.45\" y=\"-0.74\" dx=\"-0.20\" dy=\"0.20\" font-size=\"0.50\">O</text>\n      </g>\n      <g fill=\"#FF0D0D\" font-family=\"sans-serif\">\n        <text x=\"-0.29\" y=\"-1.48\" dx=\"-0.20\" dy=\"0.20\" font-size=\"0.50\">O</text>\n      </g>\n      <g fill=\"#3050F8\" font-family=\"sans-serif\">\n        <text x=\"-1.48\" y=\"-1.05\" dx=\"-0.20\" dy=\"0.20\" font-size=\"0.50\">N</text>\n      </g>\n      <g fill=\"#909090\" font-family=\"sans-serif\">\n        <text x=\"-0.77\" y=\"-0.64\" dx=\"-0.20\" dy=\"0.20\" font-size=\"0.50\">H</text>\n      </g>\n      <g fill=\"#7D80B0\" font-family=\"sans-serif\">\n        <text x=\"1.59\" y=\"-0.40\" dx=\"-0.35\" dy=\"0.20\" font-size=\"0.50\">Zn</text>\n      </g>\n      <g fill=\"#3050F8\" font-family=\"sans-serif\">\n        <text x=\"2.20\" y=\"-0.95\" dx=\"-0.20\" dy=\"0.20\" font-size=\"0.50\">N</text>\n      </g>\n      <g fill=\"#3050F8\" font-family=\"sans-serif\">\n        <text x=\"3.42\" y=\"-1.49\" dx=\"-0.20\" dy=\"0.20\" font-size=\"0.50\">N</text>\n      </g>\n      <g fill=\"#3050F8\" font-family=\"sans-serif\">\n        <text x=\"2.30\" y=\"0.02\" dx=\"-0.20\" dy=\"0.20\" font-size=\"0.50\">N</text>\n      </g>\n      <g fill=\"#3050F8\" font-family=\"sans-serif\">\n        <text x=\"3.19\" y=\"1.01\" dx=\"-0.20\" dy=\"0.20\" font-size=\"0.50\">N</text>\n      </g>\n      <g fill=\"#FF0D0D\" font-family=\"sans-serif\">\n        <text x=\"1.41\" y=\"0.41\" dx=\"-0.20\" dy=\"0.20\" font-size=\"0.50\">O</text>\n      </g>\n      <g fill=\"#FF0D0D\" font-family=\"sans-serif\">\n        <text x=\"-0.14\" y=\"0.36\" dx=\"-0.20\" dy=\"0.20\" font-size=\"0.50\">O</text>\n      </g>\n      <g fill=\"#909090\" font-family=\"sans-serif\">\n        <text x=\"-2.30\" y=\"-0.96\" dx=\"-0.20\" dy=\"0.20\" font-size=\"0.50\">H</text>\n      </g>\n      <g fill=\"#909090\" font-family=\"sans-serif\">\n        <text x=\"-3.36\" y=\"-2.13\" dx=\"-0.20\" dy=\"0.20\" font-size=\"0.50\">H</text>\n      </g>\n      <g fill=\"#FF0D0D\" font-family=\"sans-serif\">\n        <text x=\"1.25\" y=\"-1.15\" dx=\"-0.20\" dy=\"0.20\" font-size=\"0.50\">O</text>\n      </g>\n      <g fill=\"#909090\" font-family=\"sans-serif\">\n        <text x=\"0.05\" y=\"-0.72\" dx=\"-0.20\" dy=\"0.20\" font-size=\"0.50\">H</text>\n      </g>\n      <g fill=\"#909090\" font-family=\"sans-serif\">\n        <text x=\"0.00\" y=\"-0.00\" dx=\"-0.20\" dy=\"0.20\" font-size=\"0.50\">H</text>\n      </g>\n      <g fill=\"#FF0D0D\" font-family=\"sans-serif\">\n        <text x=\"0.76\" y=\"-0.31\" dx=\"-0.20\" dy=\"0.20\" font-size=\"0.50\">O</text>\n      </g>\n      <g font-family=\"monospace\" fill=\"black\" font-size=\"0.30\">\n        <text x=\"-3.02\" y=\"-1.37\" dx=\"0.05\" dy=\"-0.20\">-</text>\n      </g>\n      <g fill=\"#0305A7\" font-size=\"0.25\">\n        <text x=\"-4.55\" y=\"-1.70\" dx=\"-0.05\" dy=\"0.20\" text-anchor=\"end\">1</text>\n        <text x=\"-3.84\" y=\"-1.29\" dx=\"-0.05\" dy=\"0.20\" text-anchor=\"end\">2</text>\n        <text x=\"-3.02\" y=\"-1.37\" dx=\"-0.15\" dy=\"0.35\" text-anchor=\"end\">3</text>\n        <text x=\"-4.45\" y=\"-0.74\" dx=\"-0.15\" dy=\"0.35\" text-anchor=\"end\">4</text>\n        <text x=\"0.54\" y=\"-1.56\" dx=\"-0.05\" dy=\"0.20\" text-anchor=\"end\">5</text>\n        <text x=\"-0.29\" y=\"-1.48\" dx=\"-0.15\" dy=\"0.35\" text-anchor=\"end\">6</text>\n        <text x=\"0.20\" y=\"-2.32\" dx=\"-0.05\" dy=\"0.20\" text-anchor=\"end\">7</text>\n        <text x=\"-1.48\" y=\"-1.05\" dx=\"-0.15\" dy=\"0.35\" text-anchor=\"end\">8</text>\n        <text x=\"-0.77\" y=\"-0.64\" dx=\"-0.15\" dy=\"0.35\" text-anchor=\"end\">9</text>\n        <text x=\"-1.82\" y=\"-1.80\" dx=\"-0.05\" dy=\"0.20\" text-anchor=\"end\">10</text>\n        <text x=\"1.59\" y=\"-0.40\" dx=\"-0.30\" dy=\"0.35\" text-anchor=\"end\">11</text>\n        <text x=\"2.20\" y=\"-0.95\" dx=\"-0.15\" dy=\"0.35\" text-anchor=\"end\">12</text>\n        <text x=\"2.11\" y=\"-1.77\" dx=\"-0.05\" dy=\"0.20\" text-anchor=\"end\">13</text>\n        <text x=\"3.01\" y=\"-0.78\" dx=\"-0.05\" dy=\"0.20\" text-anchor=\"end\">14</text>\n        <text x=\"2.87\" y=\"-2.10\" dx=\"-0.05\" dy=\"0.20\" text-anchor=\"end\">15</text>\n        <text x=\"3.42\" y=\"-1.49\" dx=\"-0.15\" dy=\"0.35\" text-anchor=\"end\">16</text>\n        <text x=\"3.04\" y=\"-2.91\" dx=\"-0.05\" dy=\"0.20\" text-anchor=\"end\">17</text>\n        <text x=\"2.30\" y=\"0.02\" dx=\"-0.15\" dy=\"0.35\" text-anchor=\"end\">18</text>\n        <text x=\"3.05\" y=\"-0.32\" dx=\"-0.05\" dy=\"0.20\" text-anchor=\"end\">19</text>\n        <text x=\"2.39\" y=\"0.84\" dx=\"-0.05\" dy=\"0.20\" text-anchor=\"end\">20</text>\n        <text x=\"3.61\" y=\"0.29\" dx=\"-0.05\" dy=\"0.20\" text-anchor=\"end\">21</text>\n        <text x=\"3.19\" y=\"1.01\" dx=\"-0.15\" dy=\"0.35\" text-anchor=\"end\">22</text>\n        <text x=\"4.43\" y=\"0.21\" dx=\"-0.05\" dy=\"0.20\" text-anchor=\"end\">23</text>\n        <text x=\"0.46\" y=\"1.47\" dx=\"-0.05\" dy=\"0.20\" text-anchor=\"end\">24</text>\n        <text x=\"0.63\" y=\"0.67\" dx=\"-0.05\" dy=\"0.20\" text-anchor=\"end\">25</text>\n        <text x=\"1.41\" y=\"0.41\" dx=\"-0.15\" dy=\"0.35\" text-anchor=\"end\">26</text>\n        <text x=\"-0.14\" y=\"0.36\" dx=\"-0.15\" dy=\"0.35\" text-anchor=\"end\">27</text>\n        <text x=\"-2.30\" y=\"-0.96\" dx=\"-0.15\" dy=\"0.35\" text-anchor=\"end\">28</text>\n        <text x=\"-3.36\" y=\"-2.13\" dx=\"-0.15\" dy=\"0.35\" text-anchor=\"end\">29</text>\n        <text x=\"1.25\" y=\"-1.15\" dx=\"-0.15\" dy=\"0.35\" text-anchor=\"end\">30</text>\n        <text x=\"0.05\" y=\"-0.72\" dx=\"-0.15\" dy=\"0.35\" text-anchor=\"end\">31</text>\n        <text x=\"0.00\" y=\"-0.00\" dx=\"-0.15\" dy=\"0.35\" text-anchor=\"end\">32</text>\n        <text x=\"0.76\" y=\"-0.31\" dx=\"-0.15\" dy=\"0.35\" text-anchor=\"end\">33</text>\n      </g>\n    </g>\n  </g>\n</svg>",
      "text/plain": [
       "<CGRtools.containers.molecule.MoleculeContainer at 0x7f3209bef100>"
      ]
     },
     "execution_count": 62,
     "metadata": {},
     "output_type": "execute_result"
    }
   ],
   "source": [
    "m4.clean2d()\n",
    "m4"
   ]
  },
  {
   "cell_type": "code",
   "execution_count": 64,
   "metadata": {},
   "outputs": [],
   "source": [
    "r = ReactionContainer(reactants=[m], products=[m2]) # one-step way to construct reaction"
   ]
  },
  {
   "cell_type": "code",
   "execution_count": 65,
   "metadata": {},
   "outputs": [
    {
     "name": "stdout",
     "output_type": "stream",
     "text": [
      "N1(C=NC(C)=C1)[Zn](N2C=NC(C)=C2)([O0>+]([->.][H][.>-][O-]C(C)=O)([H])[.>-]C(C)([=>-][O0>-])N([H])C)OC(=O)C.[H]O[H]\n"
     ]
    },
    {
     "data": {
      "image/svg+xml": "<svg width=\"9.34cm\" height=\"7.36cm\" viewBox=\"-3.48 -1.83 9.34 7.36\" xmlns=\"http://www.w3.org/2000/svg\" version=\"1.1\">\n  <g>\n    <defs>\n      <mask id=\"mask-94cfdf36-10ea-404a-9fac-53727fedb5e7\">\n        <rect x=\"-3.48\" y=\"-1.83\" width=\"9.34\" height=\"7.36\" fill=\"white\"/>\n        <g fill=\"black\">\n          <circle cx=\"1.43\" cy=\"0.22\" r=\"0.20\"/>\n          <circle cx=\"2.67\" cy=\"-0.49\" r=\"0.20\"/>\n          <circle cx=\"0.57\" cy=\"0.43\" r=\"0.20\"/>\n          <circle cx=\"-0.00\" cy=\"0.82\" r=\"0.20\"/>\n          <circle cx=\"-0.71\" cy=\"1.24\" r=\"0.20\"/>\n          <ellipse cx=\"2.07\" cy=\"2.06\" rx=\"0.35\" ry=\"0.2\"/>\n          <circle cx=\"1.73\" cy=\"2.78\" r=\"0.20\"/>\n          <circle cx=\"0.74\" cy=\"3.67\" r=\"0.20\"/>\n          <circle cx=\"2.86\" cy=\"2.47\" r=\"0.20\"/>\n          <circle cx=\"3.75\" cy=\"3.47\" r=\"0.20\"/>\n          <circle cx=\"2.56\" cy=\"1.35\" r=\"0.20\"/>\n          <circle cx=\"4.01\" cy=\"1.88\" r=\"0.20\"/>\n          <circle cx=\"1.02\" cy=\"2.36\" r=\"0.20\"/>\n          <circle cx=\"1.84\" cy=\"0.94\" r=\"0.20\"/>\n          <circle cx=\"1.43\" cy=\"1.65\" r=\"0.20\"/>\n          <circle cx=\"-2.86\" cy=\"0.83\" r=\"0.20\"/>\n          <circle cx=\"-1.43\" cy=\"0.83\" r=\"0.20\"/>\n          <circle cx=\"-2.14\" cy=\"1.24\" r=\"0.20\"/>\n        </g>\n        <g font-family=\"monospace\" stroke=\"black\">\n          <g font-family=\"sans-serif\" font-size=\"0.50\" stroke-width=\"0.05\">\n           <text x=\"1.43\" y=\"0.22\" dx=\"-0.20\" dy=\"0.20\">O</text>\n           <text x=\"2.67\" y=\"-0.49\" dx=\"-0.20\" dy=\"0.20\">O</text>\n           <text x=\"0.57\" y=\"0.43\" dx=\"-0.20\" dy=\"0.20\">O</text>\n           <text x=\"-0.00\" y=\"0.82\" dx=\"-0.20\" dy=\"0.20\">N</text>\n           <text x=\"-0.71\" y=\"1.24\" dx=\"-0.20\" dy=\"0.20\">H</text>\n           <text x=\"2.14\" y=\"2.06\" dx=\"-0.35\" dy=\"0.20\">Zn</text>\n           <text x=\"1.73\" y=\"2.78\" dx=\"-0.20\" dy=\"0.20\">N</text>\n           <text x=\"0.74\" y=\"3.67\" dx=\"-0.20\" dy=\"0.20\">N</text>\n           <text x=\"2.86\" y=\"2.47\" dx=\"-0.20\" dy=\"0.20\">N</text>\n           <text x=\"3.75\" y=\"3.47\" dx=\"-0.20\" dy=\"0.20\">N</text>\n           <text x=\"2.56\" y=\"1.35\" dx=\"-0.20\" dy=\"0.20\">O</text>\n           <text x=\"4.01\" y=\"1.88\" dx=\"-0.20\" dy=\"0.20\">O</text>\n           <text x=\"1.02\" y=\"2.36\" dx=\"-0.20\" dy=\"0.20\">H</text>\n           <text x=\"1.84\" y=\"0.94\" dx=\"-0.20\" dy=\"0.20\">H</text>\n           <text x=\"1.43\" y=\"1.65\" dx=\"-0.20\" dy=\"0.20\">O</text>\n           <text x=\"-2.86\" y=\"0.83\" dx=\"-0.20\" dy=\"0.20\">H</text>\n           <text x=\"-1.43\" y=\"0.83\" dx=\"-0.20\" dy=\"0.20\">H</text>\n           <text x=\"-2.14\" y=\"1.24\" dx=\"-0.20\" dy=\"0.20\">O</text>\n          </g>\n          <g font-family=\"monospace\" font-size=\"0.3\" stroke-width=\"0.03\">\n           <text x=\"1.43\" y=\"0.22\" dx=\"0.05\" dy=\"-0.20\">-</text>\n           <text x=\"0.57\" y=\"0.43\" dx=\"0.05\" dy=\"-0.20\">0»-</text>\n           <text x=\"1.43\" y=\"1.65\" dx=\"0.05\" dy=\"-0.20\">0»+</text>\n          </g>\n        </g>\n      </mask>\n    </defs>\n    <g fill=\"none\" stroke=\"black\" stroke-width=\"0.04\"  mask=\"url(#mask-94cfdf36-10ea-404a-9fac-53727fedb5e7)\">\n      <line x1=\"1.43\" y1=\"-1.21\" x2=\"1.84\" y2=\"-0.49\"/>\n      <line x1=\"1.84\" y1=\"-0.49\" x2=\"1.43\" y2=\"0.22\"/>\n      <line x1=\"1.84\" y1=\"-0.55\" x2=\"2.67\" y2=\"-0.55\"/>\n      <line x1=\"1.84\" y1=\"-0.43\" x2=\"2.67\" y2=\"-0.43\"/>\n      <line x1=\"1.43\" y1=\"0.22\" x2=\"1.84\" y2=\"0.94\" stroke=\"green\"/>\n      <line x1=\"0.66\" y1=\"1.25\" x2=\"0.51\" y2=\"0.44\"/>\n      <line x1=\"0.77\" y1=\"1.23\" x2=\"0.63\" y2=\"0.41\" stroke=\"red\"/>\n      <line x1=\"0.71\" y1=\"1.24\" x2=\"0.86\" y2=\"0.43\"/>\n      <line x1=\"0.71\" y1=\"1.24\" x2=\"-0.00\" y2=\"0.82\"/>\n      <line x1=\"0.71\" y1=\"1.24\" x2=\"1.43\" y2=\"1.65\" stroke=\"green\"/>\n      <line x1=\"-0.00\" y1=\"0.82\" x2=\"-0.71\" y2=\"1.24\"/>\n      <line x1=\"-0.00\" y1=\"0.82\" x2=\"0.00\" y2=\"-0.00\"/>\n      <line x1=\"2.14\" y1=\"2.06\" x2=\"2.56\" y2=\"1.35\"/>\n      <line x1=\"2.14\" y1=\"2.06\" x2=\"1.73\" y2=\"2.78\"/>\n      <line x1=\"2.14\" y1=\"2.06\" x2=\"2.86\" y2=\"2.47\"/>\n      <line x1=\"2.14\" y1=\"2.06\" x2=\"1.43\" y2=\"1.65\"/>\n      <line x1=\"1.73\" y1=\"2.78\" x2=\"2.07\" y2=\"3.53\"/>\n      <line x1=\"1.73\" y1=\"2.78\" x2=\"0.91\" y2=\"2.86\"/>\n      <line x1=\"2.11\" y1=\"3.58\" x2=\"1.49\" y2=\"4.13\"/>\n      <line x1=\"2.03\" y1=\"3.49\" x2=\"1.41\" y2=\"4.04\"/>\n      <line x1=\"0.97\" y1=\"2.88\" x2=\"0.80\" y2=\"3.68\"/>\n      <line x1=\"0.85\" y1=\"2.85\" x2=\"0.68\" y2=\"3.66\"/>\n      <line x1=\"1.45\" y1=\"4.08\" x2=\"0.74\" y2=\"3.67\"/>\n      <line x1=\"1.45\" y1=\"4.08\" x2=\"1.54\" y2=\"4.90\"/>\n      <line x1=\"2.86\" y1=\"2.47\" x2=\"3.61\" y2=\"2.14\"/>\n      <line x1=\"2.86\" y1=\"2.47\" x2=\"2.94\" y2=\"3.30\"/>\n      <line x1=\"3.66\" y1=\"2.10\" x2=\"4.21\" y2=\"2.71\"/>\n      <line x1=\"3.57\" y1=\"2.18\" x2=\"4.12\" y2=\"2.79\"/>\n      <line x1=\"2.96\" y1=\"3.24\" x2=\"3.76\" y2=\"3.41\"/>\n      <line x1=\"2.93\" y1=\"3.35\" x2=\"3.74\" y2=\"3.53\"/>\n      <line x1=\"4.16\" y1=\"2.75\" x2=\"3.75\" y2=\"3.47\"/>\n      <line x1=\"4.16\" y1=\"2.75\" x2=\"4.98\" y2=\"2.67\"/>\n      <line x1=\"3.79\" y1=\"0.63\" x2=\"3.38\" y2=\"1.35\"/>\n      <line x1=\"3.38\" y1=\"1.35\" x2=\"2.56\" y2=\"1.35\"/>\n      <line x1=\"3.42\" y1=\"1.30\" x2=\"4.05\" y2=\"1.83\"/>\n      <line x1=\"3.34\" y1=\"1.39\" x2=\"3.97\" y2=\"1.92\"/>\n      <line x1=\"1.02\" y1=\"2.36\" x2=\"1.43\" y2=\"1.65\"/>\n      <line x1=\"1.84\" y1=\"0.94\" x2=\"1.43\" y2=\"1.65\" stroke=\"red\"/>\n      <line x1=\"-2.86\" y1=\"0.83\" x2=\"-2.14\" y2=\"1.24\"/>\n      <line x1=\"-1.43\" y1=\"0.83\" x2=\"-2.14\" y2=\"1.24\"/>\n    </g>\n    <g font-family=\"monospace\">\n      <g fill=\"#FF0D0D\" font-family=\"sans-serif\">\n        <text x=\"1.43\" y=\"0.22\" dx=\"-0.20\" dy=\"0.20\" font-size=\"0.50\">O</text>\n      </g>\n      <g fill=\"#FF0D0D\" font-family=\"sans-serif\">\n        <text x=\"2.67\" y=\"-0.49\" dx=\"-0.20\" dy=\"0.20\" font-size=\"0.50\">O</text>\n      </g>\n      <g fill=\"#FF0D0D\" font-family=\"sans-serif\">\n        <text x=\"0.57\" y=\"0.43\" dx=\"-0.20\" dy=\"0.20\" font-size=\"0.50\">O</text>\n      </g>\n      <g fill=\"#3050F8\" font-family=\"sans-serif\">\n        <text x=\"-0.00\" y=\"0.82\" dx=\"-0.20\" dy=\"0.20\" font-size=\"0.50\">N</text>\n      </g>\n      <g fill=\"#909090\" font-family=\"sans-serif\">\n        <text x=\"-0.71\" y=\"1.24\" dx=\"-0.20\" dy=\"0.20\" font-size=\"0.50\">H</text>\n      </g>\n      <g fill=\"#7D80B0\" font-family=\"sans-serif\">\n        <text x=\"2.14\" y=\"2.06\" dx=\"-0.35\" dy=\"0.20\" font-size=\"0.50\">Zn</text>\n      </g>\n      <g fill=\"#3050F8\" font-family=\"sans-serif\">\n        <text x=\"1.73\" y=\"2.78\" dx=\"-0.20\" dy=\"0.20\" font-size=\"0.50\">N</text>\n      </g>\n      <g fill=\"#3050F8\" font-family=\"sans-serif\">\n        <text x=\"0.74\" y=\"3.67\" dx=\"-0.20\" dy=\"0.20\" font-size=\"0.50\">N</text>\n      </g>\n      <g fill=\"#3050F8\" font-family=\"sans-serif\">\n        <text x=\"2.86\" y=\"2.47\" dx=\"-0.20\" dy=\"0.20\" font-size=\"0.50\">N</text>\n      </g>\n      <g fill=\"#3050F8\" font-family=\"sans-serif\">\n        <text x=\"3.75\" y=\"3.47\" dx=\"-0.20\" dy=\"0.20\" font-size=\"0.50\">N</text>\n      </g>\n      <g fill=\"#FF0D0D\" font-family=\"sans-serif\">\n        <text x=\"2.56\" y=\"1.35\" dx=\"-0.20\" dy=\"0.20\" font-size=\"0.50\">O</text>\n      </g>\n      <g fill=\"#FF0D0D\" font-family=\"sans-serif\">\n        <text x=\"4.01\" y=\"1.88\" dx=\"-0.20\" dy=\"0.20\" font-size=\"0.50\">O</text>\n      </g>\n      <g fill=\"#909090\" font-family=\"sans-serif\">\n        <text x=\"1.02\" y=\"2.36\" dx=\"-0.20\" dy=\"0.20\" font-size=\"0.50\">H</text>\n      </g>\n      <g fill=\"#909090\" font-family=\"sans-serif\">\n        <text x=\"1.84\" y=\"0.94\" dx=\"-0.20\" dy=\"0.20\" font-size=\"0.50\">H</text>\n      </g>\n      <g fill=\"#FF0D0D\" font-family=\"sans-serif\">\n        <text x=\"1.43\" y=\"1.65\" dx=\"-0.20\" dy=\"0.20\" font-size=\"0.50\">O</text>\n      </g>\n      <g fill=\"#909090\" font-family=\"sans-serif\">\n        <text x=\"-2.86\" y=\"0.83\" dx=\"-0.20\" dy=\"0.20\" font-size=\"0.50\">H</text>\n      </g>\n      <g fill=\"#909090\" font-family=\"sans-serif\">\n        <text x=\"-1.43\" y=\"0.83\" dx=\"-0.20\" dy=\"0.20\" font-size=\"0.50\">H</text>\n      </g>\n      <g fill=\"#FF0D0D\" font-family=\"sans-serif\">\n        <text x=\"-2.14\" y=\"1.24\" dx=\"-0.20\" dy=\"0.20\" font-size=\"0.50\">O</text>\n      </g>\n      <g font-family=\"monospace\" fill=\"black\" font-size=\"0.30\">\n        <text x=\"1.43\" y=\"0.22\" dx=\"0.05\" dy=\"-0.20\" font-size=\"0.30\">-</text>\n        <text x=\"0.57\" y=\"0.43\" dx=\"0.05\" dy=\"-0.20\" font-size=\"0.30\">0»-</text>\n        <text x=\"1.43\" y=\"1.65\" dx=\"0.05\" dy=\"-0.20\" font-size=\"0.30\">0»+</text>\n      </g>\n    </g>\n  </g>\n</svg>",
      "text/plain": [
       "<CGRtools.containers.cgr.CGRContainer at 0x7f3209befb00>"
      ]
     },
     "execution_count": 65,
     "metadata": {},
     "output_type": "execute_result"
    }
   ],
   "source": [
    "cgr = ~r # CGR from reactions\n",
    "# or \n",
    "cgr = r.compose()\n",
    "print(cgr) # signature is printed out.\n",
    "cgr.clean2d()\n",
    "cgr"
   ]
  },
  {
   "cell_type": "code",
   "execution_count": 66,
   "metadata": {},
   "outputs": [
    {
     "data": {
      "text/plain": [
       "(3, 5, 6, 29, 30)"
      ]
     },
     "execution_count": 66,
     "metadata": {},
     "output_type": "execute_result"
    }
   ],
   "source": [
    "cgr.center_atoms"
   ]
  },
  {
   "cell_type": "code",
   "execution_count": 67,
   "metadata": {},
   "outputs": [
    {
     "data": {
      "text/plain": [
       "((3, 29), (5, 6), (5, 30), (29, 30))"
      ]
     },
     "execution_count": 67,
     "metadata": {},
     "output_type": "execute_result"
    }
   ],
   "source": [
    "cgr.center_bonds"
   ]
  },
  {
   "cell_type": "code",
   "execution_count": 68,
   "metadata": {},
   "outputs": [
    {
     "data": {
      "text/plain": [
       "((3, 5, 6, 29, 30),)"
      ]
     },
     "execution_count": 68,
     "metadata": {},
     "output_type": "execute_result"
    }
   ],
   "source": [
    "cgr.centers_list"
   ]
  },
  {
   "cell_type": "code",
   "execution_count": null,
   "metadata": {},
   "outputs": [],
   "source": []
  },
  {
   "cell_type": "code",
   "execution_count": 69,
   "metadata": {},
   "outputs": [],
   "source": [
    "r = ReactionContainer(reactants=[m2], products=[m3]) # one-step way to construct reaction"
   ]
  },
  {
   "cell_type": "code",
   "execution_count": 70,
   "metadata": {},
   "outputs": [
    {
     "name": "stdout",
     "output_type": "stream",
     "text": [
      "N1=CN(C=C1C)[Zn](N2C=C(N=C2)C)([O+>0]3[->.][H][.>-]N([H])([->.]C3(C)[->=][O->0])C)OC(C)=O.[H]O[H].[H][O-]C(C)=O\n"
     ]
    },
    {
     "data": {
      "image/svg+xml": "<svg width=\"7.95cm\" height=\"5.67cm\" viewBox=\"-5.27 -2.47 7.95 5.67\" xmlns=\"http://www.w3.org/2000/svg\" version=\"1.1\">\n  <g>\n    <defs>\n      <mask id=\"mask-86f59e9b-a06c-4f8e-b0e3-5681eb5e89cb\">\n        <rect x=\"-5.27\" y=\"-2.47\" width=\"7.95\" height=\"5.67\" fill=\"white\"/>\n        <g fill=\"black\">\n          <circle cx=\"-3.14\" cy=\"0.07\" r=\"0.20\"/>\n          <circle cx=\"-4.23\" cy=\"0.49\" r=\"0.20\"/>\n          <circle cx=\"0.43\" cy=\"1.59\" r=\"0.20\"/>\n          <circle cx=\"1.01\" cy=\"0.58\" r=\"0.20\"/>\n          <circle cx=\"1.22\" cy=\"1.38\" r=\"0.20\"/>\n          <ellipse cx=\"-0.79\" cy=\"-0.41\" rx=\"0.35\" ry=\"0.2\"/>\n          <circle cx=\"-1.43\" cy=\"-0.82\" r=\"0.20\"/>\n          <circle cx=\"-2.32\" cy=\"-1.82\" r=\"0.20\"/>\n          <circle cx=\"-1.13\" cy=\"0.30\" r=\"0.20\"/>\n          <circle cx=\"-2.12\" cy=\"1.20\" r=\"0.20\"/>\n          <circle cx=\"-0.30\" cy=\"-1.13\" r=\"0.20\"/>\n          <circle cx=\"1.16\" cy=\"-0.60\" r=\"0.20\"/>\n          <circle cx=\"0.80\" cy=\"-0.21\" r=\"0.20\"/>\n          <circle cx=\"-3.05\" cy=\"0.89\" r=\"0.20\"/>\n          <circle cx=\"0.00\" cy=\"-0.00\" r=\"0.20\"/>\n          <circle cx=\"-3.59\" cy=\"2.58\" r=\"0.20\"/>\n          <circle cx=\"-3.74\" cy=\"1.16\" r=\"0.20\"/>\n          <circle cx=\"-4.08\" cy=\"1.91\" r=\"0.20\"/>\n        </g>\n        <g font-family=\"monospace\" stroke=\"black\">\n          <g font-family=\"sans-serif\" font-size=\"0.50\" stroke-width=\"0.05\">\n           <text x=\"-3.14\" y=\"0.07\" dx=\"-0.20\" dy=\"0.20\">O</text>\n           <text x=\"-4.23\" y=\"0.49\" dx=\"-0.20\" dy=\"0.20\">O</text>\n           <text x=\"0.43\" y=\"1.59\" dx=\"-0.20\" dy=\"0.20\">O</text>\n           <text x=\"1.01\" y=\"0.58\" dx=\"-0.20\" dy=\"0.20\">N</text>\n           <text x=\"1.22\" y=\"1.38\" dx=\"-0.20\" dy=\"0.20\">H</text>\n           <text x=\"-0.71\" y=\"-0.41\" dx=\"-0.35\" dy=\"0.20\">Zn</text>\n           <text x=\"-1.43\" y=\"-0.82\" dx=\"-0.20\" dy=\"0.20\">N</text>\n           <text x=\"-2.32\" y=\"-1.82\" dx=\"-0.20\" dy=\"0.20\">N</text>\n           <text x=\"-1.13\" y=\"0.30\" dx=\"-0.20\" dy=\"0.20\">N</text>\n           <text x=\"-2.12\" y=\"1.20\" dx=\"-0.20\" dy=\"0.20\">N</text>\n           <text x=\"-0.30\" y=\"-1.13\" dx=\"-0.20\" dy=\"0.20\">O</text>\n           <text x=\"1.16\" y=\"-0.60\" dx=\"-0.20\" dy=\"0.20\">O</text>\n           <text x=\"0.80\" y=\"-0.21\" dx=\"-0.20\" dy=\"0.20\">H</text>\n           <text x=\"-3.05\" y=\"0.89\" dx=\"-0.20\" dy=\"0.20\">H</text>\n           <text x=\"0.00\" y=\"-0.00\" dx=\"-0.20\" dy=\"0.20\">O</text>\n           <text x=\"-3.59\" y=\"2.58\" dx=\"-0.20\" dy=\"0.20\">H</text>\n           <text x=\"-3.74\" y=\"1.16\" dx=\"-0.20\" dy=\"0.20\">H</text>\n           <text x=\"-4.08\" y=\"1.91\" dx=\"-0.20\" dy=\"0.20\">O</text>\n          </g>\n          <g font-family=\"monospace\" font-size=\"0.3\" stroke-width=\"0.03\">\n           <text x=\"-3.14\" y=\"0.07\" dx=\"0.05\" dy=\"-0.20\">-</text>\n           <text x=\"0.43\" y=\"1.59\" dx=\"0.05\" dy=\"-0.20\">-»0</text>\n           <text x=\"0.43\" y=\"1.59\" dx=\"0.05\" dy=\"-0.20\">-</text>\n           <text x=\"0.00\" y=\"-0.00\" dx=\"0.05\" dy=\"-0.20\">+»0</text>\n           <text x=\"0.00\" y=\"-0.00\" dx=\"0.05\" dy=\"-0.20\">+</text>\n          </g>\n        </g>\n      </mask>\n    </defs>\n    <g fill=\"none\" stroke=\"black\" stroke-width=\"0.04\"  mask=\"url(#mask-86f59e9b-a06c-4f8e-b0e3-5681eb5e89cb)\">\n      <line x1=\"-4.64\" y1=\"-0.60\" x2=\"-3.89\" y2=\"-0.26\"/>\n      <line x1=\"-3.89\" y1=\"-0.26\" x2=\"-3.14\" y2=\"0.07\"/>\n      <line x1=\"-3.84\" y1=\"-0.24\" x2=\"-4.17\" y2=\"0.52\"/>\n      <line x1=\"-3.95\" y1=\"-0.29\" x2=\"-4.28\" y2=\"0.47\"/>\n      <line x1=\"-3.14\" y1=\"0.07\" x2=\"-3.05\" y2=\"0.89\"/>\n      <line x1=\"0.21\" y1=\"0.80\" x2=\"-0.46\" y2=\"1.27\"/>\n      <line x1=\"0.21\" y1=\"0.80\" x2=\"1.01\" y2=\"0.58\" stroke=\"red\"/>\n      <line x1=\"0.21\" y1=\"0.80\" x2=\"0.00\" y2=\"-0.00\"/>\n      <line x1=\"0.27\" y1=\"0.78\" x2=\"0.49\" y2=\"1.58\"/>\n      <line x1=\"0.16\" y1=\"0.81\" x2=\"0.37\" y2=\"1.61\" stroke=\"green\"/>\n      <line x1=\"1.01\" y1=\"0.58\" x2=\"1.22\" y2=\"1.38\"/>\n      <line x1=\"1.01\" y1=\"0.58\" x2=\"1.81\" y2=\"0.37\"/>\n      <line x1=\"1.01\" y1=\"0.58\" x2=\"0.80\" y2=\"-0.21\" stroke=\"green\"/>\n      <line x1=\"-0.71\" y1=\"-0.41\" x2=\"-0.30\" y2=\"-1.13\"/>\n      <line x1=\"-0.71\" y1=\"-0.41\" x2=\"-1.43\" y2=\"-0.82\"/>\n      <line x1=\"-0.71\" y1=\"-0.41\" x2=\"-1.13\" y2=\"0.30\"/>\n      <line x1=\"-0.71\" y1=\"-0.41\" x2=\"0.00\" y2=\"-0.00\"/>\n      <line x1=\"-1.43\" y1=\"-0.82\" x2=\"-2.18\" y2=\"-0.49\"/>\n      <line x1=\"-1.43\" y1=\"-0.82\" x2=\"-1.52\" y2=\"-1.65\"/>\n      <line x1=\"-2.23\" y1=\"-0.45\" x2=\"-2.78\" y2=\"-1.06\"/>\n      <line x1=\"-2.14\" y1=\"-0.53\" x2=\"-2.69\" y2=\"-1.14\"/>\n      <line x1=\"-1.53\" y1=\"-1.59\" x2=\"-2.33\" y2=\"-1.76\"/>\n      <line x1=\"-1.50\" y1=\"-1.70\" x2=\"-2.31\" y2=\"-1.88\"/>\n      <line x1=\"-2.73\" y1=\"-1.10\" x2=\"-2.32\" y2=\"-1.82\"/>\n      <line x1=\"-2.73\" y1=\"-1.10\" x2=\"-3.56\" y2=\"-1.02\"/>\n      <line x1=\"-1.13\" y1=\"0.30\" x2=\"-0.79\" y2=\"1.06\"/>\n      <line x1=\"-1.13\" y1=\"0.30\" x2=\"-1.95\" y2=\"0.39\"/>\n      <line x1=\"-0.75\" y1=\"1.10\" x2=\"-1.36\" y2=\"1.65\"/>\n      <line x1=\"-0.83\" y1=\"1.01\" x2=\"-1.44\" y2=\"1.56\"/>\n      <line x1=\"-1.89\" y1=\"0.40\" x2=\"-2.06\" y2=\"1.21\"/>\n      <line x1=\"-2.01\" y1=\"0.38\" x2=\"-2.18\" y2=\"1.18\"/>\n      <line x1=\"-1.40\" y1=\"1.61\" x2=\"-2.12\" y2=\"1.20\"/>\n      <line x1=\"-1.40\" y1=\"1.61\" x2=\"-1.32\" y2=\"2.43\"/>\n      <line x1=\"0.94\" y1=\"-1.84\" x2=\"0.52\" y2=\"-1.13\"/>\n      <line x1=\"0.52\" y1=\"-1.13\" x2=\"-0.30\" y2=\"-1.13\"/>\n      <line x1=\"0.56\" y1=\"-1.17\" x2=\"1.19\" y2=\"-0.64\"/>\n      <line x1=\"0.48\" y1=\"-1.08\" x2=\"1.12\" y2=\"-0.55\"/>\n      <line x1=\"0.80\" y1=\"-0.21\" x2=\"0.00\" y2=\"-0.00\" stroke=\"red\"/>\n      <line x1=\"-3.59\" y1=\"2.58\" x2=\"-4.08\" y2=\"1.91\"/>\n      <line x1=\"-3.74\" y1=\"1.16\" x2=\"-4.08\" y2=\"1.91\"/>\n    </g>\n    <g font-family=\"monospace\">\n      <g fill=\"#FF0D0D\" font-family=\"sans-serif\">\n        <text x=\"-3.14\" y=\"0.07\" dx=\"-0.20\" dy=\"0.20\" font-size=\"0.50\">O</text>\n      </g>\n      <g fill=\"#FF0D0D\" font-family=\"sans-serif\">\n        <text x=\"-4.23\" y=\"0.49\" dx=\"-0.20\" dy=\"0.20\" font-size=\"0.50\">O</text>\n      </g>\n      <g fill=\"#FF0D0D\" font-family=\"sans-serif\">\n        <text x=\"0.43\" y=\"1.59\" dx=\"-0.20\" dy=\"0.20\" font-size=\"0.50\">O</text>\n      </g>\n      <g fill=\"#3050F8\" font-family=\"sans-serif\">\n        <text x=\"1.01\" y=\"0.58\" dx=\"-0.20\" dy=\"0.20\" font-size=\"0.50\">N</text>\n      </g>\n      <g fill=\"#909090\" font-family=\"sans-serif\">\n        <text x=\"1.22\" y=\"1.38\" dx=\"-0.20\" dy=\"0.20\" font-size=\"0.50\">H</text>\n      </g>\n      <g fill=\"#7D80B0\" font-family=\"sans-serif\">\n        <text x=\"-0.71\" y=\"-0.41\" dx=\"-0.35\" dy=\"0.20\" font-size=\"0.50\">Zn</text>\n      </g>\n      <g fill=\"#3050F8\" font-family=\"sans-serif\">\n        <text x=\"-1.43\" y=\"-0.82\" dx=\"-0.20\" dy=\"0.20\" font-size=\"0.50\">N</text>\n      </g>\n      <g fill=\"#3050F8\" font-family=\"sans-serif\">\n        <text x=\"-2.32\" y=\"-1.82\" dx=\"-0.20\" dy=\"0.20\" font-size=\"0.50\">N</text>\n      </g>\n      <g fill=\"#3050F8\" font-family=\"sans-serif\">\n        <text x=\"-1.13\" y=\"0.30\" dx=\"-0.20\" dy=\"0.20\" font-size=\"0.50\">N</text>\n      </g>\n      <g fill=\"#3050F8\" font-family=\"sans-serif\">\n        <text x=\"-2.12\" y=\"1.20\" dx=\"-0.20\" dy=\"0.20\" font-size=\"0.50\">N</text>\n      </g>\n      <g fill=\"#FF0D0D\" font-family=\"sans-serif\">\n        <text x=\"-0.30\" y=\"-1.13\" dx=\"-0.20\" dy=\"0.20\" font-size=\"0.50\">O</text>\n      </g>\n      <g fill=\"#FF0D0D\" font-family=\"sans-serif\">\n        <text x=\"1.16\" y=\"-0.60\" dx=\"-0.20\" dy=\"0.20\" font-size=\"0.50\">O</text>\n      </g>\n      <g fill=\"#909090\" font-family=\"sans-serif\">\n        <text x=\"0.80\" y=\"-0.21\" dx=\"-0.20\" dy=\"0.20\" font-size=\"0.50\">H</text>\n      </g>\n      <g fill=\"#909090\" font-family=\"sans-serif\">\n        <text x=\"-3.05\" y=\"0.89\" dx=\"-0.20\" dy=\"0.20\" font-size=\"0.50\">H</text>\n      </g>\n      <g fill=\"#FF0D0D\" font-family=\"sans-serif\">\n        <text x=\"0.00\" y=\"-0.00\" dx=\"-0.20\" dy=\"0.20\" font-size=\"0.50\">O</text>\n      </g>\n      <g fill=\"#909090\" font-family=\"sans-serif\">\n        <text x=\"-3.59\" y=\"2.58\" dx=\"-0.20\" dy=\"0.20\" font-size=\"0.50\">H</text>\n      </g>\n      <g fill=\"#909090\" font-family=\"sans-serif\">\n        <text x=\"-3.74\" y=\"1.16\" dx=\"-0.20\" dy=\"0.20\" font-size=\"0.50\">H</text>\n      </g>\n      <g fill=\"#FF0D0D\" font-family=\"sans-serif\">\n        <text x=\"-4.08\" y=\"1.91\" dx=\"-0.20\" dy=\"0.20\" font-size=\"0.50\">O</text>\n      </g>\n      <g font-family=\"monospace\" fill=\"black\" font-size=\"0.30\">\n        <text x=\"-3.14\" y=\"0.07\" dx=\"0.05\" dy=\"-0.20\" font-size=\"0.30\">-</text>\n        <text x=\"0.43\" y=\"1.59\" dx=\"0.05\" dy=\"-0.20\" font-size=\"0.30\">-»0</text>\n        <text x=\"0.43\" y=\"1.59\" dx=\"0.05\" dy=\"-0.20\" font-size=\"0.30\">-</text>\n        <text x=\"0.00\" y=\"-0.00\" dx=\"0.05\" dy=\"-0.20\" font-size=\"0.30\">+»0</text>\n        <text x=\"0.00\" y=\"-0.00\" dx=\"0.05\" dy=\"-0.20\" font-size=\"0.30\">+</text>\n      </g>\n    </g>\n  </g>\n</svg>",
      "text/plain": [
       "<CGRtools.containers.cgr.CGRContainer at 0x7f3209befc40>"
      ]
     },
     "execution_count": 70,
     "metadata": {},
     "output_type": "execute_result"
    }
   ],
   "source": [
    "cgr = ~r # CGR from reactions\n",
    "# or \n",
    "cgr = r.compose()\n",
    "print(cgr) # signature is printed out.\n",
    "cgr.clean2d()\n",
    "cgr"
   ]
  },
  {
   "cell_type": "code",
   "execution_count": 71,
   "metadata": {},
   "outputs": [
    {
     "data": {
      "text/plain": [
       "(5, 6, 8, 28, 30)"
      ]
     },
     "execution_count": 71,
     "metadata": {},
     "output_type": "execute_result"
    }
   ],
   "source": [
    "cgr.center_atoms"
   ]
  },
  {
   "cell_type": "code",
   "execution_count": 72,
   "metadata": {},
   "outputs": [
    {
     "data": {
      "text/plain": [
       "((5, 8), (5, 6), (8, 28), (28, 30))"
      ]
     },
     "execution_count": 72,
     "metadata": {},
     "output_type": "execute_result"
    }
   ],
   "source": [
    "cgr.center_bonds"
   ]
  },
  {
   "cell_type": "code",
   "execution_count": 73,
   "metadata": {},
   "outputs": [
    {
     "data": {
      "text/plain": [
       "((5, 6, 8, 28, 30),)"
      ]
     },
     "execution_count": 73,
     "metadata": {},
     "output_type": "execute_result"
    }
   ],
   "source": [
    "cgr.centers_list"
   ]
  },
  {
   "cell_type": "code",
   "execution_count": null,
   "metadata": {},
   "outputs": [],
   "source": []
  },
  {
   "cell_type": "code",
   "execution_count": 74,
   "metadata": {},
   "outputs": [],
   "source": [
    "r = ReactionContainer(reactants=[m3], products=[m4]) # one-step way to construct reaction"
   ]
  },
  {
   "cell_type": "code",
   "execution_count": 75,
   "metadata": {},
   "outputs": [
    {
     "name": "stdout",
     "output_type": "stream",
     "text": [
      "C=1N(C=NC=1C)[Zn](OC(C)=O)(OC(C)=O)(N2C=C(C)N=C2)[.>-]O([H])[H].[H]N([H])C.[H][O-]C(C)=O\n"
     ]
    },
    {
     "data": {
      "image/svg+xml": "<svg width=\"10.23cm\" height=\"6.39cm\" viewBox=\"-4.43 -3.53 10.23 6.39\" xmlns=\"http://www.w3.org/2000/svg\" version=\"1.1\">\n  <g>\n    <defs>\n      <mask id=\"mask-fd92c798-0e3e-4b24-b5bc-a30d49fb2dbb\">\n        <rect x=\"-4.43\" y=\"-3.53\" width=\"10.23\" height=\"6.39\" fill=\"white\"/>\n        <g fill=\"black\">\n          <circle cx=\"-0.82\" cy=\"0.97\" r=\"0.20\"/>\n          <circle cx=\"-1.75\" cy=\"2.24\" r=\"0.20\"/>\n          <circle cx=\"0.00\" cy=\"0.97\" r=\"0.20\"/>\n          <circle cx=\"-2.98\" cy=\"0.00\" r=\"0.20\"/>\n          <circle cx=\"-3.81\" cy=\"0.00\" r=\"0.20\"/>\n          <ellipse cx=\"2.08\" cy=\"-0.00\" rx=\"0.35\" ry=\"0.2\"/>\n          <circle cx=\"2.98\" cy=\"-0.00\" r=\"0.20\"/>\n          <circle cx=\"4.25\" cy=\"-0.41\" r=\"0.20\"/>\n          <circle cx=\"2.41\" cy=\"-0.78\" r=\"0.20\"/>\n          <circle cx=\"3.20\" cy=\"-1.86\" r=\"0.20\"/>\n          <circle cx=\"2.41\" cy=\"0.78\" r=\"0.20\"/>\n          <circle cx=\"2.12\" cy=\"2.18\" r=\"0.20\"/>\n          <circle cx=\"-3.24\" cy=\"-0.78\" r=\"0.20\"/>\n          <circle cx=\"-1.49\" cy=\"0.48\" r=\"0.20\"/>\n          <circle cx=\"1.49\" cy=\"0.48\" r=\"0.20\"/>\n          <circle cx=\"1.24\" cy=\"-1.27\" r=\"0.20\"/>\n          <circle cx=\"0.67\" cy=\"-0.48\" r=\"0.20\"/>\n          <circle cx=\"1.49\" cy=\"-0.48\" r=\"0.20\"/>\n        </g>\n        <g font-family=\"monospace\" stroke=\"black\">\n          <g font-family=\"sans-serif\" font-size=\"0.50\" stroke-width=\"0.05\">\n           <text x=\"-0.82\" y=\"0.97\" dx=\"-0.20\" dy=\"0.20\">O</text>\n           <text x=\"-1.75\" y=\"2.24\" dx=\"-0.20\" dy=\"0.20\">O</text>\n           <text x=\"0.00\" y=\"0.97\" dx=\"-0.20\" dy=\"0.20\">O</text>\n           <text x=\"-2.98\" y=\"0.00\" dx=\"-0.20\" dy=\"0.20\">N</text>\n           <text x=\"-3.81\" y=\"0.00\" dx=\"-0.20\" dy=\"0.20\">H</text>\n           <text x=\"2.16\" y=\"-0.00\" dx=\"-0.35\" dy=\"0.20\">Zn</text>\n           <text x=\"2.98\" y=\"-0.00\" dx=\"-0.20\" dy=\"0.20\">N</text>\n           <text x=\"4.25\" y=\"-0.41\" dx=\"-0.20\" dy=\"0.20\">N</text>\n           <text x=\"2.41\" y=\"-0.78\" dx=\"-0.20\" dy=\"0.20\">N</text>\n           <text x=\"3.20\" y=\"-1.86\" dx=\"-0.20\" dy=\"0.20\">N</text>\n           <text x=\"2.41\" y=\"0.78\" dx=\"-0.20\" dy=\"0.20\">O</text>\n           <text x=\"2.12\" y=\"2.18\" dx=\"-0.20\" dy=\"0.20\">O</text>\n           <text x=\"-3.24\" y=\"-0.78\" dx=\"-0.20\" dy=\"0.20\">H</text>\n           <text x=\"-1.49\" y=\"0.48\" dx=\"-0.20\" dy=\"0.20\">H</text>\n           <text x=\"1.49\" y=\"0.48\" dx=\"-0.20\" dy=\"0.20\">O</text>\n           <text x=\"1.24\" y=\"-1.27\" dx=\"-0.20\" dy=\"0.20\">H</text>\n           <text x=\"0.67\" y=\"-0.48\" dx=\"-0.20\" dy=\"0.20\">H</text>\n           <text x=\"1.49\" y=\"-0.48\" dx=\"-0.20\" dy=\"0.20\">O</text>\n          </g>\n          <g font-family=\"monospace\" font-size=\"0.3\" stroke-width=\"0.03\">\n           <text x=\"-0.82\" y=\"0.97\" dx=\"0.05\" dy=\"-0.20\">-</text>\n          </g>\n        </g>\n      </mask>\n    </defs>\n    <g fill=\"none\" stroke=\"black\" stroke-width=\"0.04\"  mask=\"url(#mask-fd92c798-0e3e-4b24-b5bc-a30d49fb2dbb)\">\n      <line x1=\"-2.32\" y1=\"1.45\" x2=\"-1.49\" y2=\"1.45\"/>\n      <line x1=\"-1.49\" y1=\"1.45\" x2=\"-0.82\" y2=\"0.97\"/>\n      <line x1=\"-1.44\" y1=\"1.47\" x2=\"-1.69\" y2=\"2.26\"/>\n      <line x1=\"-1.55\" y1=\"1.44\" x2=\"-1.80\" y2=\"2.22\"/>\n      <line x1=\"-0.82\" y1=\"0.97\" x2=\"-1.49\" y2=\"0.48\"/>\n      <line x1=\"0.67\" y1=\"0.48\" x2=\"0.00\" y2=\"-0.00\"/>\n      <line x1=\"0.67\" y1=\"0.48\" x2=\"1.49\" y2=\"0.48\"/>\n      <line x1=\"0.70\" y1=\"0.53\" x2=\"0.04\" y2=\"1.02\"/>\n      <line x1=\"0.63\" y1=\"0.44\" x2=\"-0.04\" y2=\"0.92\"/>\n      <line x1=\"-2.98\" y1=\"0.00\" x2=\"-3.81\" y2=\"0.00\"/>\n      <line x1=\"-2.98\" y1=\"0.00\" x2=\"-2.32\" y2=\"0.48\"/>\n      <line x1=\"-2.98\" y1=\"0.00\" x2=\"-3.24\" y2=\"-0.78\"/>\n      <line x1=\"2.16\" y1=\"-0.00\" x2=\"2.41\" y2=\"0.78\"/>\n      <line x1=\"2.16\" y1=\"-0.00\" x2=\"2.98\" y2=\"-0.00\"/>\n      <line x1=\"2.16\" y1=\"-0.00\" x2=\"2.41\" y2=\"-0.78\"/>\n      <line x1=\"2.16\" y1=\"-0.00\" x2=\"1.49\" y2=\"0.48\"/>\n      <line x1=\"2.16\" y1=\"-0.00\" x2=\"1.49\" y2=\"-0.48\" stroke=\"green\"/>\n      <line x1=\"2.98\" y1=\"-0.00\" x2=\"3.47\" y2=\"0.67\"/>\n      <line x1=\"2.98\" y1=\"-0.00\" x2=\"3.47\" y2=\"-0.67\"/>\n      <line x1=\"3.45\" y1=\"0.61\" x2=\"4.24\" y2=\"0.36\"/>\n      <line x1=\"3.49\" y1=\"0.72\" x2=\"4.27\" y2=\"0.47\"/>\n      <line x1=\"3.49\" y1=\"-0.72\" x2=\"4.27\" y2=\"-0.47\"/>\n      <line x1=\"3.45\" y1=\"-0.61\" x2=\"4.24\" y2=\"-0.36\"/>\n      <line x1=\"4.25\" y1=\"0.41\" x2=\"4.25\" y2=\"-0.41\"/>\n      <line x1=\"4.25\" y1=\"0.41\" x2=\"4.92\" y2=\"0.90\"/>\n      <line x1=\"2.41\" y1=\"-0.78\" x2=\"1.93\" y2=\"-1.45\"/>\n      <line x1=\"2.41\" y1=\"-0.78\" x2=\"3.20\" y2=\"-1.04\"/>\n      <line x1=\"1.88\" y1=\"-1.49\" x2=\"2.37\" y2=\"-2.15\"/>\n      <line x1=\"1.98\" y1=\"-1.42\" x2=\"2.46\" y2=\"-2.08\"/>\n      <line x1=\"3.14\" y1=\"-1.04\" x2=\"3.14\" y2=\"-1.86\"/>\n      <line x1=\"3.26\" y1=\"-1.04\" x2=\"3.26\" y2=\"-1.86\"/>\n      <line x1=\"2.41\" y1=\"-2.12\" x2=\"3.20\" y2=\"-1.86\"/>\n      <line x1=\"2.41\" y1=\"-2.12\" x2=\"2.16\" y2=\"-2.90\"/>\n      <line x1=\"1.06\" y1=\"1.23\" x2=\"1.86\" y2=\"1.40\"/>\n      <line x1=\"1.86\" y1=\"1.40\" x2=\"2.41\" y2=\"0.78\"/>\n      <line x1=\"1.92\" y1=\"1.38\" x2=\"2.17\" y2=\"2.16\"/>\n      <line x1=\"1.81\" y1=\"1.42\" x2=\"2.06\" y2=\"2.20\"/>\n      <line x1=\"1.24\" y1=\"-1.27\" x2=\"1.49\" y2=\"-0.48\"/>\n      <line x1=\"0.67\" y1=\"-0.48\" x2=\"1.49\" y2=\"-0.48\"/>\n    </g>\n    <g font-family=\"monospace\">\n      <g fill=\"#FF0D0D\" font-family=\"sans-serif\">\n        <text x=\"-0.82\" y=\"0.97\" dx=\"-0.20\" dy=\"0.20\" font-size=\"0.50\">O</text>\n      </g>\n      <g fill=\"#FF0D0D\" font-family=\"sans-serif\">\n        <text x=\"-1.75\" y=\"2.24\" dx=\"-0.20\" dy=\"0.20\" font-size=\"0.50\">O</text>\n      </g>\n      <g fill=\"#FF0D0D\" font-family=\"sans-serif\">\n        <text x=\"0.00\" y=\"0.97\" dx=\"-0.20\" dy=\"0.20\" font-size=\"0.50\">O</text>\n      </g>\n      <g fill=\"#3050F8\" font-family=\"sans-serif\">\n        <text x=\"-2.98\" y=\"0.00\" dx=\"-0.20\" dy=\"0.20\" font-size=\"0.50\">N</text>\n      </g>\n      <g fill=\"#909090\" font-family=\"sans-serif\">\n        <text x=\"-3.81\" y=\"0.00\" dx=\"-0.20\" dy=\"0.20\" font-size=\"0.50\">H</text>\n      </g>\n      <g fill=\"#7D80B0\" font-family=\"sans-serif\">\n        <text x=\"2.16\" y=\"-0.00\" dx=\"-0.35\" dy=\"0.20\" font-size=\"0.50\">Zn</text>\n      </g>\n      <g fill=\"#3050F8\" font-family=\"sans-serif\">\n        <text x=\"2.98\" y=\"-0.00\" dx=\"-0.20\" dy=\"0.20\" font-size=\"0.50\">N</text>\n      </g>\n      <g fill=\"#3050F8\" font-family=\"sans-serif\">\n        <text x=\"4.25\" y=\"-0.41\" dx=\"-0.20\" dy=\"0.20\" font-size=\"0.50\">N</text>\n      </g>\n      <g fill=\"#3050F8\" font-family=\"sans-serif\">\n        <text x=\"2.41\" y=\"-0.78\" dx=\"-0.20\" dy=\"0.20\" font-size=\"0.50\">N</text>\n      </g>\n      <g fill=\"#3050F8\" font-family=\"sans-serif\">\n        <text x=\"3.20\" y=\"-1.86\" dx=\"-0.20\" dy=\"0.20\" font-size=\"0.50\">N</text>\n      </g>\n      <g fill=\"#FF0D0D\" font-family=\"sans-serif\">\n        <text x=\"2.41\" y=\"0.78\" dx=\"-0.20\" dy=\"0.20\" font-size=\"0.50\">O</text>\n      </g>\n      <g fill=\"#FF0D0D\" font-family=\"sans-serif\">\n        <text x=\"2.12\" y=\"2.18\" dx=\"-0.20\" dy=\"0.20\" font-size=\"0.50\">O</text>\n      </g>\n      <g fill=\"#909090\" font-family=\"sans-serif\">\n        <text x=\"-3.24\" y=\"-0.78\" dx=\"-0.20\" dy=\"0.20\" font-size=\"0.50\">H</text>\n      </g>\n      <g fill=\"#909090\" font-family=\"sans-serif\">\n        <text x=\"-1.49\" y=\"0.48\" dx=\"-0.20\" dy=\"0.20\" font-size=\"0.50\">H</text>\n      </g>\n      <g fill=\"#FF0D0D\" font-family=\"sans-serif\">\n        <text x=\"1.49\" y=\"0.48\" dx=\"-0.20\" dy=\"0.20\" font-size=\"0.50\">O</text>\n      </g>\n      <g fill=\"#909090\" font-family=\"sans-serif\">\n        <text x=\"1.24\" y=\"-1.27\" dx=\"-0.20\" dy=\"0.20\" font-size=\"0.50\">H</text>\n      </g>\n      <g fill=\"#909090\" font-family=\"sans-serif\">\n        <text x=\"0.67\" y=\"-0.48\" dx=\"-0.20\" dy=\"0.20\" font-size=\"0.50\">H</text>\n      </g>\n      <g fill=\"#FF0D0D\" font-family=\"sans-serif\">\n        <text x=\"1.49\" y=\"-0.48\" dx=\"-0.20\" dy=\"0.20\" font-size=\"0.50\">O</text>\n      </g>\n      <g font-family=\"monospace\" fill=\"black\" font-size=\"0.30\">\n        <text x=\"-0.82\" y=\"0.97\" dx=\"0.05\" dy=\"-0.20\" font-size=\"0.30\">-</text>\n      </g>\n    </g>\n  </g>\n</svg>",
      "text/plain": [
       "<CGRtools.containers.cgr.CGRContainer at 0x7f3209befe20>"
      ]
     },
     "execution_count": 75,
     "metadata": {},
     "output_type": "execute_result"
    }
   ],
   "source": [
    "cgr = ~r # CGR from reactions\n",
    "# or \n",
    "cgr = r.compose()\n",
    "print(cgr) # signature is printed out.\n",
    "cgr.clean2d()\n",
    "cgr"
   ]
  },
  {
   "cell_type": "code",
   "execution_count": 76,
   "metadata": {},
   "outputs": [
    {
     "data": {
      "text/plain": [
       "(33, 11)"
      ]
     },
     "execution_count": 76,
     "metadata": {},
     "output_type": "execute_result"
    }
   ],
   "source": [
    "cgr.center_atoms"
   ]
  },
  {
   "cell_type": "code",
   "execution_count": 77,
   "metadata": {},
   "outputs": [
    {
     "data": {
      "text/plain": [
       "((11, 33),)"
      ]
     },
     "execution_count": 77,
     "metadata": {},
     "output_type": "execute_result"
    }
   ],
   "source": [
    "cgr.center_bonds"
   ]
  },
  {
   "cell_type": "code",
   "execution_count": 78,
   "metadata": {},
   "outputs": [
    {
     "data": {
      "text/plain": [
       "((33, 11),)"
      ]
     },
     "execution_count": 78,
     "metadata": {},
     "output_type": "execute_result"
    }
   ],
   "source": [
    "cgr.centers_list"
   ]
  },
  {
   "cell_type": "code",
   "execution_count": null,
   "metadata": {},
   "outputs": [],
   "source": []
  },
  {
   "cell_type": "code",
   "execution_count": 80,
   "metadata": {},
   "outputs": [],
   "source": [
    "r = ReactionContainer(reactants=[m4], products=[m]) # one-step way to construct reaction"
   ]
  },
  {
   "cell_type": "code",
   "execution_count": 81,
   "metadata": {},
   "outputs": [
    {
     "name": "stdout",
     "output_type": "stream",
     "text": [
      "N1=CN(C=C1C)[Zn](N2C=NC(=C2)C)(O[->.]3([.>-][H][->.][O-]C(=O)C)[.>-][H][->.]N(C)([H])[.>-]C[->.]3(C)=O)(OC(=O)C)[->.]O([H])[H]\n"
     ]
    },
    {
     "data": {
      "image/svg+xml": "<svg width=\"6.42cm\" height=\"6.45cm\" viewBox=\"-4.96 -4.23 6.42 6.45\" xmlns=\"http://www.w3.org/2000/svg\" version=\"1.1\">\n  <g>\n    <defs>\n      <mask id=\"mask-0468e69b-d419-48b7-bb14-32c0ca1679bd\">\n        <rect x=\"-4.96\" y=\"-4.23\" width=\"6.42\" height=\"6.45\" fill=\"white\"/>\n        <g fill=\"black\">\n          <circle cx=\"-1.54\" cy=\"0.21\" r=\"0.20\"/>\n          <circle cx=\"-1.91\" cy=\"1.59\" r=\"0.20\"/>\n          <circle cx=\"0.00\" cy=\"-0.00\" r=\"0.20\"/>\n          <circle cx=\"-0.00\" cy=\"-1.17\" r=\"0.20\"/>\n          <circle cx=\"0.58\" cy=\"-0.58\" r=\"0.20\"/>\n          <ellipse cx=\"-1.83\" cy=\"-1.75\" rx=\"0.35\" ry=\"0.2\"/>\n          <circle cx=\"-2.12\" cy=\"-1.02\" r=\"0.20\"/>\n          <circle cx=\"-2.33\" cy=\"0.30\" r=\"0.20\"/>\n          <circle cx=\"-2.56\" cy=\"-1.88\" r=\"0.20\"/>\n          <circle cx=\"-3.88\" cy=\"-1.67\" r=\"0.20\"/>\n          <circle cx=\"-1.02\" cy=\"-2.12\" r=\"0.20\"/>\n          <circle cx=\"-0.24\" cy=\"-3.32\" r=\"0.20\"/>\n          <circle cx=\"-0.58\" cy=\"-1.75\" r=\"0.20\"/>\n          <circle cx=\"-1.75\" cy=\"-0.58\" r=\"0.20\"/>\n          <circle cx=\"-1.17\" cy=\"-1.17\" r=\"0.20\"/>\n          <circle cx=\"-1.78\" cy=\"-3.38\" r=\"0.20\"/>\n          <circle cx=\"-2.46\" cy=\"-3.15\" r=\"0.20\"/>\n          <circle cx=\"-1.88\" cy=\"-2.56\" r=\"0.20\"/>\n        </g>\n        <g font-family=\"monospace\" stroke=\"black\">\n          <g font-family=\"sans-serif\" font-size=\"0.50\" stroke-width=\"0.05\">\n           <text x=\"-1.54\" y=\"0.21\" dx=\"-0.20\" dy=\"0.20\">O</text>\n           <text x=\"-1.91\" y=\"1.59\" dx=\"-0.20\" dy=\"0.20\">O</text>\n           <text x=\"0.00\" y=\"-0.00\" dx=\"-0.20\" dy=\"0.20\">O</text>\n           <text x=\"-0.00\" y=\"-1.17\" dx=\"-0.20\" dy=\"0.20\">N</text>\n           <text x=\"0.58\" y=\"-0.58\" dx=\"-0.20\" dy=\"0.20\">H</text>\n           <text x=\"-1.75\" y=\"-1.75\" dx=\"-0.35\" dy=\"0.20\">Zn</text>\n           <text x=\"-2.12\" y=\"-1.02\" dx=\"-0.20\" dy=\"0.20\">N</text>\n           <text x=\"-2.33\" y=\"0.30\" dx=\"-0.20\" dy=\"0.20\">N</text>\n           <text x=\"-2.56\" y=\"-1.88\" dx=\"-0.20\" dy=\"0.20\">N</text>\n           <text x=\"-3.88\" y=\"-1.67\" dx=\"-0.20\" dy=\"0.20\">N</text>\n           <text x=\"-1.02\" y=\"-2.12\" dx=\"-0.20\" dy=\"0.20\">O</text>\n           <text x=\"-0.24\" y=\"-3.32\" dx=\"-0.20\" dy=\"0.20\">O</text>\n           <text x=\"-0.58\" y=\"-1.75\" dx=\"-0.20\" dy=\"0.20\">H</text>\n           <text x=\"-1.75\" y=\"-0.58\" dx=\"-0.20\" dy=\"0.20\">H</text>\n           <text x=\"-1.17\" y=\"-1.17\" dx=\"-0.20\" dy=\"0.20\">O</text>\n           <text x=\"-1.78\" y=\"-3.38\" dx=\"-0.20\" dy=\"0.20\">H</text>\n           <text x=\"-2.46\" y=\"-3.15\" dx=\"-0.20\" dy=\"0.20\">H</text>\n           <text x=\"-1.88\" y=\"-2.56\" dx=\"-0.20\" dy=\"0.20\">O</text>\n          </g>\n          <g font-family=\"monospace\" font-size=\"0.3\" stroke-width=\"0.03\">\n           <text x=\"-1.54\" y=\"0.21\" dx=\"0.05\" dy=\"-0.20\">-</text>\n          </g>\n        </g>\n      </mask>\n    </defs>\n    <g fill=\"none\" stroke=\"black\" stroke-width=\"0.04\"  mask=\"url(#mask-0468e69b-d419-48b7-bb14-32c0ca1679bd)\">\n      <line x1=\"-2.92\" y1=\"0.58\" x2=\"-2.12\" y2=\"0.80\"/>\n      <line x1=\"-2.12\" y1=\"0.80\" x2=\"-1.54\" y2=\"0.21\"/>\n      <line x1=\"-2.06\" y1=\"0.78\" x2=\"-1.85\" y2=\"1.58\"/>\n      <line x1=\"-2.18\" y1=\"0.81\" x2=\"-1.96\" y2=\"1.61\"/>\n      <line x1=\"-1.54\" y1=\"0.21\" x2=\"-1.75\" y2=\"-0.58\" stroke=\"red\"/>\n      <line x1=\"-0.58\" y1=\"-0.58\" x2=\"-0.93\" y2=\"0.16\"/>\n      <line x1=\"-0.58\" y1=\"-0.58\" x2=\"-1.17\" y2=\"-1.17\" stroke=\"red\"/>\n      <line x1=\"-0.54\" y1=\"-0.63\" x2=\"0.04\" y2=\"-0.04\"/>\n      <line x1=\"-0.63\" y1=\"-0.54\" x2=\"-0.04\" y2=\"0.04\"/>\n      <line x1=\"-0.58\" y1=\"-0.58\" x2=\"-0.00\" y2=\"-1.17\" stroke=\"green\"/>\n      <line x1=\"-0.00\" y1=\"-1.17\" x2=\"0.58\" y2=\"-0.58\"/>\n      <line x1=\"-0.00\" y1=\"-1.17\" x2=\"0.58\" y2=\"-1.75\"/>\n      <line x1=\"-0.00\" y1=\"-1.17\" x2=\"-0.58\" y2=\"-1.75\" stroke=\"red\"/>\n      <line x1=\"-1.75\" y1=\"-1.75\" x2=\"-1.02\" y2=\"-2.12\"/>\n      <line x1=\"-1.75\" y1=\"-1.75\" x2=\"-2.12\" y2=\"-1.02\"/>\n      <line x1=\"-1.75\" y1=\"-1.75\" x2=\"-2.56\" y2=\"-1.88\"/>\n      <line x1=\"-1.75\" y1=\"-1.75\" x2=\"-1.17\" y2=\"-1.17\"/>\n      <line x1=\"-1.75\" y1=\"-1.75\" x2=\"-1.88\" y2=\"-2.56\" stroke=\"red\"/>\n      <line x1=\"-2.12\" y1=\"-1.02\" x2=\"-2.94\" y2=\"-0.89\"/>\n      <line x1=\"-2.12\" y1=\"-1.02\" x2=\"-1.75\" y2=\"-0.28\"/>\n      <line x1=\"-2.88\" y1=\"-0.88\" x2=\"-3.01\" y2=\"-0.06\"/>\n      <line x1=\"-3.00\" y1=\"-0.90\" x2=\"-3.13\" y2=\"-0.08\"/>\n      <line x1=\"-1.71\" y1=\"-0.24\" x2=\"-2.29\" y2=\"0.35\"/>\n      <line x1=\"-1.79\" y1=\"-0.32\" x2=\"-2.38\" y2=\"0.26\"/>\n      <line x1=\"-3.07\" y1=\"-0.07\" x2=\"-2.33\" y2=\"0.30\"/>\n      <line x1=\"-3.07\" y1=\"-0.07\" x2=\"-3.80\" y2=\"0.30\"/>\n      <line x1=\"-2.56\" y1=\"-1.88\" x2=\"-2.94\" y2=\"-2.61\"/>\n      <line x1=\"-2.56\" y1=\"-1.88\" x2=\"-3.15\" y2=\"-1.30\"/>\n      <line x1=\"-2.93\" y1=\"-2.55\" x2=\"-3.74\" y2=\"-2.43\"/>\n      <line x1=\"-2.95\" y1=\"-2.67\" x2=\"-3.76\" y2=\"-2.54\"/>\n      <line x1=\"-3.18\" y1=\"-1.24\" x2=\"-3.91\" y2=\"-1.62\"/>\n      <line x1=\"-3.12\" y1=\"-1.35\" x2=\"-3.86\" y2=\"-1.72\"/>\n      <line x1=\"-3.75\" y1=\"-2.49\" x2=\"-3.88\" y2=\"-1.67\"/>\n      <line x1=\"-3.75\" y1=\"-2.49\" x2=\"-4.34\" y2=\"-3.07\"/>\n      <line x1=\"-1.47\" y1=\"-3.61\" x2=\"-0.97\" y2=\"-2.95\"/>\n      <line x1=\"-0.97\" y1=\"-2.95\" x2=\"-1.02\" y2=\"-2.12\"/>\n      <line x1=\"-1.00\" y1=\"-3.00\" x2=\"-0.26\" y2=\"-3.38\"/>\n      <line x1=\"-0.94\" y1=\"-2.90\" x2=\"-0.21\" y2=\"-3.27\"/>\n      <line x1=\"-0.58\" y1=\"-1.75\" x2=\"-1.17\" y2=\"-1.17\" stroke=\"green\"/>\n      <line x1=\"-1.75\" y1=\"-0.58\" x2=\"-1.17\" y2=\"-1.17\" stroke=\"green\"/>\n      <line x1=\"-1.78\" y1=\"-3.38\" x2=\"-1.88\" y2=\"-2.56\"/>\n      <line x1=\"-2.46\" y1=\"-3.15\" x2=\"-1.88\" y2=\"-2.56\"/>\n    </g>\n    <g font-family=\"monospace\">\n      <g fill=\"#FF0D0D\" font-family=\"sans-serif\">\n        <text x=\"-1.54\" y=\"0.21\" dx=\"-0.20\" dy=\"0.20\" font-size=\"0.50\">O</text>\n      </g>\n      <g fill=\"#FF0D0D\" font-family=\"sans-serif\">\n        <text x=\"-1.91\" y=\"1.59\" dx=\"-0.20\" dy=\"0.20\" font-size=\"0.50\">O</text>\n      </g>\n      <g fill=\"#FF0D0D\" font-family=\"sans-serif\">\n        <text x=\"0.00\" y=\"-0.00\" dx=\"-0.20\" dy=\"0.20\" font-size=\"0.50\">O</text>\n      </g>\n      <g fill=\"#3050F8\" font-family=\"sans-serif\">\n        <text x=\"-0.00\" y=\"-1.17\" dx=\"-0.20\" dy=\"0.20\" font-size=\"0.50\">N</text>\n      </g>\n      <g fill=\"#909090\" font-family=\"sans-serif\">\n        <text x=\"0.58\" y=\"-0.58\" dx=\"-0.20\" dy=\"0.20\" font-size=\"0.50\">H</text>\n      </g>\n      <g fill=\"#7D80B0\" font-family=\"sans-serif\">\n        <text x=\"-1.75\" y=\"-1.75\" dx=\"-0.35\" dy=\"0.20\" font-size=\"0.50\">Zn</text>\n      </g>\n      <g fill=\"#3050F8\" font-family=\"sans-serif\">\n        <text x=\"-2.12\" y=\"-1.02\" dx=\"-0.20\" dy=\"0.20\" font-size=\"0.50\">N</text>\n      </g>\n      <g fill=\"#3050F8\" font-family=\"sans-serif\">\n        <text x=\"-2.33\" y=\"0.30\" dx=\"-0.20\" dy=\"0.20\" font-size=\"0.50\">N</text>\n      </g>\n      <g fill=\"#3050F8\" font-family=\"sans-serif\">\n        <text x=\"-2.56\" y=\"-1.88\" dx=\"-0.20\" dy=\"0.20\" font-size=\"0.50\">N</text>\n      </g>\n      <g fill=\"#3050F8\" font-family=\"sans-serif\">\n        <text x=\"-3.88\" y=\"-1.67\" dx=\"-0.20\" dy=\"0.20\" font-size=\"0.50\">N</text>\n      </g>\n      <g fill=\"#FF0D0D\" font-family=\"sans-serif\">\n        <text x=\"-1.02\" y=\"-2.12\" dx=\"-0.20\" dy=\"0.20\" font-size=\"0.50\">O</text>\n      </g>\n      <g fill=\"#FF0D0D\" font-family=\"sans-serif\">\n        <text x=\"-0.24\" y=\"-3.32\" dx=\"-0.20\" dy=\"0.20\" font-size=\"0.50\">O</text>\n      </g>\n      <g fill=\"#909090\" font-family=\"sans-serif\">\n        <text x=\"-0.58\" y=\"-1.75\" dx=\"-0.20\" dy=\"0.20\" font-size=\"0.50\">H</text>\n      </g>\n      <g fill=\"#909090\" font-family=\"sans-serif\">\n        <text x=\"-1.75\" y=\"-0.58\" dx=\"-0.20\" dy=\"0.20\" font-size=\"0.50\">H</text>\n      </g>\n      <g fill=\"#FF0D0D\" font-family=\"sans-serif\">\n        <text x=\"-1.17\" y=\"-1.17\" dx=\"-0.20\" dy=\"0.20\" font-size=\"0.50\">O</text>\n      </g>\n      <g fill=\"#909090\" font-family=\"sans-serif\">\n        <text x=\"-1.78\" y=\"-3.38\" dx=\"-0.20\" dy=\"0.20\" font-size=\"0.50\">H</text>\n      </g>\n      <g fill=\"#909090\" font-family=\"sans-serif\">\n        <text x=\"-2.46\" y=\"-3.15\" dx=\"-0.20\" dy=\"0.20\" font-size=\"0.50\">H</text>\n      </g>\n      <g fill=\"#FF0D0D\" font-family=\"sans-serif\">\n        <text x=\"-1.88\" y=\"-2.56\" dx=\"-0.20\" dy=\"0.20\" font-size=\"0.50\">O</text>\n      </g>\n      <g font-family=\"monospace\" fill=\"black\" font-size=\"0.30\">\n        <text x=\"-1.54\" y=\"0.21\" dx=\"0.05\" dy=\"-0.20\" font-size=\"0.30\">-</text>\n      </g>\n    </g>\n  </g>\n</svg>",
      "text/plain": [
       "<CGRtools.containers.cgr.CGRContainer at 0x7f3209beff60>"
      ]
     },
     "execution_count": 81,
     "metadata": {},
     "output_type": "execute_result"
    }
   ],
   "source": [
    "cgr = ~r # CGR from reactions\n",
    "# or \n",
    "cgr = r.compose()\n",
    "print(cgr) # signature is printed out.\n",
    "cgr.clean2d()\n",
    "cgr"
   ]
  },
  {
   "cell_type": "code",
   "execution_count": 82,
   "metadata": {},
   "outputs": [
    {
     "data": {
      "text/plain": [
       "(33, 3, 5, 8, 11, 28, 29, 30)"
      ]
     },
     "execution_count": 82,
     "metadata": {},
     "output_type": "execute_result"
    }
   ],
   "source": [
    "cgr.center_atoms"
   ]
  },
  {
   "cell_type": "code",
   "execution_count": 83,
   "metadata": {},
   "outputs": [
    {
     "data": {
      "text/plain": [
       "((3, 29), (5, 30), (5, 8), (8, 28), (11, 33), (28, 30), (29, 30))"
      ]
     },
     "execution_count": 83,
     "metadata": {},
     "output_type": "execute_result"
    }
   ],
   "source": [
    "cgr.center_bonds"
   ]
  },
  {
   "cell_type": "code",
   "execution_count": 84,
   "metadata": {},
   "outputs": [
    {
     "data": {
      "text/plain": [
       "((33, 11), (3, 5, 8, 28, 29, 30))"
      ]
     },
     "execution_count": 84,
     "metadata": {},
     "output_type": "execute_result"
    }
   ],
   "source": [
    "cgr.centers_list"
   ]
  },
  {
   "cell_type": "code",
   "execution_count": null,
   "metadata": {},
   "outputs": [],
   "source": []
  }
 ],
 "metadata": {
  "kernelspec": {
   "display_name": "Python 3.10.4 ('ML')",
   "language": "python",
   "name": "python3"
  },
  "language_info": {
   "codemirror_mode": {
    "name": "ipython",
    "version": 3
   },
   "file_extension": ".py",
   "mimetype": "text/x-python",
   "name": "python",
   "nbconvert_exporter": "python",
   "pygments_lexer": "ipython3",
   "version": "3.10.4"
  },
  "orig_nbformat": 4,
  "vscode": {
   "interpreter": {
    "hash": "e3c7ccf5b2f0839a33224e0196d2ab7dba905adc11a3cef12373559adbfec58a"
   }
  }
 },
 "nbformat": 4,
 "nbformat_minor": 2
}
