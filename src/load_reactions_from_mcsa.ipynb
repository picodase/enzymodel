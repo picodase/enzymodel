{
 "cells": [
  {
   "cell_type": "code",
   "execution_count": 111,
   "metadata": {},
   "outputs": [],
   "source": [
    "import json"
   ]
  },
  {
   "cell_type": "code",
   "execution_count": 112,
   "metadata": {},
   "outputs": [],
   "source": [
    "path = \"/home/northja/datasets/mcsa/mcsa.json\""
   ]
  },
  {
   "cell_type": "code",
   "execution_count": 113,
   "metadata": {},
   "outputs": [],
   "source": [
    "vals = None\n",
    "\n",
    "with open(path, \"r\") as read_file:\n",
    "    vals = json.load(read_file)\n",
    "\n",
    "#    for key,value in vals:\n",
    "    "
   ]
  },
  {
   "cell_type": "code",
   "execution_count": 114,
   "metadata": {},
   "outputs": [
    {
     "data": {
      "text/plain": [
       "dict_keys(['count', 'next', 'previous', 'results'])"
      ]
     },
     "execution_count": 114,
     "metadata": {},
     "output_type": "execute_result"
    }
   ],
   "source": [
    "vals.keys()"
   ]
  },
  {
   "cell_type": "markdown",
   "metadata": {},
   "source": [
    "## Download from mCSA"
   ]
  },
  {
   "cell_type": "code",
   "execution_count": 236,
   "metadata": {},
   "outputs": [],
   "source": [
    "mcsa_id = 50"
   ]
  },
  {
   "cell_type": "code",
   "execution_count": 209,
   "metadata": {},
   "outputs": [],
   "source": [
    "steps = vals['results'][mcsa_id]['reaction']['mechanisms'][0]['steps']"
   ]
  },
  {
   "cell_type": "code",
   "execution_count": 210,
   "metadata": {},
   "outputs": [
    {
     "data": {
      "text/plain": [
       "'www.ebi.ac.uk/thornton-srv/m-csa/media/schemes/Step_macie.31.1.1_lNjVSkW.mrv'"
      ]
     },
     "execution_count": 210,
     "metadata": {},
     "output_type": "execute_result"
    }
   ],
   "source": [
    "steps[0]['marvin_xml']"
   ]
  },
  {
   "cell_type": "code",
   "execution_count": 211,
   "metadata": {},
   "outputs": [
    {
     "data": {
      "text/plain": [
       "7"
      ]
     },
     "execution_count": 211,
     "metadata": {},
     "output_type": "execute_result"
    }
   ],
   "source": [
    "len(steps)"
   ]
  },
  {
   "cell_type": "code",
   "execution_count": 212,
   "metadata": {},
   "outputs": [],
   "source": [
    "urllist = [steps[i]['marvin_xml'] for i in list(range(len(steps)))]"
   ]
  },
  {
   "cell_type": "code",
   "execution_count": 213,
   "metadata": {},
   "outputs": [
    {
     "data": {
      "text/plain": [
       "['www.ebi.ac.uk/thornton-srv/m-csa/media/schemes/Step_macie.31.1.1_lNjVSkW.mrv',\n",
       " 'www.ebi.ac.uk/thornton-srv/m-csa/media/schemes/Step_macie.31.1.2_Zv3Ezta.mrv',\n",
       " 'www.ebi.ac.uk/thornton-srv/m-csa/media/schemes/Step_macie.31.1.3_eMVYdZu.mrv',\n",
       " 'www.ebi.ac.uk/thornton-srv/m-csa/media/schemes/Step_macie.31.1.4_kPho2vr.mrv',\n",
       " 'www.ebi.ac.uk/thornton-srv/m-csa/media/schemes/Step_macie.31.1.5_Gd6kTIj.mrv',\n",
       " 'www.ebi.ac.uk/thornton-srv/m-csa/media/schemes/macie_entry_31_1_6.mrv',\n",
       " 'www.ebi.ac.uk/thornton-srv/m-csa/media/schemes/Step_macie.31.1.7.mrv']"
      ]
     },
     "execution_count": 213,
     "metadata": {},
     "output_type": "execute_result"
    }
   ],
   "source": [
    "urllist"
   ]
  },
  {
   "cell_type": "code",
   "execution_count": 214,
   "metadata": {},
   "outputs": [],
   "source": [
    "import urllib3\n",
    "http = urllib3.PoolManager()\n",
    "from pathlib import Path"
   ]
  },
  {
   "cell_type": "code",
   "execution_count": 215,
   "metadata": {},
   "outputs": [],
   "source": [
    "datasetpath = f\"/home/northja/datasets/mcsa/entries/entry_{mcsa_id}/\""
   ]
  },
  {
   "cell_type": "code",
   "execution_count": 216,
   "metadata": {},
   "outputs": [],
   "source": [
    "Path(datasetpath).mkdir(parents=True, exist_ok=True)"
   ]
  },
  {
   "cell_type": "code",
   "execution_count": 217,
   "metadata": {},
   "outputs": [
    {
     "name": "stdout",
     "output_type": "stream",
     "text": [
      "Downloading with urllib...\n"
     ]
    }
   ],
   "source": [
    "print(\"Downloading with urllib...\")\n",
    "N = 0\n",
    "\n",
    "local_paths = []\n",
    "\n",
    "for url in urllist:\n",
    "    r = http.request('GET',url)\n",
    "    Name =str(N+1) \n",
    "    localpath = f\"{datasetpath}mcsa_{mcsa_id}_step_{N+1}.mrv\"\n",
    "    with open(localpath, \"wb\") as fcont:\n",
    "        fcont.write(r.data)\n",
    "    N += 1\n",
    "\n",
    "    local_paths.append(localpath)"
   ]
  },
  {
   "cell_type": "code",
   "execution_count": 244,
   "metadata": {},
   "outputs": [
    {
     "name": "stdout",
     "output_type": "stream",
     "text": [
      "Downloading with urllib...\n",
      "ATOMS:\t 84\tbonds: 78\tres: 0\n",
      "Downloading with urllib...\n",
      "ATOMS:\t 135\tbonds: 128\tres: 0\n"
     ]
    },
    {
     "ename": "StopIteration",
     "evalue": "",
     "output_type": "error",
     "traceback": [
      "\u001b[0;31m---------------------------------------------------------------------------\u001b[0m",
      "\u001b[0;31mStopIteration\u001b[0m                             Traceback (most recent call last)",
      "Cell \u001b[0;32mIn [244], line 63\u001b[0m\n\u001b[1;32m     61\u001b[0m \u001b[39mfor\u001b[39;00m sdf \u001b[39min\u001b[39;00m local_sdfs:\n\u001b[1;32m     62\u001b[0m     \u001b[39mwith\u001b[39;00m SDFRead(\u001b[39mopen\u001b[39m(sdf, \u001b[39m'\u001b[39m\u001b[39mr\u001b[39m\u001b[39m'\u001b[39m)) \u001b[39mas\u001b[39;00m f:\n\u001b[0;32m---> 63\u001b[0m         sdf \u001b[39m=\u001b[39m \u001b[39mnext\u001b[39;49m(f)\n\u001b[1;32m     64\u001b[0m         graphs\u001b[39m.\u001b[39mappend(sdf)\n",
      "File \u001b[0;32m~/miniconda3/envs/ML/lib/python3.10/site-packages/CGRtools/files/_mdl/rw.py:116\u001b[0m, in \u001b[0;36mMDLRead.__next__\u001b[0;34m(self)\u001b[0m\n\u001b[1;32m    115\u001b[0m \u001b[39mdef\u001b[39;00m \u001b[39m__next__\u001b[39m(\u001b[39mself\u001b[39m):\n\u001b[0;32m--> 116\u001b[0m     \u001b[39mreturn\u001b[39;00m \u001b[39mnext\u001b[39;49m(\u001b[39miter\u001b[39;49m(\u001b[39mself\u001b[39;49m))\n",
      "\u001b[0;31mStopIteration\u001b[0m: "
     ]
    }
   ],
   "source": [
    "import urllib3\n",
    "http = urllib3.PoolManager()\n",
    "from pathlib import Path\n",
    "from openbabel import openbabel\n",
    "\n",
    "all = vals['results']\n",
    "count = len(all)\n",
    "\n",
    "for mcsa_id in list(range(count)):\n",
    "    steps = vals['results'][mcsa_id]['reaction']['mechanisms'][0]['steps']\n",
    "    urllist = [steps[i]['marvin_xml'] for i in list(range(len(steps)))]\n",
    "    \n",
    "    datasetpath = f\"/home/northja/datasets/mcsa/entries/entry_{mcsa_id}/\"\n",
    "\n",
    "    Path(datasetpath).mkdir(parents=True, exist_ok=True)\n",
    "\n",
    "    ## DOWNLOAD FILES\n",
    "    print(\"Downloading with urllib...\")\n",
    "    N = 0\n",
    "\n",
    "    local_paths = []\n",
    "\n",
    "    for url in urllist: \n",
    "        localpath = f\"{datasetpath}mcsa_{mcsa_id}_step_{N+1}.mrv\"\n",
    "        local_paths.append(localpath)\n",
    "\n",
    "        if Path(localpath).exists():\n",
    "            break\n",
    "\n",
    "        r = http.request('GET',url)\n",
    "        Name =str(N+1) \n",
    "        with open(localpath, \"wb\") as fcont:\n",
    "            fcont.write(r.data)\n",
    "        N += 1\n",
    "\n",
    "        \n",
    "        print(f\"DONE: {url}\")\n",
    "    \n",
    "    obConversion = openbabel.OBConversion()\n",
    "    obConversion.SetInAndOutFormats(\"mrv\", \"sdf\")\n",
    "\n",
    "    local_sdfs = []\n",
    "\n",
    "    for file in local_paths:\n",
    "        mol = openbabel.OBMol()\n",
    "        obConversion.ReadFile(mol, file)   # Open Babel will uncompress automatically\n",
    "\n",
    "        mol.AddHydrogens()\n",
    "\n",
    "        print(f\"ATOMS:\\t {mol.NumAtoms()}\\tbonds: {mol.NumBonds()}\\tres: {mol.NumResidues()}\")\n",
    "\n",
    "        molname = file\n",
    "        molname = molname.replace(\".mrv\", \".sdf\")\n",
    "\n",
    "        obConversion.WriteFile(mol, molname)\n",
    "\n",
    "        local_sdfs.append(molname)\n",
    "\n",
    "    graphs = []\n",
    "\n",
    "    for sdf in local_sdfs:\n",
    "        with SDFRead(open(sdf, 'r')) as f:\n",
    "            sdf = next(f)\n",
    "            graphs.append(sdf)"
   ]
  },
  {
   "cell_type": "markdown",
   "metadata": {},
   "source": [
    "## Setup dataset"
   ]
  },
  {
   "cell_type": "code",
   "execution_count": 218,
   "metadata": {},
   "outputs": [
    {
     "data": {
      "text/plain": [
       "'/home/northja/datasets/mcsa/entries/entry_30/'"
      ]
     },
     "execution_count": 218,
     "metadata": {},
     "output_type": "execute_result"
    }
   ],
   "source": [
    "datasetpath"
   ]
  },
  {
   "cell_type": "code",
   "execution_count": 219,
   "metadata": {},
   "outputs": [],
   "source": []
  },
  {
   "cell_type": "code",
   "execution_count": 220,
   "metadata": {},
   "outputs": [
    {
     "name": "stdout",
     "output_type": "stream",
     "text": [
      "ATOMS:\t 180\tbonds: 181\tres: 0\n",
      "ATOMS:\t 183\tbonds: 182\tres: 0\n",
      "ATOMS:\t 183\tbonds: 183\tres: 0\n",
      "ATOMS:\t 186\tbonds: 186\tres: 0\n",
      "ATOMS:\t 186\tbonds: 186\tres: 0\n",
      "ATOMS:\t 186\tbonds: 185\tres: 0\n",
      "ATOMS:\t 186\tbonds: 184\tres: 0\n"
     ]
    }
   ],
   "source": [
    "obConversion = openbabel.OBConversion()\n",
    "obConversion.SetInAndOutFormats(\"mrv\", \"sdf\")\n",
    "\n",
    "local_sdfs = []\n",
    "\n",
    "for file in local_paths:\n",
    "    mol = openbabel.OBMol()\n",
    "    obConversion.ReadFile(mol, file)   # Open Babel will uncompress automatically\n",
    "\n",
    "    mol.AddHydrogens()\n",
    "\n",
    "    print(f\"ATOMS:\\t {mol.NumAtoms()}\\tbonds: {mol.NumBonds()}\\tres: {mol.NumResidues()}\")\n",
    "\n",
    "    molname = file\n",
    "    molname = molname.replace(\".mrv\", \".sdf\")\n",
    "\n",
    "    obConversion.WriteFile(mol, molname)\n",
    "\n",
    "    local_sdfs.append(molname)"
   ]
  },
  {
   "cell_type": "code",
   "execution_count": 221,
   "metadata": {},
   "outputs": [],
   "source": [
    "from CGRtools.files import SDFRead # import all available readers and writers"
   ]
  },
  {
   "cell_type": "code",
   "execution_count": 222,
   "metadata": {},
   "outputs": [
    {
     "data": {
      "text/plain": [
       "['/home/northja/datasets/mcsa/entries/entry_30/mcsa_30_step_1.sdf',\n",
       " '/home/northja/datasets/mcsa/entries/entry_30/mcsa_30_step_2.sdf',\n",
       " '/home/northja/datasets/mcsa/entries/entry_30/mcsa_30_step_3.sdf',\n",
       " '/home/northja/datasets/mcsa/entries/entry_30/mcsa_30_step_4.sdf',\n",
       " '/home/northja/datasets/mcsa/entries/entry_30/mcsa_30_step_5.sdf',\n",
       " '/home/northja/datasets/mcsa/entries/entry_30/mcsa_30_step_6.sdf',\n",
       " '/home/northja/datasets/mcsa/entries/entry_30/mcsa_30_step_7.sdf']"
      ]
     },
     "execution_count": 222,
     "metadata": {},
     "output_type": "execute_result"
    }
   ],
   "source": [
    "local_sdfs"
   ]
  },
  {
   "cell_type": "code",
   "execution_count": 223,
   "metadata": {},
   "outputs": [],
   "source": [
    "graphs = []\n",
    "\n",
    "for sdf in local_sdfs:\n",
    "    with SDFRead(open(sdf, 'r')) as f:\n",
    "        sdf = next(f)\n",
    "        graphs.append(sdf)"
   ]
  },
  {
   "cell_type": "code",
   "execution_count": 224,
   "metadata": {},
   "outputs": [],
   "source": [
    "from CGRtools.containers import * # import all containers\n",
    "from CGRtools.containers import MoleculeContainer\n",
    "from CGRtools.containers.bonds import Bond"
   ]
  },
  {
   "cell_type": "code",
   "execution_count": 233,
   "metadata": {},
   "outputs": [],
   "source": [
    "r = ReactionContainer(reactants=[graphs[4]], products=[graphs[3]]) # one-step way to construct reaction"
   ]
  },
  {
   "cell_type": "code",
   "execution_count": 234,
   "metadata": {},
   "outputs": [
    {
     "name": "stdout",
     "output_type": "stream",
     "text": [
      "[H]C([H])([H])C([H])([H])C([H])([H])C([H])([H])N([H])C(=[N+]([H])[H])N([H])[H].[H]C([H])([H])C([H])([H])C1=C(N([H])C=2C([H])=C([H])C(=C([H])C1=2)[H])[H].[H]C([H])([H])C([H])([H])C([H])([H])C(=O)[O->0][.>-][H][->.]O([H])[.>-][H][->.]O[->=]C3[=>-]C(C(SC([H])([H])C([H])([H])[H])(N(C(=O)N3[H])C4(OC(C([H])(O[H])C4([H])[H])([H])C([H])([H])OP([O-])([O-])=O)[H])[H])([.>-][H][->.]O([.>-][H][->.][O0>-]C=5C([H])=C(C(=C([H])C=5[H])C([H])([H])C([H])([H])[H])[H])[H])C([H])([H])N6C(C([H])([H])N(C=7N=C(N([H])C(C6=7)=O)N([H])[H])[H])([H])C([H])([H])N(C=8C(=C([H])C(C(N([H])C(C([H])([H])C([H])([H])C(=O)[O-])([H])C([O-])=O)=O)=C([H])C=8[H])[H])[H].[H]C([H])([H])C([H])([H])C([O-])=O\n"
     ]
    },
    {
     "data": {
      "image/svg+xml": "<svg width=\"22.83cm\" height=\"30.86cm\" viewBox=\"-11.81 -15.45 22.83 30.86\" xmlns=\"http://www.w3.org/2000/svg\" version=\"1.1\">\n  <g>\n    <defs>\n      <mask id=\"mask-373b80aa-6415-40fb-a148-bb3df3de1ac8\">\n        <rect x=\"-11.81\" y=\"-15.45\" width=\"22.83\" height=\"30.86\" fill=\"white\"/>\n        <g fill=\"black\">\n          <circle cx=\"-0.53\" cy=\"-7.84\" r=\"0.20\"/>\n          <circle cx=\"2.14\" cy=\"-7.84\" r=\"0.20\"/>\n          <circle cx=\"-1.85\" cy=\"-9.13\" r=\"0.20\"/>\n          <circle cx=\"-4.51\" cy=\"-3.03\" r=\"0.20\"/>\n          <circle cx=\"1.45\" cy=\"3.23\" r=\"0.20\"/>\n          <circle cx=\"-2.03\" cy=\"13.66\" r=\"0.20\"/>\n          <circle cx=\"0.64\" cy=\"13.80\" r=\"0.20\"/>\n          <circle cx=\"-0.57\" cy=\"11.41\" r=\"0.20\"/>\n          <circle cx=\"1.48\" cy=\"9.30\" r=\"0.20\"/>\n          <circle cx=\"2.58\" cy=\"11.75\" r=\"0.20\"/>\n          <circle cx=\"-1.11\" cy=\"1.46\" r=\"0.20\"/>\n          <circle cx=\"-0.99\" cy=\"4.16\" r=\"0.20\"/>\n          <circle cx=\"-1.37\" cy=\"-1.21\" r=\"0.20\"/>\n          <circle cx=\"-3.54\" cy=\"0.35\" r=\"0.20\"/>\n          <circle cx=\"-4.77\" cy=\"5.48\" r=\"0.20\"/>\n          <circle cx=\"0.79\" cy=\"-2.77\" r=\"0.20\"/>\n          <circle cx=\"-2.90\" cy=\"7.79\" r=\"0.20\"/>\n          <circle cx=\"-3.06\" cy=\"9.32\" r=\"0.20\"/>\n          <circle cx=\"-4.59\" cy=\"9.16\" r=\"0.20\"/>\n          <circle cx=\"-3.22\" cy=\"10.84\" r=\"0.20\"/>\n          <circle cx=\"-1.53\" cy=\"9.48\" r=\"0.20\"/>\n          <circle cx=\"4.80\" cy=\"-6.98\" r=\"0.20\"/>\n          <circle cx=\"10.14\" cy=\"-8.52\" r=\"0.20\"/>\n          <circle cx=\"3.47\" cy=\"-10.83\" r=\"0.20\"/>\n          <circle cx=\"8.81\" cy=\"-10.83\" r=\"0.20\"/>\n          <circle cx=\"7.47\" cy=\"-6.98\" r=\"0.20\"/>\n          <circle cx=\"4.81\" cy=\"-13.14\" r=\"0.20\"/>\n          <circle cx=\"6.14\" cy=\"-0.05\" r=\"0.20\"/>\n          <circle cx=\"6.14\" cy=\"3.03\" r=\"0.20\"/>\n          <circle cx=\"7.47\" cy=\"6.88\" r=\"0.20\"/>\n          <circle cx=\"8.81\" cy=\"4.57\" r=\"0.20\"/>\n          <circle cx=\"4.80\" cy=\"6.88\" r=\"0.20\"/>\n          <circle cx=\"6.14\" cy=\"9.19\" r=\"0.20\"/>\n          <circle cx=\"3.47\" cy=\"4.57\" r=\"0.20\"/>\n          <circle cx=\"8.81\" cy=\"1.49\" r=\"0.20\"/>\n          <circle cx=\"3.32\" cy=\"2.66\" r=\"0.20\"/>\n          <circle cx=\"3.87\" cy=\"1.04\" r=\"0.20\"/>\n          <circle cx=\"-0.54\" cy=\"-6.30\" r=\"0.20\"/>\n          <circle cx=\"4.99\" cy=\"-0.02\" r=\"0.20\"/>\n          <circle cx=\"1.21\" cy=\"-6.26\" r=\"0.20\"/>\n          <circle cx=\"0.01\" cy=\"-4.80\" r=\"0.20\"/>\n          <circle cx=\"2.94\" cy=\"-5.38\" r=\"0.20\"/>\n          <circle cx=\"-6.42\" cy=\"-0.14\" r=\"0.20\"/>\n          <circle cx=\"-5.62\" cy=\"1.13\" r=\"0.20\"/>\n          <circle cx=\"-5.34\" cy=\"-1.23\" r=\"0.20\"/>\n          <circle cx=\"-7.71\" cy=\"-0.18\" r=\"0.20\"/>\n          <circle cx=\"3.06\" cy=\"-13.00\" r=\"0.20\"/>\n          <circle cx=\"1.21\" cy=\"-13.00\" r=\"0.20\"/>\n          <circle cx=\"2.14\" cy=\"-13.54\" r=\"0.20\"/>\n          <circle cx=\"3.07\" cy=\"-10.39\" r=\"0.20\"/>\n          <circle cx=\"2.14\" cy=\"-9.86\" r=\"0.20\"/>\n          <circle cx=\"-0.13\" cy=\"-10.68\" r=\"0.20\"/>\n          <circle cx=\"-0.13\" cy=\"-9.61\" r=\"0.20\"/>\n          <circle cx=\"-1.48\" cy=\"-13.52\" r=\"0.20\"/>\n          <circle cx=\"-2.79\" cy=\"-14.83\" r=\"0.20\"/>\n          <circle cx=\"-1.76\" cy=\"-14.55\" r=\"0.20\"/>\n          <circle cx=\"-4.64\" cy=\"-12.98\" r=\"0.20\"/>\n          <circle cx=\"-4.36\" cy=\"-11.95\" r=\"0.20\"/>\n          <circle cx=\"-0.91\" cy=\"-11.23\" r=\"0.20\"/>\n          <circle cx=\"-1.08\" cy=\"-8.51\" r=\"0.20\"/>\n          <circle cx=\"-6.28\" cy=\"-10.81\" r=\"0.20\"/>\n          <circle cx=\"-7.44\" cy=\"-8.52\" r=\"0.20\"/>\n          <circle cx=\"-6.04\" cy=\"-6.36\" r=\"0.20\"/>\n          <circle cx=\"-3.47\" cy=\"-6.49\" r=\"0.20\"/>\n          <circle cx=\"-10.86\" cy=\"-8.08\" r=\"0.20\"/>\n          <circle cx=\"-10.47\" cy=\"-6.27\" r=\"0.20\"/>\n          <circle cx=\"-11.19\" cy=\"-7.07\" r=\"0.20\"/>\n          <circle cx=\"-8.30\" cy=\"-8.63\" r=\"0.20\"/>\n          <circle cx=\"-7.59\" cy=\"-7.83\" r=\"0.20\"/>\n          <circle cx=\"-5.78\" cy=\"-7.77\" r=\"0.20\"/>\n          <circle cx=\"-4.06\" cy=\"-5.85\" r=\"0.20\"/>\n          <circle cx=\"-7.37\" cy=\"-2.87\" r=\"0.20\"/>\n          <circle cx=\"-9.09\" cy=\"-4.79\" r=\"0.20\"/>\n          <circle cx=\"0.91\" cy=\"6.83\" r=\"0.20\"/>\n          <circle cx=\"2.51\" cy=\"5.90\" r=\"0.20\"/>\n          <circle cx=\"1.98\" cy=\"6.83\" r=\"0.20\"/>\n          <circle cx=\"-0.40\" cy=\"4.56\" r=\"0.20\"/>\n          <circle cx=\"0.14\" cy=\"3.64\" r=\"0.20\"/>\n          <circle cx=\"-8.27\" cy=\"12.79\" r=\"0.20\"/>\n          <circle cx=\"-7.43\" cy=\"14.44\" r=\"0.20\"/>\n          <circle cx=\"-8.32\" cy=\"13.86\" r=\"0.20\"/>\n          <circle cx=\"-5.93\" cy=\"11.61\" r=\"0.20\"/>\n          <circle cx=\"-5.03\" cy=\"12.19\" r=\"0.20\"/>\n          <circle cx=\"-4.75\" cy=\"14.58\" r=\"0.20\"/>\n          <circle cx=\"-3.80\" cy=\"14.10\" r=\"0.20\"/>\n          <circle cx=\"-3.27\" cy=\"11.75\" r=\"0.20\"/>\n          <circle cx=\"-2.37\" cy=\"12.33\" r=\"0.20\"/>\n          <circle cx=\"-2.08\" cy=\"14.64\" r=\"0.20\"/>\n          <circle cx=\"0.58\" cy=\"14.78\" r=\"0.20\"/>\n          <circle cx=\"1.51\" cy=\"13.35\" r=\"0.20\"/>\n          <circle cx=\"0.30\" cy=\"10.97\" r=\"0.20\"/>\n          <circle cx=\"-1.40\" cy=\"10.88\" r=\"0.20\"/>\n          <circle cx=\"5.28\" cy=\"11.55\" r=\"0.20\"/>\n          <circle cx=\"6.37\" cy=\"10.06\" r=\"0.20\"/>\n          <circle cx=\"6.25\" cy=\"11.12\" r=\"0.20\"/>\n          <circle cx=\"4.26\" cy=\"8.52\" r=\"0.20\"/>\n          <circle cx=\"3.28\" cy=\"8.96\" r=\"0.20\"/>\n          <circle cx=\"-0.68\" cy=\"2.82\" r=\"0.20\"/>\n          <circle cx=\"-0.20\" cy=\"0.43\" r=\"0.20\"/>\n          <circle cx=\"-4.08\" cy=\"2.44\" r=\"0.20\"/>\n          <circle cx=\"-4.29\" cy=\"3.54\" r=\"0.20\"/>\n          <circle cx=\"-1.95\" cy=\"-2.01\" r=\"0.20\"/>\n          <circle cx=\"-1.01\" cy=\"5.59\" r=\"0.20\"/>\n          <circle cx=\"-4.35\" cy=\"4.12\" r=\"0.20\"/>\n          <circle cx=\"-0.71\" cy=\"7.17\" r=\"0.20\"/>\n          <circle cx=\"-1.54\" cy=\"7.87\" r=\"0.20\"/>\n          <circle cx=\"-5.62\" cy=\"5.00\" r=\"0.20\"/>\n          <circle cx=\"8.37\" cy=\"-4.42\" r=\"0.20\"/>\n          <circle cx=\"3.91\" cy=\"-4.42\" r=\"0.20\"/>\n          <circle cx=\"8.37\" cy=\"-1.84\" r=\"0.20\"/>\n          <circle cx=\"3.91\" cy=\"-1.84\" r=\"0.20\"/>\n          <circle cx=\"8.40\" cy=\"-7.98\" r=\"0.20\"/>\n          <circle cx=\"5.21\" cy=\"-8.75\" r=\"0.20\"/>\n          <circle cx=\"5.21\" cy=\"-9.82\" r=\"0.20\"/>\n          <circle cx=\"7.07\" cy=\"-11.36\" r=\"0.20\"/>\n          <circle cx=\"7.07\" cy=\"-10.29\" r=\"0.20\"/>\n          <circle cx=\"8.32\" cy=\"-6.49\" r=\"0.20\"/>\n          <circle cx=\"8.40\" cy=\"0.19\" r=\"0.20\"/>\n          <circle cx=\"7.47\" cy=\"-0.35\" r=\"0.20\"/>\n          <circle cx=\"9.66\" cy=\"5.06\" r=\"0.20\"/>\n          <circle cx=\"3.95\" cy=\"7.37\" r=\"0.20\"/>\n          <circle cx=\"9.73\" cy=\"2.50\" r=\"0.20\"/>\n          <circle cx=\"9.73\" cy=\"3.57\" r=\"0.20\"/>\n          <circle cx=\"5.29\" cy=\"9.68\" r=\"0.20\"/>\n          <circle cx=\"6.99\" cy=\"9.68\" r=\"0.20\"/>\n        </g>\n        <g font-family=\"monospace\" stroke=\"black\">\n          <g font-family=\"sans-serif\" font-size=\"0.50\" stroke-width=\"0.05\">\n           <text x=\"-0.53\" y=\"-7.84\" dx=\"-0.20\" dy=\"0.20\">O</text>\n           <text x=\"2.14\" y=\"-7.84\" dx=\"-0.20\" dy=\"0.20\">O</text>\n           <text x=\"-1.85\" y=\"-9.13\" dx=\"-0.20\" dy=\"0.20\">N</text>\n           <text x=\"-4.51\" y=\"-3.03\" dx=\"-0.20\" dy=\"0.20\">O</text>\n           <text x=\"1.45\" y=\"3.23\" dx=\"-0.20\" dy=\"0.20\">S</text>\n           <text x=\"-2.03\" y=\"13.66\" dx=\"-0.20\" dy=\"0.20\">N</text>\n           <text x=\"0.64\" y=\"13.80\" dx=\"-0.20\" dy=\"0.20\">N</text>\n           <text x=\"-0.57\" y=\"11.41\" dx=\"-0.20\" dy=\"0.20\">N</text>\n           <text x=\"1.48\" y=\"9.30\" dx=\"-0.20\" dy=\"0.20\">O</text>\n           <text x=\"2.58\" y=\"11.75\" dx=\"-0.20\" dy=\"0.20\">O</text>\n           <text x=\"-1.11\" y=\"1.46\" dx=\"-0.20\" dy=\"0.20\">N</text>\n           <text x=\"-0.99\" y=\"4.16\" dx=\"-0.20\" dy=\"0.20\">O</text>\n           <text x=\"-1.37\" y=\"-1.21\" dx=\"-0.20\" dy=\"0.20\">N</text>\n           <text x=\"-3.54\" y=\"0.35\" dx=\"-0.20\" dy=\"0.20\">O</text>\n           <text x=\"-4.77\" y=\"5.48\" dx=\"-0.20\" dy=\"0.20\">O</text>\n           <text x=\"0.79\" y=\"-2.77\" dx=\"-0.20\" dy=\"0.20\">O</text>\n           <text x=\"-2.90\" y=\"7.79\" dx=\"-0.20\" dy=\"0.20\">O</text>\n           <text x=\"-3.06\" y=\"9.32\" dx=\"-0.20\" dy=\"0.20\">P</text>\n           <text x=\"-4.59\" y=\"9.16\" dx=\"-0.20\" dy=\"0.20\">O</text>\n           <text x=\"-3.22\" y=\"10.84\" dx=\"-0.20\" dy=\"0.20\">O</text>\n           <text x=\"-1.53\" y=\"9.48\" dx=\"-0.20\" dy=\"0.20\">O</text>\n           <text x=\"4.80\" y=\"-6.98\" dx=\"-0.20\" dy=\"0.20\">O</text>\n           <text x=\"10.14\" y=\"-8.52\" dx=\"-0.20\" dy=\"0.20\">O</text>\n           <text x=\"3.47\" y=\"-10.83\" dx=\"-0.20\" dy=\"0.20\">O</text>\n           <text x=\"8.81\" y=\"-10.83\" dx=\"-0.20\" dy=\"0.20\">O</text>\n           <text x=\"7.47\" y=\"-6.98\" dx=\"-0.20\" dy=\"0.20\">N</text>\n           <text x=\"4.81\" y=\"-13.14\" dx=\"-0.20\" dy=\"0.20\">O</text>\n           <text x=\"6.14\" y=\"-0.05\" dx=\"-0.20\" dy=\"0.20\">N</text>\n           <text x=\"6.14\" y=\"3.03\" dx=\"-0.20\" dy=\"0.20\">N</text>\n           <text x=\"7.47\" y=\"6.88\" dx=\"-0.20\" dy=\"0.20\">N</text>\n           <text x=\"8.81\" y=\"4.57\" dx=\"-0.20\" dy=\"0.20\">N</text>\n           <text x=\"4.80\" y=\"6.88\" dx=\"-0.20\" dy=\"0.20\">N</text>\n           <text x=\"6.14\" y=\"9.19\" dx=\"-0.20\" dy=\"0.20\">N</text>\n           <text x=\"3.47\" y=\"4.57\" dx=\"-0.20\" dy=\"0.20\">O</text>\n           <text x=\"8.81\" y=\"1.49\" dx=\"-0.20\" dy=\"0.20\">H</text>\n           <text x=\"3.32\" y=\"2.66\" dx=\"-0.20\" dy=\"0.20\">H</text>\n           <text x=\"3.87\" y=\"1.04\" dx=\"-0.20\" dy=\"0.20\">H</text>\n           <text x=\"-0.54\" y=\"-6.30\" dx=\"-0.20\" dy=\"0.20\">H</text>\n           <text x=\"4.99\" y=\"-0.02\" dx=\"-0.20\" dy=\"0.20\">H</text>\n           <text x=\"1.21\" y=\"-6.26\" dx=\"-0.20\" dy=\"0.20\">O</text>\n           <text x=\"0.01\" y=\"-4.80\" dx=\"-0.20\" dy=\"0.20\">H</text>\n           <text x=\"2.94\" y=\"-5.38\" dx=\"-0.20\" dy=\"0.20\">H</text>\n           <text x=\"-6.42\" y=\"-0.14\" dx=\"-0.20\" dy=\"0.20\">O</text>\n           <text x=\"-5.62\" y=\"1.13\" dx=\"-0.20\" dy=\"0.20\">H</text>\n           <text x=\"-5.34\" y=\"-1.23\" dx=\"-0.20\" dy=\"0.20\">H</text>\n           <text x=\"-7.71\" y=\"-0.18\" dx=\"-0.20\" dy=\"0.20\">H</text>\n           <text x=\"3.06\" y=\"-13.00\" dx=\"-0.20\" dy=\"0.20\">H</text>\n           <text x=\"1.21\" y=\"-13.00\" dx=\"-0.20\" dy=\"0.20\">H</text>\n           <text x=\"2.14\" y=\"-13.54\" dx=\"-0.20\" dy=\"0.20\">H</text>\n           <text x=\"3.07\" y=\"-10.39\" dx=\"-0.20\" dy=\"0.20\">H</text>\n           <text x=\"2.14\" y=\"-9.86\" dx=\"-0.20\" dy=\"0.20\">H</text>\n           <text x=\"-0.13\" y=\"-10.68\" dx=\"-0.20\" dy=\"0.20\">H</text>\n           <text x=\"-0.13\" y=\"-9.61\" dx=\"-0.20\" dy=\"0.20\">H</text>\n           <text x=\"-1.48\" y=\"-13.52\" dx=\"-0.20\" dy=\"0.20\">H</text>\n           <text x=\"-2.79\" y=\"-14.83\" dx=\"-0.20\" dy=\"0.20\">H</text>\n           <text x=\"-1.76\" y=\"-14.55\" dx=\"-0.20\" dy=\"0.20\">H</text>\n           <text x=\"-4.64\" y=\"-12.98\" dx=\"-0.20\" dy=\"0.20\">H</text>\n           <text x=\"-4.36\" y=\"-11.95\" dx=\"-0.20\" dy=\"0.20\">H</text>\n           <text x=\"-0.91\" y=\"-11.23\" dx=\"-0.20\" dy=\"0.20\">H</text>\n           <text x=\"-1.08\" y=\"-8.51\" dx=\"-0.20\" dy=\"0.20\">H</text>\n           <text x=\"-6.28\" y=\"-10.81\" dx=\"-0.20\" dy=\"0.20\">H</text>\n           <text x=\"-7.44\" y=\"-8.52\" dx=\"-0.20\" dy=\"0.20\">H</text>\n           <text x=\"-6.04\" y=\"-6.36\" dx=\"-0.20\" dy=\"0.20\">H</text>\n           <text x=\"-3.47\" y=\"-6.49\" dx=\"-0.20\" dy=\"0.20\">H</text>\n           <text x=\"-10.86\" y=\"-8.08\" dx=\"-0.20\" dy=\"0.20\">H</text>\n           <text x=\"-10.47\" y=\"-6.27\" dx=\"-0.20\" dy=\"0.20\">H</text>\n           <text x=\"-11.19\" y=\"-7.07\" dx=\"-0.20\" dy=\"0.20\">H</text>\n           <text x=\"-8.30\" y=\"-8.63\" dx=\"-0.20\" dy=\"0.20\">H</text>\n           <text x=\"-7.59\" y=\"-7.83\" dx=\"-0.20\" dy=\"0.20\">H</text>\n           <text x=\"-5.78\" y=\"-7.77\" dx=\"-0.20\" dy=\"0.20\">H</text>\n           <text x=\"-4.06\" y=\"-5.85\" dx=\"-0.20\" dy=\"0.20\">H</text>\n           <text x=\"-7.37\" y=\"-2.87\" dx=\"-0.20\" dy=\"0.20\">H</text>\n           <text x=\"-9.09\" y=\"-4.79\" dx=\"-0.20\" dy=\"0.20\">H</text>\n           <text x=\"0.91\" y=\"6.83\" dx=\"-0.20\" dy=\"0.20\">H</text>\n           <text x=\"2.51\" y=\"5.90\" dx=\"-0.20\" dy=\"0.20\">H</text>\n           <text x=\"1.98\" y=\"6.83\" dx=\"-0.20\" dy=\"0.20\">H</text>\n           <text x=\"-0.40\" y=\"4.56\" dx=\"-0.20\" dy=\"0.20\">H</text>\n           <text x=\"0.14\" y=\"3.64\" dx=\"-0.20\" dy=\"0.20\">H</text>\n           <text x=\"-8.27\" y=\"12.79\" dx=\"-0.20\" dy=\"0.20\">H</text>\n           <text x=\"-7.43\" y=\"14.44\" dx=\"-0.20\" dy=\"0.20\">H</text>\n           <text x=\"-8.32\" y=\"13.86\" dx=\"-0.20\" dy=\"0.20\">H</text>\n           <text x=\"-5.93\" y=\"11.61\" dx=\"-0.20\" dy=\"0.20\">H</text>\n           <text x=\"-5.03\" y=\"12.19\" dx=\"-0.20\" dy=\"0.20\">H</text>\n           <text x=\"-4.75\" y=\"14.58\" dx=\"-0.20\" dy=\"0.20\">H</text>\n           <text x=\"-3.80\" y=\"14.10\" dx=\"-0.20\" dy=\"0.20\">H</text>\n           <text x=\"-3.27\" y=\"11.75\" dx=\"-0.20\" dy=\"0.20\">H</text>\n           <text x=\"-2.37\" y=\"12.33\" dx=\"-0.20\" dy=\"0.20\">H</text>\n           <text x=\"-2.08\" y=\"14.64\" dx=\"-0.20\" dy=\"0.20\">H</text>\n           <text x=\"0.58\" y=\"14.78\" dx=\"-0.20\" dy=\"0.20\">H</text>\n           <text x=\"1.51\" y=\"13.35\" dx=\"-0.20\" dy=\"0.20\">H</text>\n           <text x=\"0.30\" y=\"10.97\" dx=\"-0.20\" dy=\"0.20\">H</text>\n           <text x=\"-1.40\" y=\"10.88\" dx=\"-0.20\" dy=\"0.20\">H</text>\n           <text x=\"5.28\" y=\"11.55\" dx=\"-0.20\" dy=\"0.20\">H</text>\n           <text x=\"6.37\" y=\"10.06\" dx=\"-0.20\" dy=\"0.20\">H</text>\n           <text x=\"6.25\" y=\"11.12\" dx=\"-0.20\" dy=\"0.20\">H</text>\n           <text x=\"4.26\" y=\"8.52\" dx=\"-0.20\" dy=\"0.20\">H</text>\n           <text x=\"3.28\" y=\"8.96\" dx=\"-0.20\" dy=\"0.20\">H</text>\n           <text x=\"-0.68\" y=\"2.82\" dx=\"-0.20\" dy=\"0.20\">H</text>\n           <text x=\"-0.20\" y=\"0.43\" dx=\"-0.20\" dy=\"0.20\">H</text>\n           <text x=\"-4.08\" y=\"2.44\" dx=\"-0.20\" dy=\"0.20\">H</text>\n           <text x=\"-4.29\" y=\"3.54\" dx=\"-0.20\" dy=\"0.20\">H</text>\n           <text x=\"-1.95\" y=\"-2.01\" dx=\"-0.20\" dy=\"0.20\">H</text>\n           <text x=\"-1.01\" y=\"5.59\" dx=\"-0.20\" dy=\"0.20\">H</text>\n           <text x=\"-4.35\" y=\"4.12\" dx=\"-0.20\" dy=\"0.20\">H</text>\n           <text x=\"-0.71\" y=\"7.17\" dx=\"-0.20\" dy=\"0.20\">H</text>\n           <text x=\"-1.54\" y=\"7.87\" dx=\"-0.20\" dy=\"0.20\">H</text>\n           <text x=\"-5.62\" y=\"5.00\" dx=\"-0.20\" dy=\"0.20\">H</text>\n           <text x=\"8.37\" y=\"-4.42\" dx=\"-0.20\" dy=\"0.20\">H</text>\n           <text x=\"3.91\" y=\"-4.42\" dx=\"-0.20\" dy=\"0.20\">H</text>\n           <text x=\"8.37\" y=\"-1.84\" dx=\"-0.20\" dy=\"0.20\">H</text>\n           <text x=\"3.91\" y=\"-1.84\" dx=\"-0.20\" dy=\"0.20\">H</text>\n           <text x=\"8.40\" y=\"-7.98\" dx=\"-0.20\" dy=\"0.20\">H</text>\n           <text x=\"5.21\" y=\"-8.75\" dx=\"-0.20\" dy=\"0.20\">H</text>\n           <text x=\"5.21\" y=\"-9.82\" dx=\"-0.20\" dy=\"0.20\">H</text>\n           <text x=\"7.07\" y=\"-11.36\" dx=\"-0.20\" dy=\"0.20\">H</text>\n           <text x=\"7.07\" y=\"-10.29\" dx=\"-0.20\" dy=\"0.20\">H</text>\n           <text x=\"8.32\" y=\"-6.49\" dx=\"-0.20\" dy=\"0.20\">H</text>\n           <text x=\"8.40\" y=\"0.19\" dx=\"-0.20\" dy=\"0.20\">H</text>\n           <text x=\"7.47\" y=\"-0.35\" dx=\"-0.20\" dy=\"0.20\">H</text>\n           <text x=\"9.66\" y=\"5.06\" dx=\"-0.20\" dy=\"0.20\">H</text>\n           <text x=\"3.95\" y=\"7.37\" dx=\"-0.20\" dy=\"0.20\">H</text>\n           <text x=\"9.73\" y=\"2.50\" dx=\"-0.20\" dy=\"0.20\">H</text>\n           <text x=\"9.73\" y=\"3.57\" dx=\"-0.20\" dy=\"0.20\">H</text>\n           <text x=\"5.29\" y=\"9.68\" dx=\"-0.20\" dy=\"0.20\">H</text>\n           <text x=\"6.99\" y=\"9.68\" dx=\"-0.20\" dy=\"0.20\">H</text>\n          </g>\n          <g font-family=\"monospace\" font-size=\"0.3\" stroke-width=\"0.03\">\n           <text x=\"-0.53\" y=\"-7.84\" dx=\"0.05\" dy=\"-0.20\">-»0</text>\n           <text x=\"-0.53\" y=\"-7.84\" dx=\"0.05\" dy=\"-0.20\">-</text>\n           <text x=\"-4.51\" y=\"-3.03\" dx=\"0.05\" dy=\"-0.20\">0»-</text>\n           <text x=\"-0.57\" y=\"11.41\" dx=\"0.05\" dy=\"-0.20\">+</text>\n           <text x=\"1.48\" y=\"9.30\" dx=\"0.05\" dy=\"-0.20\">-</text>\n           <text x=\"-4.59\" y=\"9.16\" dx=\"0.05\" dy=\"-0.20\">-</text>\n           <text x=\"-3.22\" y=\"10.84\" dx=\"0.05\" dy=\"-0.20\">-</text>\n           <text x=\"8.81\" y=\"-10.83\" dx=\"0.05\" dy=\"-0.20\">-</text>\n           <text x=\"4.81\" y=\"-13.14\" dx=\"0.05\" dy=\"-0.20\">-</text>\n          </g>\n        </g>\n      </mask>\n    </defs>\n    <g fill=\"none\" stroke=\"black\" stroke-width=\"0.04\"  mask=\"url(#mask-373b80aa-6415-40fb-a148-bb3df3de1ac8)\">\n      <line x1=\"2.14\" y1=\"-12.47\" x2=\"2.14\" y2=\"-10.93\"/>\n      <line x1=\"2.14\" y1=\"-12.47\" x2=\"3.06\" y2=\"-13.00\"/>\n      <line x1=\"2.14\" y1=\"-12.47\" x2=\"1.21\" y2=\"-13.00\"/>\n      <line x1=\"2.14\" y1=\"-12.47\" x2=\"2.14\" y2=\"-13.54\"/>\n      <line x1=\"2.14\" y1=\"-10.93\" x2=\"0.80\" y2=\"-10.15\"/>\n      <line x1=\"2.14\" y1=\"-10.93\" x2=\"3.07\" y2=\"-10.39\"/>\n      <line x1=\"2.14\" y1=\"-10.93\" x2=\"2.14\" y2=\"-9.86\"/>\n      <line x1=\"0.80\" y1=\"-10.15\" x2=\"0.80\" y2=\"-8.61\"/>\n      <line x1=\"0.80\" y1=\"-10.15\" x2=\"-0.13\" y2=\"-10.68\"/>\n      <line x1=\"0.80\" y1=\"-10.15\" x2=\"-0.13\" y2=\"-9.61\"/>\n      <line x1=\"0.80\" y1=\"-8.61\" x2=\"-0.53\" y2=\"-7.84\"/>\n      <line x1=\"0.83\" y1=\"-8.66\" x2=\"2.17\" y2=\"-7.89\"/>\n      <line x1=\"0.77\" y1=\"-8.56\" x2=\"2.11\" y2=\"-7.79\"/>\n      <line x1=\"-0.53\" y1=\"-7.84\" x2=\"-0.54\" y2=\"-6.30\" stroke=\"green\"/>\n      <line x1=\"-2.52\" y1=\"-13.80\" x2=\"-3.61\" y2=\"-12.70\"/>\n      <line x1=\"-2.52\" y1=\"-13.80\" x2=\"-1.48\" y2=\"-13.52\"/>\n      <line x1=\"-2.52\" y1=\"-13.80\" x2=\"-2.79\" y2=\"-14.83\"/>\n      <line x1=\"-2.52\" y1=\"-13.80\" x2=\"-1.76\" y2=\"-14.55\"/>\n      <line x1=\"-3.61\" y1=\"-12.70\" x2=\"-3.20\" y2=\"-11.22\"/>\n      <line x1=\"-3.61\" y1=\"-12.70\" x2=\"-4.64\" y2=\"-12.98\"/>\n      <line x1=\"-3.61\" y1=\"-12.70\" x2=\"-4.36\" y2=\"-11.95\"/>\n      <line x1=\"-3.18\" y1=\"-11.27\" x2=\"-1.75\" y2=\"-10.72\"/>\n      <line x1=\"-3.22\" y1=\"-11.16\" x2=\"-1.79\" y2=\"-10.61\"/>\n      <line x1=\"-3.20\" y1=\"-11.22\" x2=\"-4.18\" y2=\"-10.02\"/>\n      <line x1=\"-1.77\" y1=\"-10.67\" x2=\"-1.85\" y2=\"-9.13\"/>\n      <line x1=\"-1.77\" y1=\"-10.67\" x2=\"-0.91\" y2=\"-11.23\"/>\n      <line x1=\"-1.85\" y1=\"-9.13\" x2=\"-3.34\" y2=\"-8.73\"/>\n      <line x1=\"-1.85\" y1=\"-9.13\" x2=\"-1.08\" y2=\"-8.51\"/>\n      <line x1=\"-3.39\" y1=\"-8.70\" x2=\"-4.23\" y2=\"-9.99\"/>\n      <line x1=\"-3.29\" y1=\"-8.76\" x2=\"-4.13\" y2=\"-10.05\"/>\n      <line x1=\"-3.34\" y1=\"-8.73\" x2=\"-4.04\" y2=\"-7.36\"/>\n      <line x1=\"-4.18\" y1=\"-10.02\" x2=\"-5.71\" y2=\"-9.94\"/>\n      <line x1=\"-5.66\" y1=\"-9.92\" x2=\"-6.36\" y2=\"-8.55\"/>\n      <line x1=\"-5.77\" y1=\"-9.97\" x2=\"-6.46\" y2=\"-8.60\"/>\n      <line x1=\"-5.71\" y1=\"-9.94\" x2=\"-6.28\" y2=\"-10.81\"/>\n      <line x1=\"-6.41\" y1=\"-8.57\" x2=\"-5.57\" y2=\"-7.28\"/>\n      <line x1=\"-6.41\" y1=\"-8.57\" x2=\"-7.44\" y2=\"-8.52\"/>\n      <line x1=\"-5.57\" y1=\"-7.34\" x2=\"-4.04\" y2=\"-7.42\"/>\n      <line x1=\"-5.57\" y1=\"-7.22\" x2=\"-4.03\" y2=\"-7.30\"/>\n      <line x1=\"-5.57\" y1=\"-7.28\" x2=\"-6.04\" y2=\"-6.36\"/>\n      <line x1=\"-4.04\" y1=\"-7.36\" x2=\"-3.47\" y2=\"-6.49\"/>\n      <line x1=\"-10.14\" y1=\"-7.29\" x2=\"-8.63\" y2=\"-7.61\"/>\n      <line x1=\"-10.14\" y1=\"-7.29\" x2=\"-10.86\" y2=\"-8.08\"/>\n      <line x1=\"-10.14\" y1=\"-7.29\" x2=\"-10.47\" y2=\"-6.27\"/>\n      <line x1=\"-10.14\" y1=\"-7.29\" x2=\"-11.19\" y2=\"-7.07\"/>\n      <line x1=\"-8.63\" y1=\"-7.61\" x2=\"-7.60\" y2=\"-6.46\"/>\n      <line x1=\"-8.63\" y1=\"-7.61\" x2=\"-8.30\" y2=\"-8.63\"/>\n      <line x1=\"-8.63\" y1=\"-7.61\" x2=\"-7.59\" y2=\"-7.83\"/>\n      <line x1=\"-7.62\" y1=\"-6.52\" x2=\"-6.11\" y2=\"-6.84\"/>\n      <line x1=\"-7.59\" y1=\"-6.41\" x2=\"-6.08\" y2=\"-6.73\"/>\n      <line x1=\"-7.60\" y1=\"-6.46\" x2=\"-8.08\" y2=\"-5.00\"/>\n      <line x1=\"-6.10\" y1=\"-6.78\" x2=\"-5.07\" y2=\"-5.64\"/>\n      <line x1=\"-6.10\" y1=\"-6.78\" x2=\"-5.78\" y2=\"-7.77\"/>\n      <line x1=\"-5.01\" y1=\"-5.62\" x2=\"-5.48\" y2=\"-4.16\"/>\n      <line x1=\"-5.12\" y1=\"-5.66\" x2=\"-5.60\" y2=\"-4.19\"/>\n      <line x1=\"-5.07\" y1=\"-5.64\" x2=\"-4.06\" y2=\"-5.85\"/>\n      <line x1=\"-5.54\" y1=\"-4.18\" x2=\"-4.51\" y2=\"-3.03\"/>\n      <line x1=\"-5.54\" y1=\"-4.18\" x2=\"-7.05\" y2=\"-3.86\"/>\n      <line x1=\"-4.51\" y1=\"-3.03\" x2=\"-5.34\" y2=\"-1.23\" stroke=\"red\"/>\n      <line x1=\"-7.09\" y1=\"-3.82\" x2=\"-8.12\" y2=\"-4.96\"/>\n      <line x1=\"-7.00\" y1=\"-3.90\" x2=\"-8.03\" y2=\"-5.04\"/>\n      <line x1=\"-7.05\" y1=\"-3.86\" x2=\"-7.37\" y2=\"-2.87\"/>\n      <line x1=\"-8.08\" y1=\"-5.00\" x2=\"-9.09\" y2=\"-4.79\"/>\n      <line x1=\"1.44\" y1=\"5.90\" x2=\"0.67\" y2=\"4.57\"/>\n      <line x1=\"1.44\" y1=\"5.90\" x2=\"0.91\" y2=\"6.83\"/>\n      <line x1=\"1.44\" y1=\"5.90\" x2=\"2.51\" y2=\"5.90\"/>\n      <line x1=\"1.44\" y1=\"5.90\" x2=\"1.98\" y2=\"6.83\"/>\n      <line x1=\"0.67\" y1=\"4.57\" x2=\"1.45\" y2=\"3.23\"/>\n      <line x1=\"0.67\" y1=\"4.57\" x2=\"-0.40\" y2=\"4.56\"/>\n      <line x1=\"0.67\" y1=\"4.57\" x2=\"0.14\" y2=\"3.64\"/>\n      <line x1=\"1.45\" y1=\"3.23\" x2=\"0.42\" y2=\"1.30\"/>\n      <line x1=\"-7.37\" y1=\"13.38\" x2=\"-5.99\" y2=\"12.68\"/>\n      <line x1=\"-7.37\" y1=\"13.38\" x2=\"-8.27\" y2=\"12.79\"/>\n      <line x1=\"-7.37\" y1=\"13.38\" x2=\"-7.43\" y2=\"14.44\"/>\n      <line x1=\"-7.37\" y1=\"13.38\" x2=\"-8.32\" y2=\"13.86\"/>\n      <line x1=\"-5.99\" y1=\"12.68\" x2=\"-4.70\" y2=\"13.52\"/>\n      <line x1=\"-5.99\" y1=\"12.68\" x2=\"-5.93\" y2=\"11.61\"/>\n      <line x1=\"-5.99\" y1=\"12.68\" x2=\"-5.03\" y2=\"12.19\"/>\n      <line x1=\"-4.70\" y1=\"13.52\" x2=\"-3.33\" y2=\"12.82\"/>\n      <line x1=\"-4.70\" y1=\"13.52\" x2=\"-4.75\" y2=\"14.58\"/>\n      <line x1=\"-4.70\" y1=\"13.52\" x2=\"-3.80\" y2=\"14.10\"/>\n      <line x1=\"-3.33\" y1=\"12.82\" x2=\"-2.03\" y2=\"13.66\"/>\n      <line x1=\"-3.33\" y1=\"12.82\" x2=\"-3.27\" y2=\"11.75\"/>\n      <line x1=\"-3.33\" y1=\"12.82\" x2=\"-2.37\" y2=\"12.33\"/>\n      <line x1=\"-2.03\" y1=\"13.66\" x2=\"-0.65\" y2=\"12.96\"/>\n      <line x1=\"-2.03\" y1=\"13.66\" x2=\"-2.08\" y2=\"14.64\"/>\n      <line x1=\"-0.65\" y1=\"12.96\" x2=\"0.64\" y2=\"13.80\"/>\n      <line x1=\"-0.71\" y1=\"12.95\" x2=\"-0.63\" y2=\"11.41\"/>\n      <line x1=\"-0.59\" y1=\"12.96\" x2=\"-0.51\" y2=\"11.42\"/>\n      <line x1=\"0.64\" y1=\"13.80\" x2=\"0.58\" y2=\"14.78\"/>\n      <line x1=\"0.64\" y1=\"13.80\" x2=\"1.51\" y2=\"13.35\"/>\n      <line x1=\"-0.57\" y1=\"11.41\" x2=\"0.30\" y2=\"10.97\"/>\n      <line x1=\"-0.57\" y1=\"11.41\" x2=\"-1.40\" y2=\"10.88\"/>\n      <line x1=\"5.39\" y1=\"10.49\" x2=\"4.14\" y2=\"9.58\"/>\n      <line x1=\"5.39\" y1=\"10.49\" x2=\"5.28\" y2=\"11.55\"/>\n      <line x1=\"5.39\" y1=\"10.49\" x2=\"6.37\" y2=\"10.06\"/>\n      <line x1=\"5.39\" y1=\"10.49\" x2=\"6.25\" y2=\"11.12\"/>\n      <line x1=\"4.14\" y1=\"9.58\" x2=\"2.74\" y2=\"10.21\"/>\n      <line x1=\"4.14\" y1=\"9.58\" x2=\"4.26\" y2=\"8.52\"/>\n      <line x1=\"4.14\" y1=\"9.58\" x2=\"3.28\" y2=\"8.96\"/>\n      <line x1=\"2.74\" y1=\"10.21\" x2=\"1.48\" y2=\"9.30\"/>\n      <line x1=\"2.80\" y1=\"10.22\" x2=\"2.64\" y2=\"11.75\"/>\n      <line x1=\"2.68\" y1=\"10.21\" x2=\"2.52\" y2=\"11.74\"/>\n      <line x1=\"-1.11\" y1=\"1.46\" x2=\"-2.01\" y2=\"0.20\"/>\n      <line x1=\"-1.11\" y1=\"1.46\" x2=\"0.42\" y2=\"1.30\"/>\n      <line x1=\"-1.11\" y1=\"1.46\" x2=\"-1.75\" y2=\"2.88\"/>\n      <line x1=\"-1.75\" y1=\"2.88\" x2=\"-0.99\" y2=\"4.16\"/>\n      <line x1=\"-1.75\" y1=\"2.88\" x2=\"-3.29\" y2=\"3.16\"/>\n      <line x1=\"-1.75\" y1=\"2.88\" x2=\"-0.68\" y2=\"2.82\"/>\n      <line x1=\"-2.01\" y1=\"0.20\" x2=\"-1.37\" y2=\"-1.21\"/>\n      <line x1=\"-2.00\" y1=\"0.26\" x2=\"-3.53\" y2=\"0.41\"/>\n      <line x1=\"-2.01\" y1=\"0.14\" x2=\"-3.54\" y2=\"0.29\"/>\n      <line x1=\"0.42\" y1=\"1.30\" x2=\"1.06\" y2=\"-0.10\"/>\n      <line x1=\"0.42\" y1=\"1.30\" x2=\"-0.20\" y2=\"0.43\"/>\n      <line x1=\"-0.99\" y1=\"4.16\" x2=\"-2.04\" y2=\"5.31\"/>\n      <line x1=\"-3.29\" y1=\"3.16\" x2=\"-3.45\" y2=\"4.70\"/>\n      <line x1=\"-3.29\" y1=\"3.16\" x2=\"-4.08\" y2=\"2.44\"/>\n      <line x1=\"-3.29\" y1=\"3.16\" x2=\"-4.29\" y2=\"3.54\"/>\n      <line x1=\"-1.37\" y1=\"-1.21\" x2=\"0.16\" y2=\"-1.36\"/>\n      <line x1=\"-1.37\" y1=\"-1.21\" x2=\"-1.95\" y2=\"-2.01\"/>\n      <line x1=\"1.02\" y1=\"-0.07\" x2=\"0.12\" y2=\"-1.33\"/>\n      <line x1=\"1.11\" y1=\"-0.14\" x2=\"0.21\" y2=\"-1.40\" stroke=\"red\"/>\n      <line x1=\"1.06\" y1=\"-0.10\" x2=\"4.80\" y2=\"2.26\"/>\n      <line x1=\"1.06\" y1=\"-0.10\" x2=\"-7.71\" y2=\"-0.18\" stroke=\"green\"/>\n      <line x1=\"-2.04\" y1=\"5.31\" x2=\"-1.72\" y2=\"6.82\"/>\n      <line x1=\"-2.04\" y1=\"5.31\" x2=\"-3.45\" y2=\"4.70\"/>\n      <line x1=\"-2.04\" y1=\"5.31\" x2=\"-1.01\" y2=\"5.59\"/>\n      <line x1=\"-3.45\" y1=\"4.70\" x2=\"-4.77\" y2=\"5.48\"/>\n      <line x1=\"-3.45\" y1=\"4.70\" x2=\"-4.35\" y2=\"4.12\"/>\n      <line x1=\"0.11\" y1=\"-1.39\" x2=\"0.73\" y2=\"-2.79\"/>\n      <line x1=\"0.22\" y1=\"-1.34\" x2=\"0.84\" y2=\"-2.74\" stroke=\"green\"/>\n      <line x1=\"-1.72\" y1=\"6.82\" x2=\"-2.90\" y2=\"7.79\"/>\n      <line x1=\"-1.72\" y1=\"6.82\" x2=\"-0.71\" y2=\"7.17\"/>\n      <line x1=\"-1.72\" y1=\"6.82\" x2=\"-1.54\" y2=\"7.87\"/>\n      <line x1=\"-4.77\" y1=\"5.48\" x2=\"-5.62\" y2=\"5.00\"/>\n      <line x1=\"0.79\" y1=\"-2.77\" x2=\"0.01\" y2=\"-4.80\" stroke=\"red\"/>\n      <line x1=\"-2.90\" y1=\"7.79\" x2=\"-3.06\" y2=\"9.32\"/>\n      <line x1=\"-3.06\" y1=\"9.32\" x2=\"-4.59\" y2=\"9.16\"/>\n      <line x1=\"-3.06\" y1=\"9.32\" x2=\"-3.22\" y2=\"10.84\"/>\n      <line x1=\"-3.05\" y1=\"9.26\" x2=\"-1.52\" y2=\"9.42\"/>\n      <line x1=\"-3.07\" y1=\"9.38\" x2=\"-1.54\" y2=\"9.54\"/>\n      <line x1=\"6.14\" y1=\"-6.21\" x2=\"7.47\" y2=\"-6.98\"/>\n      <line x1=\"6.11\" y1=\"-6.16\" x2=\"4.77\" y2=\"-6.93\"/>\n      <line x1=\"6.17\" y1=\"-6.26\" x2=\"4.83\" y2=\"-7.03\"/>\n      <line x1=\"6.14\" y1=\"-6.21\" x2=\"6.14\" y2=\"-4.67\"/>\n      <line x1=\"7.47\" y1=\"-3.90\" x2=\"6.14\" y2=\"-4.67\"/>\n      <line x1=\"7.47\" y1=\"-3.90\" x2=\"8.37\" y2=\"-4.42\"/>\n      <line x1=\"7.53\" y1=\"-3.90\" x2=\"7.53\" y2=\"-2.36\"/>\n      <line x1=\"7.41\" y1=\"-3.90\" x2=\"7.41\" y2=\"-2.36\"/>\n      <line x1=\"4.77\" y1=\"-3.95\" x2=\"6.11\" y2=\"-4.72\"/>\n      <line x1=\"4.83\" y1=\"-3.85\" x2=\"6.17\" y2=\"-4.62\"/>\n      <line x1=\"4.80\" y1=\"-3.90\" x2=\"3.91\" y2=\"-4.42\"/>\n      <line x1=\"4.80\" y1=\"-3.90\" x2=\"4.80\" y2=\"-2.36\"/>\n      <line x1=\"7.47\" y1=\"-2.36\" x2=\"8.37\" y2=\"-1.84\"/>\n      <line x1=\"7.47\" y1=\"-2.36\" x2=\"6.14\" y2=\"-1.59\"/>\n      <line x1=\"4.80\" y1=\"-2.36\" x2=\"3.91\" y2=\"-1.84\"/>\n      <line x1=\"4.83\" y1=\"-2.41\" x2=\"6.17\" y2=\"-1.64\"/>\n      <line x1=\"4.77\" y1=\"-2.31\" x2=\"6.11\" y2=\"-1.54\"/>\n      <line x1=\"6.14\" y1=\"-1.59\" x2=\"6.14\" y2=\"-0.05\"/>\n      <line x1=\"8.84\" y1=\"-9.34\" x2=\"10.17\" y2=\"-8.57\"/>\n      <line x1=\"8.78\" y1=\"-9.24\" x2=\"10.11\" y2=\"-8.47\"/>\n      <line x1=\"8.81\" y1=\"-9.29\" x2=\"7.47\" y2=\"-8.52\"/>\n      <line x1=\"8.81\" y1=\"-9.29\" x2=\"8.81\" y2=\"-10.83\"/>\n      <line x1=\"4.84\" y1=\"-11.55\" x2=\"3.50\" y2=\"-10.78\"/>\n      <line x1=\"4.78\" y1=\"-11.65\" x2=\"3.44\" y2=\"-10.88\"/>\n      <line x1=\"4.81\" y1=\"-11.60\" x2=\"6.14\" y2=\"-10.83\"/>\n      <line x1=\"4.81\" y1=\"-11.60\" x2=\"4.81\" y2=\"-13.14\"/>\n      <line x1=\"7.47\" y1=\"-8.52\" x2=\"7.47\" y2=\"-6.98\"/>\n      <line x1=\"7.47\" y1=\"-8.52\" x2=\"8.40\" y2=\"-7.98\"/>\n      <line x1=\"7.47\" y1=\"-8.52\" x2=\"6.14\" y2=\"-9.29\"/>\n      <line x1=\"6.14\" y1=\"-9.29\" x2=\"5.21\" y2=\"-8.75\"/>\n      <line x1=\"6.14\" y1=\"-9.29\" x2=\"5.21\" y2=\"-9.82\"/>\n      <line x1=\"6.14\" y1=\"-9.29\" x2=\"6.14\" y2=\"-10.83\"/>\n      <line x1=\"6.14\" y1=\"-10.83\" x2=\"7.07\" y2=\"-11.36\"/>\n      <line x1=\"6.14\" y1=\"-10.83\" x2=\"7.07\" y2=\"-10.29\"/>\n      <line x1=\"7.47\" y1=\"-6.98\" x2=\"8.32\" y2=\"-6.49\"/>\n      <line x1=\"4.80\" y1=\"2.26\" x2=\"6.14\" y2=\"3.03\"/>\n      <line x1=\"4.80\" y1=\"2.26\" x2=\"3.87\" y2=\"1.04\"/>\n      <line x1=\"4.80\" y1=\"2.26\" x2=\"3.32\" y2=\"2.66\"/>\n      <line x1=\"7.47\" y1=\"0.72\" x2=\"6.14\" y2=\"-0.05\"/>\n      <line x1=\"7.47\" y1=\"0.72\" x2=\"8.40\" y2=\"0.19\"/>\n      <line x1=\"7.47\" y1=\"0.72\" x2=\"7.47\" y2=\"-0.35\"/>\n      <line x1=\"7.47\" y1=\"0.72\" x2=\"7.47\" y2=\"2.26\"/>\n      <line x1=\"6.14\" y1=\"-0.05\" x2=\"4.99\" y2=\"-0.02\"/>\n      <line x1=\"7.47\" y1=\"2.26\" x2=\"8.81\" y2=\"3.03\"/>\n      <line x1=\"7.47\" y1=\"2.26\" x2=\"8.81\" y2=\"1.49\"/>\n      <line x1=\"7.47\" y1=\"2.26\" x2=\"6.14\" y2=\"3.03\"/>\n      <line x1=\"6.14\" y1=\"3.03\" x2=\"6.14\" y2=\"4.57\"/>\n      <line x1=\"7.44\" y1=\"5.39\" x2=\"6.11\" y2=\"4.62\"/>\n      <line x1=\"7.50\" y1=\"5.29\" x2=\"6.17\" y2=\"4.52\"/>\n      <line x1=\"7.47\" y1=\"5.34\" x2=\"7.47\" y2=\"6.88\"/>\n      <line x1=\"7.47\" y1=\"5.34\" x2=\"8.81\" y2=\"4.57\"/>\n      <line x1=\"6.14\" y1=\"4.57\" x2=\"4.80\" y2=\"5.34\"/>\n      <line x1=\"7.50\" y1=\"6.93\" x2=\"6.17\" y2=\"7.70\"/>\n      <line x1=\"7.44\" y1=\"6.83\" x2=\"6.11\" y2=\"7.60\"/>\n      <line x1=\"8.81\" y1=\"4.57\" x2=\"9.66\" y2=\"5.06\"/>\n      <line x1=\"8.81\" y1=\"4.57\" x2=\"8.81\" y2=\"3.03\"/>\n      <line x1=\"4.80\" y1=\"6.88\" x2=\"3.95\" y2=\"7.37\"/>\n      <line x1=\"4.80\" y1=\"6.88\" x2=\"6.14\" y2=\"7.65\"/>\n      <line x1=\"4.80\" y1=\"6.88\" x2=\"4.80\" y2=\"5.34\"/>\n      <line x1=\"6.14\" y1=\"7.65\" x2=\"6.14\" y2=\"9.19\"/>\n      <line x1=\"4.77\" y1=\"5.39\" x2=\"3.44\" y2=\"4.62\"/>\n      <line x1=\"4.83\" y1=\"5.29\" x2=\"3.50\" y2=\"4.52\"/>\n      <line x1=\"8.81\" y1=\"3.03\" x2=\"9.73\" y2=\"2.50\"/>\n      <line x1=\"8.81\" y1=\"3.03\" x2=\"9.73\" y2=\"3.57\"/>\n      <line x1=\"6.14\" y1=\"9.19\" x2=\"5.29\" y2=\"9.68\"/>\n      <line x1=\"6.14\" y1=\"9.19\" x2=\"6.99\" y2=\"9.68\"/>\n      <line x1=\"-0.54\" y1=\"-6.30\" x2=\"1.21\" y2=\"-6.26\" stroke=\"red\"/>\n      <line x1=\"1.21\" y1=\"-6.26\" x2=\"2.94\" y2=\"-5.38\"/>\n      <line x1=\"1.21\" y1=\"-6.26\" x2=\"0.01\" y2=\"-4.80\" stroke=\"green\"/>\n      <line x1=\"-6.42\" y1=\"-0.14\" x2=\"-5.62\" y2=\"1.13\"/>\n      <line x1=\"-6.42\" y1=\"-0.14\" x2=\"-7.71\" y2=\"-0.18\" stroke=\"red\"/>\n      <line x1=\"-6.42\" y1=\"-0.14\" x2=\"-5.34\" y2=\"-1.23\" stroke=\"green\"/>\n    </g>\n    <g font-family=\"monospace\">\n      <g fill=\"#FF0D0D\" font-family=\"sans-serif\">\n        <text x=\"-0.53\" y=\"-7.84\" dx=\"-0.20\" dy=\"0.20\" font-size=\"0.50\">O</text>\n      </g>\n      <g fill=\"#FF0D0D\" font-family=\"sans-serif\">\n        <text x=\"2.14\" y=\"-7.84\" dx=\"-0.20\" dy=\"0.20\" font-size=\"0.50\">O</text>\n      </g>\n      <g fill=\"#3050F8\" font-family=\"sans-serif\">\n        <text x=\"-1.85\" y=\"-9.13\" dx=\"-0.20\" dy=\"0.20\" font-size=\"0.50\">N</text>\n      </g>\n      <g fill=\"#FF0D0D\" font-family=\"sans-serif\">\n        <text x=\"-4.51\" y=\"-3.03\" dx=\"-0.20\" dy=\"0.20\" font-size=\"0.50\">O</text>\n      </g>\n      <g fill=\"#C6C600\" font-family=\"sans-serif\">\n        <text x=\"1.45\" y=\"3.23\" dx=\"-0.20\" dy=\"0.20\" font-size=\"0.50\">S</text>\n      </g>\n      <g fill=\"#3050F8\" font-family=\"sans-serif\">\n        <text x=\"-2.03\" y=\"13.66\" dx=\"-0.20\" dy=\"0.20\" font-size=\"0.50\">N</text>\n      </g>\n      <g fill=\"#3050F8\" font-family=\"sans-serif\">\n        <text x=\"0.64\" y=\"13.80\" dx=\"-0.20\" dy=\"0.20\" font-size=\"0.50\">N</text>\n      </g>\n      <g fill=\"#3050F8\" font-family=\"sans-serif\">\n        <text x=\"-0.57\" y=\"11.41\" dx=\"-0.20\" dy=\"0.20\" font-size=\"0.50\">N</text>\n      </g>\n      <g fill=\"#FF0D0D\" font-family=\"sans-serif\">\n        <text x=\"1.48\" y=\"9.30\" dx=\"-0.20\" dy=\"0.20\" font-size=\"0.50\">O</text>\n      </g>\n      <g fill=\"#FF0D0D\" font-family=\"sans-serif\">\n        <text x=\"2.58\" y=\"11.75\" dx=\"-0.20\" dy=\"0.20\" font-size=\"0.50\">O</text>\n      </g>\n      <g fill=\"#3050F8\" font-family=\"sans-serif\">\n        <text x=\"-1.11\" y=\"1.46\" dx=\"-0.20\" dy=\"0.20\" font-size=\"0.50\">N</text>\n      </g>\n      <g fill=\"#FF0D0D\" font-family=\"sans-serif\">\n        <text x=\"-0.99\" y=\"4.16\" dx=\"-0.20\" dy=\"0.20\" font-size=\"0.50\">O</text>\n      </g>\n      <g fill=\"#3050F8\" font-family=\"sans-serif\">\n        <text x=\"-1.37\" y=\"-1.21\" dx=\"-0.20\" dy=\"0.20\" font-size=\"0.50\">N</text>\n      </g>\n      <g fill=\"#FF0D0D\" font-family=\"sans-serif\">\n        <text x=\"-3.54\" y=\"0.35\" dx=\"-0.20\" dy=\"0.20\" font-size=\"0.50\">O</text>\n      </g>\n      <g fill=\"#FF0D0D\" font-family=\"sans-serif\">\n        <text x=\"-4.77\" y=\"5.48\" dx=\"-0.20\" dy=\"0.20\" font-size=\"0.50\">O</text>\n      </g>\n      <g fill=\"#FF0D0D\" font-family=\"sans-serif\">\n        <text x=\"0.79\" y=\"-2.77\" dx=\"-0.20\" dy=\"0.20\" font-size=\"0.50\">O</text>\n      </g>\n      <g fill=\"#FF0D0D\" font-family=\"sans-serif\">\n        <text x=\"-2.90\" y=\"7.79\" dx=\"-0.20\" dy=\"0.20\" font-size=\"0.50\">O</text>\n      </g>\n      <g fill=\"#FF8000\" font-family=\"sans-serif\">\n        <text x=\"-3.06\" y=\"9.32\" dx=\"-0.20\" dy=\"0.20\" font-size=\"0.50\">P</text>\n      </g>\n      <g fill=\"#FF0D0D\" font-family=\"sans-serif\">\n        <text x=\"-4.59\" y=\"9.16\" dx=\"-0.20\" dy=\"0.20\" font-size=\"0.50\">O</text>\n      </g>\n      <g fill=\"#FF0D0D\" font-family=\"sans-serif\">\n        <text x=\"-3.22\" y=\"10.84\" dx=\"-0.20\" dy=\"0.20\" font-size=\"0.50\">O</text>\n      </g>\n      <g fill=\"#FF0D0D\" font-family=\"sans-serif\">\n        <text x=\"-1.53\" y=\"9.48\" dx=\"-0.20\" dy=\"0.20\" font-size=\"0.50\">O</text>\n      </g>\n      <g fill=\"#FF0D0D\" font-family=\"sans-serif\">\n        <text x=\"4.80\" y=\"-6.98\" dx=\"-0.20\" dy=\"0.20\" font-size=\"0.50\">O</text>\n      </g>\n      <g fill=\"#FF0D0D\" font-family=\"sans-serif\">\n        <text x=\"10.14\" y=\"-8.52\" dx=\"-0.20\" dy=\"0.20\" font-size=\"0.50\">O</text>\n      </g>\n      <g fill=\"#FF0D0D\" font-family=\"sans-serif\">\n        <text x=\"3.47\" y=\"-10.83\" dx=\"-0.20\" dy=\"0.20\" font-size=\"0.50\">O</text>\n      </g>\n      <g fill=\"#FF0D0D\" font-family=\"sans-serif\">\n        <text x=\"8.81\" y=\"-10.83\" dx=\"-0.20\" dy=\"0.20\" font-size=\"0.50\">O</text>\n      </g>\n      <g fill=\"#3050F8\" font-family=\"sans-serif\">\n        <text x=\"7.47\" y=\"-6.98\" dx=\"-0.20\" dy=\"0.20\" font-size=\"0.50\">N</text>\n      </g>\n      <g fill=\"#FF0D0D\" font-family=\"sans-serif\">\n        <text x=\"4.81\" y=\"-13.14\" dx=\"-0.20\" dy=\"0.20\" font-size=\"0.50\">O</text>\n      </g>\n      <g fill=\"#3050F8\" font-family=\"sans-serif\">\n        <text x=\"6.14\" y=\"-0.05\" dx=\"-0.20\" dy=\"0.20\" font-size=\"0.50\">N</text>\n      </g>\n      <g fill=\"#3050F8\" font-family=\"sans-serif\">\n        <text x=\"6.14\" y=\"3.03\" dx=\"-0.20\" dy=\"0.20\" font-size=\"0.50\">N</text>\n      </g>\n      <g fill=\"#3050F8\" font-family=\"sans-serif\">\n        <text x=\"7.47\" y=\"6.88\" dx=\"-0.20\" dy=\"0.20\" font-size=\"0.50\">N</text>\n      </g>\n      <g fill=\"#3050F8\" font-family=\"sans-serif\">\n        <text x=\"8.81\" y=\"4.57\" dx=\"-0.20\" dy=\"0.20\" font-size=\"0.50\">N</text>\n      </g>\n      <g fill=\"#3050F8\" font-family=\"sans-serif\">\n        <text x=\"4.80\" y=\"6.88\" dx=\"-0.20\" dy=\"0.20\" font-size=\"0.50\">N</text>\n      </g>\n      <g fill=\"#3050F8\" font-family=\"sans-serif\">\n        <text x=\"6.14\" y=\"9.19\" dx=\"-0.20\" dy=\"0.20\" font-size=\"0.50\">N</text>\n      </g>\n      <g fill=\"#FF0D0D\" font-family=\"sans-serif\">\n        <text x=\"3.47\" y=\"4.57\" dx=\"-0.20\" dy=\"0.20\" font-size=\"0.50\">O</text>\n      </g>\n      <g fill=\"#909090\" font-family=\"sans-serif\">\n        <text x=\"8.81\" y=\"1.49\" dx=\"-0.20\" dy=\"0.20\" font-size=\"0.50\">H</text>\n      </g>\n      <g fill=\"#909090\" font-family=\"sans-serif\">\n        <text x=\"3.32\" y=\"2.66\" dx=\"-0.20\" dy=\"0.20\" font-size=\"0.50\">H</text>\n      </g>\n      <g fill=\"#909090\" font-family=\"sans-serif\">\n        <text x=\"3.87\" y=\"1.04\" dx=\"-0.20\" dy=\"0.20\" font-size=\"0.50\">H</text>\n      </g>\n      <g fill=\"#909090\" font-family=\"sans-serif\">\n        <text x=\"-0.54\" y=\"-6.30\" dx=\"-0.20\" dy=\"0.20\" font-size=\"0.50\">H</text>\n      </g>\n      <g fill=\"#909090\" font-family=\"sans-serif\">\n        <text x=\"4.99\" y=\"-0.02\" dx=\"-0.20\" dy=\"0.20\" font-size=\"0.50\">H</text>\n      </g>\n      <g fill=\"#FF0D0D\" font-family=\"sans-serif\">\n        <text x=\"1.21\" y=\"-6.26\" dx=\"-0.20\" dy=\"0.20\" font-size=\"0.50\">O</text>\n      </g>\n      <g fill=\"#909090\" font-family=\"sans-serif\">\n        <text x=\"0.01\" y=\"-4.80\" dx=\"-0.20\" dy=\"0.20\" font-size=\"0.50\">H</text>\n      </g>\n      <g fill=\"#909090\" font-family=\"sans-serif\">\n        <text x=\"2.94\" y=\"-5.38\" dx=\"-0.20\" dy=\"0.20\" font-size=\"0.50\">H</text>\n      </g>\n      <g fill=\"#FF0D0D\" font-family=\"sans-serif\">\n        <text x=\"-6.42\" y=\"-0.14\" dx=\"-0.20\" dy=\"0.20\" font-size=\"0.50\">O</text>\n      </g>\n      <g fill=\"#909090\" font-family=\"sans-serif\">\n        <text x=\"-5.62\" y=\"1.13\" dx=\"-0.20\" dy=\"0.20\" font-size=\"0.50\">H</text>\n      </g>\n      <g fill=\"#909090\" font-family=\"sans-serif\">\n        <text x=\"-5.34\" y=\"-1.23\" dx=\"-0.20\" dy=\"0.20\" font-size=\"0.50\">H</text>\n      </g>\n      <g fill=\"#909090\" font-family=\"sans-serif\">\n        <text x=\"-7.71\" y=\"-0.18\" dx=\"-0.20\" dy=\"0.20\" font-size=\"0.50\">H</text>\n      </g>\n      <g fill=\"#909090\" font-family=\"sans-serif\">\n        <text x=\"3.06\" y=\"-13.00\" dx=\"-0.20\" dy=\"0.20\" font-size=\"0.50\">H</text>\n      </g>\n      <g fill=\"#909090\" font-family=\"sans-serif\">\n        <text x=\"1.21\" y=\"-13.00\" dx=\"-0.20\" dy=\"0.20\" font-size=\"0.50\">H</text>\n      </g>\n      <g fill=\"#909090\" font-family=\"sans-serif\">\n        <text x=\"2.14\" y=\"-13.54\" dx=\"-0.20\" dy=\"0.20\" font-size=\"0.50\">H</text>\n      </g>\n      <g fill=\"#909090\" font-family=\"sans-serif\">\n        <text x=\"3.07\" y=\"-10.39\" dx=\"-0.20\" dy=\"0.20\" font-size=\"0.50\">H</text>\n      </g>\n      <g fill=\"#909090\" font-family=\"sans-serif\">\n        <text x=\"2.14\" y=\"-9.86\" dx=\"-0.20\" dy=\"0.20\" font-size=\"0.50\">H</text>\n      </g>\n      <g fill=\"#909090\" font-family=\"sans-serif\">\n        <text x=\"-0.13\" y=\"-10.68\" dx=\"-0.20\" dy=\"0.20\" font-size=\"0.50\">H</text>\n      </g>\n      <g fill=\"#909090\" font-family=\"sans-serif\">\n        <text x=\"-0.13\" y=\"-9.61\" dx=\"-0.20\" dy=\"0.20\" font-size=\"0.50\">H</text>\n      </g>\n      <g fill=\"#909090\" font-family=\"sans-serif\">\n        <text x=\"-1.48\" y=\"-13.52\" dx=\"-0.20\" dy=\"0.20\" font-size=\"0.50\">H</text>\n      </g>\n      <g fill=\"#909090\" font-family=\"sans-serif\">\n        <text x=\"-2.79\" y=\"-14.83\" dx=\"-0.20\" dy=\"0.20\" font-size=\"0.50\">H</text>\n      </g>\n      <g fill=\"#909090\" font-family=\"sans-serif\">\n        <text x=\"-1.76\" y=\"-14.55\" dx=\"-0.20\" dy=\"0.20\" font-size=\"0.50\">H</text>\n      </g>\n      <g fill=\"#909090\" font-family=\"sans-serif\">\n        <text x=\"-4.64\" y=\"-12.98\" dx=\"-0.20\" dy=\"0.20\" font-size=\"0.50\">H</text>\n      </g>\n      <g fill=\"#909090\" font-family=\"sans-serif\">\n        <text x=\"-4.36\" y=\"-11.95\" dx=\"-0.20\" dy=\"0.20\" font-size=\"0.50\">H</text>\n      </g>\n      <g fill=\"#909090\" font-family=\"sans-serif\">\n        <text x=\"-0.91\" y=\"-11.23\" dx=\"-0.20\" dy=\"0.20\" font-size=\"0.50\">H</text>\n      </g>\n      <g fill=\"#909090\" font-family=\"sans-serif\">\n        <text x=\"-1.08\" y=\"-8.51\" dx=\"-0.20\" dy=\"0.20\" font-size=\"0.50\">H</text>\n      </g>\n      <g fill=\"#909090\" font-family=\"sans-serif\">\n        <text x=\"-6.28\" y=\"-10.81\" dx=\"-0.20\" dy=\"0.20\" font-size=\"0.50\">H</text>\n      </g>\n      <g fill=\"#909090\" font-family=\"sans-serif\">\n        <text x=\"-7.44\" y=\"-8.52\" dx=\"-0.20\" dy=\"0.20\" font-size=\"0.50\">H</text>\n      </g>\n      <g fill=\"#909090\" font-family=\"sans-serif\">\n        <text x=\"-6.04\" y=\"-6.36\" dx=\"-0.20\" dy=\"0.20\" font-size=\"0.50\">H</text>\n      </g>\n      <g fill=\"#909090\" font-family=\"sans-serif\">\n        <text x=\"-3.47\" y=\"-6.49\" dx=\"-0.20\" dy=\"0.20\" font-size=\"0.50\">H</text>\n      </g>\n      <g fill=\"#909090\" font-family=\"sans-serif\">\n        <text x=\"-10.86\" y=\"-8.08\" dx=\"-0.20\" dy=\"0.20\" font-size=\"0.50\">H</text>\n      </g>\n      <g fill=\"#909090\" font-family=\"sans-serif\">\n        <text x=\"-10.47\" y=\"-6.27\" dx=\"-0.20\" dy=\"0.20\" font-size=\"0.50\">H</text>\n      </g>\n      <g fill=\"#909090\" font-family=\"sans-serif\">\n        <text x=\"-11.19\" y=\"-7.07\" dx=\"-0.20\" dy=\"0.20\" font-size=\"0.50\">H</text>\n      </g>\n      <g fill=\"#909090\" font-family=\"sans-serif\">\n        <text x=\"-8.30\" y=\"-8.63\" dx=\"-0.20\" dy=\"0.20\" font-size=\"0.50\">H</text>\n      </g>\n      <g fill=\"#909090\" font-family=\"sans-serif\">\n        <text x=\"-7.59\" y=\"-7.83\" dx=\"-0.20\" dy=\"0.20\" font-size=\"0.50\">H</text>\n      </g>\n      <g fill=\"#909090\" font-family=\"sans-serif\">\n        <text x=\"-5.78\" y=\"-7.77\" dx=\"-0.20\" dy=\"0.20\" font-size=\"0.50\">H</text>\n      </g>\n      <g fill=\"#909090\" font-family=\"sans-serif\">\n        <text x=\"-4.06\" y=\"-5.85\" dx=\"-0.20\" dy=\"0.20\" font-size=\"0.50\">H</text>\n      </g>\n      <g fill=\"#909090\" font-family=\"sans-serif\">\n        <text x=\"-7.37\" y=\"-2.87\" dx=\"-0.20\" dy=\"0.20\" font-size=\"0.50\">H</text>\n      </g>\n      <g fill=\"#909090\" font-family=\"sans-serif\">\n        <text x=\"-9.09\" y=\"-4.79\" dx=\"-0.20\" dy=\"0.20\" font-size=\"0.50\">H</text>\n      </g>\n      <g fill=\"#909090\" font-family=\"sans-serif\">\n        <text x=\"0.91\" y=\"6.83\" dx=\"-0.20\" dy=\"0.20\" font-size=\"0.50\">H</text>\n      </g>\n      <g fill=\"#909090\" font-family=\"sans-serif\">\n        <text x=\"2.51\" y=\"5.90\" dx=\"-0.20\" dy=\"0.20\" font-size=\"0.50\">H</text>\n      </g>\n      <g fill=\"#909090\" font-family=\"sans-serif\">\n        <text x=\"1.98\" y=\"6.83\" dx=\"-0.20\" dy=\"0.20\" font-size=\"0.50\">H</text>\n      </g>\n      <g fill=\"#909090\" font-family=\"sans-serif\">\n        <text x=\"-0.40\" y=\"4.56\" dx=\"-0.20\" dy=\"0.20\" font-size=\"0.50\">H</text>\n      </g>\n      <g fill=\"#909090\" font-family=\"sans-serif\">\n        <text x=\"0.14\" y=\"3.64\" dx=\"-0.20\" dy=\"0.20\" font-size=\"0.50\">H</text>\n      </g>\n      <g fill=\"#909090\" font-family=\"sans-serif\">\n        <text x=\"-8.27\" y=\"12.79\" dx=\"-0.20\" dy=\"0.20\" font-size=\"0.50\">H</text>\n      </g>\n      <g fill=\"#909090\" font-family=\"sans-serif\">\n        <text x=\"-7.43\" y=\"14.44\" dx=\"-0.20\" dy=\"0.20\" font-size=\"0.50\">H</text>\n      </g>\n      <g fill=\"#909090\" font-family=\"sans-serif\">\n        <text x=\"-8.32\" y=\"13.86\" dx=\"-0.20\" dy=\"0.20\" font-size=\"0.50\">H</text>\n      </g>\n      <g fill=\"#909090\" font-family=\"sans-serif\">\n        <text x=\"-5.93\" y=\"11.61\" dx=\"-0.20\" dy=\"0.20\" font-size=\"0.50\">H</text>\n      </g>\n      <g fill=\"#909090\" font-family=\"sans-serif\">\n        <text x=\"-5.03\" y=\"12.19\" dx=\"-0.20\" dy=\"0.20\" font-size=\"0.50\">H</text>\n      </g>\n      <g fill=\"#909090\" font-family=\"sans-serif\">\n        <text x=\"-4.75\" y=\"14.58\" dx=\"-0.20\" dy=\"0.20\" font-size=\"0.50\">H</text>\n      </g>\n      <g fill=\"#909090\" font-family=\"sans-serif\">\n        <text x=\"-3.80\" y=\"14.10\" dx=\"-0.20\" dy=\"0.20\" font-size=\"0.50\">H</text>\n      </g>\n      <g fill=\"#909090\" font-family=\"sans-serif\">\n        <text x=\"-3.27\" y=\"11.75\" dx=\"-0.20\" dy=\"0.20\" font-size=\"0.50\">H</text>\n      </g>\n      <g fill=\"#909090\" font-family=\"sans-serif\">\n        <text x=\"-2.37\" y=\"12.33\" dx=\"-0.20\" dy=\"0.20\" font-size=\"0.50\">H</text>\n      </g>\n      <g fill=\"#909090\" font-family=\"sans-serif\">\n        <text x=\"-2.08\" y=\"14.64\" dx=\"-0.20\" dy=\"0.20\" font-size=\"0.50\">H</text>\n      </g>\n      <g fill=\"#909090\" font-family=\"sans-serif\">\n        <text x=\"0.58\" y=\"14.78\" dx=\"-0.20\" dy=\"0.20\" font-size=\"0.50\">H</text>\n      </g>\n      <g fill=\"#909090\" font-family=\"sans-serif\">\n        <text x=\"1.51\" y=\"13.35\" dx=\"-0.20\" dy=\"0.20\" font-size=\"0.50\">H</text>\n      </g>\n      <g fill=\"#909090\" font-family=\"sans-serif\">\n        <text x=\"0.30\" y=\"10.97\" dx=\"-0.20\" dy=\"0.20\" font-size=\"0.50\">H</text>\n      </g>\n      <g fill=\"#909090\" font-family=\"sans-serif\">\n        <text x=\"-1.40\" y=\"10.88\" dx=\"-0.20\" dy=\"0.20\" font-size=\"0.50\">H</text>\n      </g>\n      <g fill=\"#909090\" font-family=\"sans-serif\">\n        <text x=\"5.28\" y=\"11.55\" dx=\"-0.20\" dy=\"0.20\" font-size=\"0.50\">H</text>\n      </g>\n      <g fill=\"#909090\" font-family=\"sans-serif\">\n        <text x=\"6.37\" y=\"10.06\" dx=\"-0.20\" dy=\"0.20\" font-size=\"0.50\">H</text>\n      </g>\n      <g fill=\"#909090\" font-family=\"sans-serif\">\n        <text x=\"6.25\" y=\"11.12\" dx=\"-0.20\" dy=\"0.20\" font-size=\"0.50\">H</text>\n      </g>\n      <g fill=\"#909090\" font-family=\"sans-serif\">\n        <text x=\"4.26\" y=\"8.52\" dx=\"-0.20\" dy=\"0.20\" font-size=\"0.50\">H</text>\n      </g>\n      <g fill=\"#909090\" font-family=\"sans-serif\">\n        <text x=\"3.28\" y=\"8.96\" dx=\"-0.20\" dy=\"0.20\" font-size=\"0.50\">H</text>\n      </g>\n      <g fill=\"#909090\" font-family=\"sans-serif\">\n        <text x=\"-0.68\" y=\"2.82\" dx=\"-0.20\" dy=\"0.20\" font-size=\"0.50\">H</text>\n      </g>\n      <g fill=\"#909090\" font-family=\"sans-serif\">\n        <text x=\"-0.20\" y=\"0.43\" dx=\"-0.20\" dy=\"0.20\" font-size=\"0.50\">H</text>\n      </g>\n      <g fill=\"#909090\" font-family=\"sans-serif\">\n        <text x=\"-4.08\" y=\"2.44\" dx=\"-0.20\" dy=\"0.20\" font-size=\"0.50\">H</text>\n      </g>\n      <g fill=\"#909090\" font-family=\"sans-serif\">\n        <text x=\"-4.29\" y=\"3.54\" dx=\"-0.20\" dy=\"0.20\" font-size=\"0.50\">H</text>\n      </g>\n      <g fill=\"#909090\" font-family=\"sans-serif\">\n        <text x=\"-1.95\" y=\"-2.01\" dx=\"-0.20\" dy=\"0.20\" font-size=\"0.50\">H</text>\n      </g>\n      <g fill=\"#909090\" font-family=\"sans-serif\">\n        <text x=\"-1.01\" y=\"5.59\" dx=\"-0.20\" dy=\"0.20\" font-size=\"0.50\">H</text>\n      </g>\n      <g fill=\"#909090\" font-family=\"sans-serif\">\n        <text x=\"-4.35\" y=\"4.12\" dx=\"-0.20\" dy=\"0.20\" font-size=\"0.50\">H</text>\n      </g>\n      <g fill=\"#909090\" font-family=\"sans-serif\">\n        <text x=\"-0.71\" y=\"7.17\" dx=\"-0.20\" dy=\"0.20\" font-size=\"0.50\">H</text>\n      </g>\n      <g fill=\"#909090\" font-family=\"sans-serif\">\n        <text x=\"-1.54\" y=\"7.87\" dx=\"-0.20\" dy=\"0.20\" font-size=\"0.50\">H</text>\n      </g>\n      <g fill=\"#909090\" font-family=\"sans-serif\">\n        <text x=\"-5.62\" y=\"5.00\" dx=\"-0.20\" dy=\"0.20\" font-size=\"0.50\">H</text>\n      </g>\n      <g fill=\"#909090\" font-family=\"sans-serif\">\n        <text x=\"8.37\" y=\"-4.42\" dx=\"-0.20\" dy=\"0.20\" font-size=\"0.50\">H</text>\n      </g>\n      <g fill=\"#909090\" font-family=\"sans-serif\">\n        <text x=\"3.91\" y=\"-4.42\" dx=\"-0.20\" dy=\"0.20\" font-size=\"0.50\">H</text>\n      </g>\n      <g fill=\"#909090\" font-family=\"sans-serif\">\n        <text x=\"8.37\" y=\"-1.84\" dx=\"-0.20\" dy=\"0.20\" font-size=\"0.50\">H</text>\n      </g>\n      <g fill=\"#909090\" font-family=\"sans-serif\">\n        <text x=\"3.91\" y=\"-1.84\" dx=\"-0.20\" dy=\"0.20\" font-size=\"0.50\">H</text>\n      </g>\n      <g fill=\"#909090\" font-family=\"sans-serif\">\n        <text x=\"8.40\" y=\"-7.98\" dx=\"-0.20\" dy=\"0.20\" font-size=\"0.50\">H</text>\n      </g>\n      <g fill=\"#909090\" font-family=\"sans-serif\">\n        <text x=\"5.21\" y=\"-8.75\" dx=\"-0.20\" dy=\"0.20\" font-size=\"0.50\">H</text>\n      </g>\n      <g fill=\"#909090\" font-family=\"sans-serif\">\n        <text x=\"5.21\" y=\"-9.82\" dx=\"-0.20\" dy=\"0.20\" font-size=\"0.50\">H</text>\n      </g>\n      <g fill=\"#909090\" font-family=\"sans-serif\">\n        <text x=\"7.07\" y=\"-11.36\" dx=\"-0.20\" dy=\"0.20\" font-size=\"0.50\">H</text>\n      </g>\n      <g fill=\"#909090\" font-family=\"sans-serif\">\n        <text x=\"7.07\" y=\"-10.29\" dx=\"-0.20\" dy=\"0.20\" font-size=\"0.50\">H</text>\n      </g>\n      <g fill=\"#909090\" font-family=\"sans-serif\">\n        <text x=\"8.32\" y=\"-6.49\" dx=\"-0.20\" dy=\"0.20\" font-size=\"0.50\">H</text>\n      </g>\n      <g fill=\"#909090\" font-family=\"sans-serif\">\n        <text x=\"8.40\" y=\"0.19\" dx=\"-0.20\" dy=\"0.20\" font-size=\"0.50\">H</text>\n      </g>\n      <g fill=\"#909090\" font-family=\"sans-serif\">\n        <text x=\"7.47\" y=\"-0.35\" dx=\"-0.20\" dy=\"0.20\" font-size=\"0.50\">H</text>\n      </g>\n      <g fill=\"#909090\" font-family=\"sans-serif\">\n        <text x=\"9.66\" y=\"5.06\" dx=\"-0.20\" dy=\"0.20\" font-size=\"0.50\">H</text>\n      </g>\n      <g fill=\"#909090\" font-family=\"sans-serif\">\n        <text x=\"3.95\" y=\"7.37\" dx=\"-0.20\" dy=\"0.20\" font-size=\"0.50\">H</text>\n      </g>\n      <g fill=\"#909090\" font-family=\"sans-serif\">\n        <text x=\"9.73\" y=\"2.50\" dx=\"-0.20\" dy=\"0.20\" font-size=\"0.50\">H</text>\n      </g>\n      <g fill=\"#909090\" font-family=\"sans-serif\">\n        <text x=\"9.73\" y=\"3.57\" dx=\"-0.20\" dy=\"0.20\" font-size=\"0.50\">H</text>\n      </g>\n      <g fill=\"#909090\" font-family=\"sans-serif\">\n        <text x=\"5.29\" y=\"9.68\" dx=\"-0.20\" dy=\"0.20\" font-size=\"0.50\">H</text>\n      </g>\n      <g fill=\"#909090\" font-family=\"sans-serif\">\n        <text x=\"6.99\" y=\"9.68\" dx=\"-0.20\" dy=\"0.20\" font-size=\"0.50\">H</text>\n      </g>\n      <g font-family=\"monospace\" fill=\"black\" font-size=\"0.30\">\n        <text x=\"-0.53\" y=\"-7.84\" dx=\"0.05\" dy=\"-0.20\" font-size=\"0.30\">-»0</text>\n        <text x=\"-0.53\" y=\"-7.84\" dx=\"0.05\" dy=\"-0.20\" font-size=\"0.30\">-</text>\n        <text x=\"-4.51\" y=\"-3.03\" dx=\"0.05\" dy=\"-0.20\" font-size=\"0.30\">0»-</text>\n        <text x=\"-0.57\" y=\"11.41\" dx=\"0.05\" dy=\"-0.20\" font-size=\"0.30\">+</text>\n        <text x=\"1.48\" y=\"9.30\" dx=\"0.05\" dy=\"-0.20\" font-size=\"0.30\">-</text>\n        <text x=\"-4.59\" y=\"9.16\" dx=\"0.05\" dy=\"-0.20\" font-size=\"0.30\">-</text>\n        <text x=\"-3.22\" y=\"10.84\" dx=\"0.05\" dy=\"-0.20\" font-size=\"0.30\">-</text>\n        <text x=\"8.81\" y=\"-10.83\" dx=\"0.05\" dy=\"-0.20\" font-size=\"0.30\">-</text>\n        <text x=\"4.81\" y=\"-13.14\" dx=\"0.05\" dy=\"-0.20\" font-size=\"0.30\">-</text>\n      </g>\n    </g>\n  </g>\n</svg>",
      "text/plain": [
       "<CGRtools.containers.cgr.CGRContainer at 0x7fbc88a07a60>"
      ]
     },
     "execution_count": 234,
     "metadata": {},
     "output_type": "execute_result"
    }
   ],
   "source": [
    "cgr = ~r # CGR from reactions\n",
    "# or \n",
    "cgr = r.compose()\n",
    "print(cgr) # signature is printed out.\n",
    "#cgr.clean2d()\n",
    "cgr"
   ]
  },
  {
   "cell_type": "code",
   "execution_count": null,
   "metadata": {},
   "outputs": [],
   "source": [
    " "
   ]
  }
 ],
 "metadata": {
  "kernelspec": {
   "display_name": "Python 3.10.4 ('ML')",
   "language": "python",
   "name": "python3"
  },
  "language_info": {
   "codemirror_mode": {
    "name": "ipython",
    "version": 3
   },
   "file_extension": ".py",
   "mimetype": "text/x-python",
   "name": "python",
   "nbconvert_exporter": "python",
   "pygments_lexer": "ipython3",
   "version": "3.10.4"
  },
  "orig_nbformat": 4,
  "vscode": {
   "interpreter": {
    "hash": "e3c7ccf5b2f0839a33224e0196d2ab7dba905adc11a3cef12373559adbfec58a"
   }
  }
 },
 "nbformat": 4,
 "nbformat_minor": 2
}
